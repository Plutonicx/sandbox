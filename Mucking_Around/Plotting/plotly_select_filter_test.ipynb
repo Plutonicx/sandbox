{
 "cells": [
  {
   "cell_type": "code",
   "execution_count": 2,
   "metadata": {},
   "outputs": [],
   "source": [
    "import numpy as np\n",
    "import pandas as pd\n",
    "from plotly import graph_objs as go\n",
    "from plotly.offline import iplot, init_notebook_mode"
   ]
  },
  {
   "cell_type": "code",
   "execution_count": 145,
   "metadata": {},
   "outputs": [],
   "source": [
    "pd.options.display.max_rows = 10"
   ]
  },
  {
   "cell_type": "code",
   "execution_count": 24,
   "metadata": {},
   "outputs": [
    {
     "data": {
      "text/html": [
       "<script>requirejs.config({paths: { 'plotly': ['https://cdn.plot.ly/plotly-latest.min']},});if(!window.Plotly) {{require(['plotly'],function(plotly) {window.Plotly=plotly;});}}</script>"
      ],
      "text/vnd.plotly.v1+html": [
       "<script>requirejs.config({paths: { 'plotly': ['https://cdn.plot.ly/plotly-latest.min']},});if(!window.Plotly) {{require(['plotly'],function(plotly) {window.Plotly=plotly;});}}</script>"
      ]
     },
     "metadata": {},
     "output_type": "display_data"
    }
   ],
   "source": [
    "init_notebook_mode(connected=True)"
   ]
  },
  {
   "cell_type": "markdown",
   "metadata": {},
   "source": [
    "# Build Dataframes"
   ]
  },
  {
   "cell_type": "code",
   "execution_count": 6,
   "metadata": {},
   "outputs": [],
   "source": [
    "x_1 = np.random.normal(0,1,100) + 3\n",
    "y_1 = np.random.normal(0,0.5,100) + 2\n",
    "\n",
    "x_2 = np.random.normal(0,0.5,100)\n",
    "y_2 = np.random.normal(0,1,100)"
   ]
  },
  {
   "cell_type": "code",
   "execution_count": 14,
   "metadata": {},
   "outputs": [],
   "source": [
    "df_1 = pd.DataFrame([x_1,y_1])\n",
    "df_1 = df_1.transpose()\n",
    "\n",
    "df_2 = pd.DataFrame([x_2,y_2])\n",
    "df_2 = df_2.transpose()"
   ]
  },
  {
   "cell_type": "code",
   "execution_count": 16,
   "metadata": {},
   "outputs": [],
   "source": [
    "df_1['label'] = 'First'\n",
    "df_2['label'] = 'Second'"
   ]
  },
  {
   "cell_type": "code",
   "execution_count": 135,
   "metadata": {},
   "outputs": [],
   "source": [
    "df = pd.concat([df_1,df_2],axis=0)"
   ]
  },
  {
   "cell_type": "code",
   "execution_count": 136,
   "metadata": {},
   "outputs": [],
   "source": [
    "df.columns = ['x','y','label']\n",
    "df = df.reset_index(drop=True)"
   ]
  },
  {
   "cell_type": "code",
   "execution_count": 137,
   "metadata": {},
   "outputs": [],
   "source": [
    "filtered_df = df.copy()"
   ]
  },
  {
   "cell_type": "markdown",
   "metadata": {},
   "source": [
    "# Plot Result"
   ]
  },
  {
   "cell_type": "code",
   "execution_count": 115,
   "metadata": {},
   "outputs": [],
   "source": [
    "data = [\n",
    "    go.Scatter(\n",
    "        x = df['x'],\n",
    "        y = df['y'],\n",
    "        mode='markers'\n",
    "    )\n",
    "]"
   ]
  },
  {
   "cell_type": "code",
   "execution_count": 159,
   "metadata": {},
   "outputs": [
    {
     "data": {
      "application/vnd.jupyter.widget-view+json": {
       "model_id": "48d77ba7719f491a9546c217e03b95a0",
       "version_major": 2,
       "version_minor": 0
      },
      "text/html": [
       "<p>Failed to display Jupyter Widget of type <code>FigureWidget</code>.</p>\n",
       "<p>\n",
       "  If you're reading this message in the Jupyter Notebook or JupyterLab Notebook, it may mean\n",
       "  that the widgets JavaScript is still loading. If this message persists, it\n",
       "  likely means that the widgets JavaScript library is either not installed or\n",
       "  not enabled. See the <a href=\"https://ipywidgets.readthedocs.io/en/stable/user_install.html\">Jupyter\n",
       "  Widgets Documentation</a> for setup instructions.\n",
       "</p>\n",
       "<p>\n",
       "  If you're reading this message in another frontend (for example, a static\n",
       "  rendering on GitHub or <a href=\"https://nbviewer.jupyter.org/\">NBViewer</a>),\n",
       "  it may mean that your frontend doesn't currently support widgets.\n",
       "</p>\n"
      ],
      "text/plain": [
       "FigureWidget({\n",
       "    'data': [{'mode': 'markers',\n",
       "              'type': 'scatter',\n",
       "              'uid': 'cf7a895e-d82e-11e8-871d-bc8385288ae2',\n",
       "              'x': array([ 2.61027863e+00,  4.69825511e+00,  2.53823549e+00,  2.54669800e+00,\n",
       "                           2.56277651e+00,  3.95739597e+00,  3.50770439e+00,  2.32403938e+00,\n",
       "                           2.25713872e+00,  2.31917563e+00,  3.99307473e+00,  2.46887235e+00,\n",
       "                           5.22685567e+00,  4.20600754e+00,  4.32200926e+00,  3.81872022e+00,\n",
       "                           1.49901172e+00,  3.44116902e+00,  4.59706575e+00,  3.06445808e+00,\n",
       "                           3.88736337e+00,  2.39225068e+00,  2.24360377e+00,  3.92695786e+00,\n",
       "                           3.54569041e+00,  2.95556616e+00,  4.04277212e+00,  3.61827252e+00,\n",
       "                           2.27782805e+00,  2.83677610e+00,  2.56680631e+00,  2.00837551e+00,\n",
       "                           1.70333331e+00,  6.09977367e+00,  3.01230672e+00,  2.97292585e+00,\n",
       "                           3.97234396e+00,  3.74610071e+00,  2.41363094e+00,  2.71845705e+00,\n",
       "                           4.38888549e+00,  3.21036571e+00,  3.72719126e+00,  5.70516496e+00,\n",
       "                           1.30049356e+00,  5.14330508e+00,  3.19979557e+00,  4.55617240e+00,\n",
       "                           2.85616430e+00,  3.48695284e+00,  3.58358282e+00,  3.16674909e+00,\n",
       "                           2.11978215e+00,  1.34116697e+00,  3.96494726e+00,  3.18967172e+00,\n",
       "                           5.23892722e+00,  1.10228726e+00,  3.11737807e+00,  3.08484077e+00,\n",
       "                           3.54813922e+00,  4.14907836e+00,  3.36041679e+00,  2.11665606e+00,\n",
       "                           3.58554086e+00,  4.30383312e+00,  3.60827265e+00,  4.26958053e+00,\n",
       "                           3.52308952e+00,  3.44352854e+00,  3.57467400e+00,  3.30006005e+00,\n",
       "                           3.01939644e+00,  2.95190398e+00,  3.08252778e+00,  3.79449981e+00,\n",
       "                           2.46037434e+00,  3.30296240e+00,  1.47471364e+00,  2.85296628e+00,\n",
       "                           4.76198420e+00,  2.79385947e+00,  3.03528412e+00,  3.00000492e+00,\n",
       "                           5.94282448e+00,  4.44128792e+00,  2.08079993e+00,  3.45237202e+00,\n",
       "                           3.49500887e+00,  2.81503909e+00,  3.10893446e+00,  2.46394921e+00,\n",
       "                           4.20960681e+00,  1.11175796e+00,  3.41275730e+00,  1.17146421e+00,\n",
       "                           3.14077271e+00,  1.37892204e+00,  2.08920233e+00,  2.50454991e+00,\n",
       "                           7.70709750e-01, -4.01554417e-01,  3.91769791e-01, -1.29911342e+00,\n",
       "                          -1.94799101e-01,  3.29590167e-01, -7.02498855e-01, -1.48472000e-01,\n",
       "                           7.74745981e-01, -1.31022855e-01, -5.74912931e-01,  8.73659654e-02,\n",
       "                          -5.23738974e-01,  5.36741505e-01,  3.89562585e-01, -1.34256804e-01,\n",
       "                           2.58430579e-01,  2.50737791e-01, -1.10649093e+00,  2.10654842e-01,\n",
       "                           9.05834280e-02, -1.04161783e-01,  3.75871999e-02,  4.76400904e-01,\n",
       "                           7.19857299e-01,  3.70445339e-01,  1.02933120e-01, -3.04715967e-02,\n",
       "                           1.49179135e-01, -6.45158841e-03,  1.36070445e-01, -3.86206510e-01,\n",
       "                          -5.07332331e-01,  5.28636747e-01,  1.70094183e-01, -9.44447795e-01,\n",
       "                          -1.08514805e+00,  2.46138452e-01,  4.74240173e-01, -4.57941306e-01,\n",
       "                           8.92299095e-02, -1.05872521e+00, -2.58806181e-01,  1.11905277e+00,\n",
       "                          -5.12814039e-01,  1.41745757e-01,  1.15438693e-01, -1.35338220e+00,\n",
       "                           2.39250397e-01,  7.05704213e-01,  1.58312232e+00,  9.23933044e-01,\n",
       "                           7.76311346e-02,  2.00672464e-01,  5.38277215e-01, -2.12771311e-01,\n",
       "                           1.30226836e-01,  7.13978082e-01,  4.83428699e-01, -1.34703181e-01,\n",
       "                          -7.43226500e-01, -2.53926680e-01, -3.86743660e-01,  7.46285184e-02,\n",
       "                          -4.22462456e-01,  4.09736376e-01, -2.71607253e-01, -9.51465624e-01,\n",
       "                           3.09583570e-01, -1.79837265e-01, -6.77911807e-01,  1.10923894e-01,\n",
       "                           4.20252319e-01,  3.27160841e-01,  2.49154270e-01, -2.11424003e-01,\n",
       "                          -7.36977907e-02,  2.86312985e-01, -1.81889777e-01, -4.71200417e-02,\n",
       "                           2.29083510e-01, -2.26336065e-01, -5.25355308e-01,  5.17517902e-01,\n",
       "                           6.29155753e-01, -1.52266274e-01,  2.24999001e-01, -5.24396732e-03,\n",
       "                           1.23252644e-01, -1.99022471e-01,  5.51794268e-01,  1.81231523e-01,\n",
       "                          -5.50728799e-01, -1.80812763e-02, -6.26918375e-01, -3.95199344e-01,\n",
       "                           4.21338118e-01, -5.85720420e-02, -1.10251647e-01, -6.29086331e-01]),\n",
       "              'y': array([ 2.23149507e+00,  2.52081227e+00,  1.79483387e+00,  2.70089515e+00,\n",
       "                           2.19229625e+00,  1.61041153e+00,  2.27356219e+00,  2.14361726e+00,\n",
       "                           1.76509440e+00,  1.99240669e+00,  1.12960202e+00,  2.96091752e+00,\n",
       "                           1.37910676e+00,  1.57361184e+00,  2.47631702e+00,  1.87656644e+00,\n",
       "                           1.51916322e+00,  1.15336815e+00,  2.35731815e+00,  3.31215239e+00,\n",
       "                           2.17604593e+00,  3.18381671e+00,  2.40138062e+00,  1.83758351e+00,\n",
       "                           2.68698127e+00,  2.66960951e+00,  1.21474005e+00,  1.23240671e+00,\n",
       "                           1.75247897e+00, -5.08785500e-02,  2.85415522e+00,  2.29553140e+00,\n",
       "                           1.90634712e+00,  1.75208103e+00,  2.49599940e+00,  1.70537848e+00,\n",
       "                           1.92574461e+00,  1.28983991e+00,  1.55406369e+00,  2.68410898e+00,\n",
       "                           2.98442670e+00,  2.24088418e+00,  1.97227645e+00,  2.02231443e+00,\n",
       "                           1.74171577e+00,  9.21774007e-01,  2.86220208e+00,  1.80736792e+00,\n",
       "                           1.99449920e+00,  1.98115598e+00,  2.52875962e+00,  1.80655034e+00,\n",
       "                           1.80858039e+00,  1.66614211e+00,  1.24519989e+00,  1.91992734e+00,\n",
       "                           2.26439366e+00,  2.82960759e+00,  1.85214464e+00,  1.29934647e+00,\n",
       "                           3.00088626e+00,  2.45789686e+00,  2.29286176e+00,  2.10583490e+00,\n",
       "                           2.08196155e+00,  1.04995178e+00,  2.50141750e+00,  2.17899135e+00,\n",
       "                           4.91437698e-01,  1.27089013e+00,  1.72969888e+00,  2.50666497e+00,\n",
       "                           1.86429794e+00,  2.12140341e+00,  1.59790327e+00,  1.98215345e+00,\n",
       "                           1.64160649e+00,  1.68068118e+00,  2.31644235e+00,  2.67632083e+00,\n",
       "                           1.30108057e+00,  1.84761416e+00,  1.71041812e+00,  2.04530455e+00,\n",
       "                           1.95353242e+00,  2.45320937e+00,  1.87353722e+00,  1.93859931e+00,\n",
       "                           1.83684078e+00,  2.52352968e+00,  1.83196118e+00,  1.58724029e+00,\n",
       "                           1.55460322e+00,  1.92619130e+00,  1.81474027e+00,  2.32109863e+00,\n",
       "                           1.72391507e+00,  1.36993813e+00,  1.69029007e+00,  1.61981438e+00,\n",
       "                          -2.42314061e-01,  2.14943087e+00,  4.59156722e-01,  1.56813879e+00,\n",
       "                          -9.58227070e-04,  5.29968993e-02,  4.36001130e-01, -1.61478447e+00,\n",
       "                          -4.89771415e-01, -1.19582942e+00, -1.74730803e-01,  4.94771337e-02,\n",
       "                           1.17132144e+00, -1.48126713e+00, -7.62605934e-01,  6.86649363e-01,\n",
       "                          -2.85135237e-01,  3.62195108e-02,  2.02338931e+00,  9.76745056e-01,\n",
       "                          -9.46190683e-01, -6.20888221e-01,  1.14566136e+00, -1.21629689e-01,\n",
       "                           5.83632602e-01,  1.99833750e-01,  7.09485342e-01,  1.11471681e+00,\n",
       "                          -2.44677517e-01,  8.40673695e-01, -9.19875414e-01, -2.80551681e-01,\n",
       "                           3.11322586e-01,  2.08803486e-02, -3.02854190e-01,  8.42046927e-01,\n",
       "                           7.57859797e-02,  1.00895605e+00, -3.57962905e-01,  9.38772058e-01,\n",
       "                          -4.35637781e-01,  8.04676230e-01,  1.02500768e+00, -7.82831477e-01,\n",
       "                          -1.63885734e+00,  7.38925800e-01, -2.82236679e-01, -1.99198750e-01,\n",
       "                          -1.02883911e+00,  1.23356356e+00,  1.48975660e+00, -4.71747655e-01,\n",
       "                          -6.43971546e-01, -8.51212858e-01,  9.83097860e-01, -1.32726086e+00,\n",
       "                           2.74493831e-01, -5.51848859e-01,  4.40519762e-01,  2.05401280e-01,\n",
       "                          -2.35627420e-02,  1.63001320e+00,  6.59776983e-01, -1.18258939e+00,\n",
       "                          -1.25844698e+00,  6.99760844e-01, -1.65539985e+00,  1.16724281e+00,\n",
       "                           8.90588856e-01,  6.08161139e-01,  2.24478919e-01,  7.62476114e-01,\n",
       "                           2.28760237e-01, -2.04636744e-01,  3.98911979e-01, -1.81082016e+00,\n",
       "                          -7.53060110e-01,  1.99877116e+00,  1.20525615e+00,  1.09253576e+00,\n",
       "                           1.19093838e-01, -1.26297770e+00, -8.37524154e-01,  9.06828456e-01,\n",
       "                          -6.69665559e-01,  2.18981980e+00,  3.29996874e-01, -5.07536767e-01,\n",
       "                          -3.09635784e-01, -9.27447761e-01, -1.08629103e-01, -1.80645048e+00,\n",
       "                           1.89328049e-01, -5.42144969e-02,  1.50299191e-01,  7.20647632e-01,\n",
       "                           3.33524393e-01,  6.00965271e-01, -2.09733646e+00, -2.10910597e+00])}],\n",
       "    'layout': {}\n",
       "})"
      ]
     },
     "metadata": {},
     "output_type": "display_data"
    }
   ],
   "source": [
    "fig = go.FigureWidget(data=data)\n",
    "fig"
   ]
  },
  {
   "cell_type": "code",
   "execution_count": 160,
   "metadata": {},
   "outputs": [],
   "source": [
    "fig.layout.plot_bgcolor = '#111'\n",
    "fig.layout.paper_bgcolor = '#111'"
   ]
  },
  {
   "cell_type": "code",
   "execution_count": 161,
   "metadata": {},
   "outputs": [],
   "source": [
    "scatter = fig.data[0]\n",
    "\n",
    "def reset_colors():\n",
    "    colors = ['#a3a7e4'] * 200\n",
    "    scatter.marker.color = colors\n",
    "    scatter.marker.size = [10] * 200\n",
    "    fig.layout.hovermode = 'closest'"
   ]
  },
  {
   "cell_type": "code",
   "execution_count": 165,
   "metadata": {},
   "outputs": [],
   "source": [
    "reset_colors()"
   ]
  },
  {
   "cell_type": "code",
   "execution_count": 167,
   "metadata": {},
   "outputs": [],
   "source": [
    "x_example = []"
   ]
  },
  {
   "cell_type": "code",
   "execution_count": 163,
   "metadata": {},
   "outputs": [],
   "source": [
    "def update_point(trace, points, selector):\n",
    "    x_example.clear()\n",
    "    \n",
    "    reset_colors()\n",
    "    c = list(scatter.marker.color)\n",
    "    s = list(scatter.marker.size)\n",
    "    x = points\n",
    "    for i in points.point_inds:\n",
    "        c[i] = '#bae2be'\n",
    "        s[i] = 20\n",
    "        x_example.append(i)\n",
    "    scatter.marker.color = c\n",
    "    scatter.marker.size = s\n"
   ]
  },
  {
   "cell_type": "code",
   "execution_count": 164,
   "metadata": {},
   "outputs": [],
   "source": [
    "scatter.on_selection(update_point)"
   ]
  },
  {
   "cell_type": "markdown",
   "metadata": {},
   "source": [
    "## Run this to see results"
   ]
  },
  {
   "cell_type": "code",
   "execution_count": 172,
   "metadata": {},
   "outputs": [],
   "source": [
    "filtered_df = df.iloc[x_example]"
   ]
  },
  {
   "cell_type": "code",
   "execution_count": 173,
   "metadata": {},
   "outputs": [
    {
     "data": {
      "text/html": [
       "<div>\n",
       "<style scoped>\n",
       "    .dataframe tbody tr th:only-of-type {\n",
       "        vertical-align: middle;\n",
       "    }\n",
       "\n",
       "    .dataframe tbody tr th {\n",
       "        vertical-align: top;\n",
       "    }\n",
       "\n",
       "    .dataframe thead th {\n",
       "        text-align: right;\n",
       "    }\n",
       "</style>\n",
       "<table border=\"1\" class=\"dataframe\">\n",
       "  <thead>\n",
       "    <tr style=\"text-align: right;\">\n",
       "      <th></th>\n",
       "      <th>x</th>\n",
       "      <th>y</th>\n",
       "      <th>label</th>\n",
       "    </tr>\n",
       "  </thead>\n",
       "  <tbody>\n",
       "    <tr>\n",
       "      <th>0</th>\n",
       "      <td>2.610279</td>\n",
       "      <td>2.231495</td>\n",
       "      <td>First</td>\n",
       "    </tr>\n",
       "    <tr>\n",
       "      <th>1</th>\n",
       "      <td>4.698255</td>\n",
       "      <td>2.520812</td>\n",
       "      <td>First</td>\n",
       "    </tr>\n",
       "    <tr>\n",
       "      <th>2</th>\n",
       "      <td>2.538235</td>\n",
       "      <td>1.794834</td>\n",
       "      <td>First</td>\n",
       "    </tr>\n",
       "    <tr>\n",
       "      <th>3</th>\n",
       "      <td>2.546698</td>\n",
       "      <td>2.700895</td>\n",
       "      <td>First</td>\n",
       "    </tr>\n",
       "    <tr>\n",
       "      <th>4</th>\n",
       "      <td>2.562777</td>\n",
       "      <td>2.192296</td>\n",
       "      <td>First</td>\n",
       "    </tr>\n",
       "    <tr>\n",
       "      <th>...</th>\n",
       "      <td>...</td>\n",
       "      <td>...</td>\n",
       "      <td>...</td>\n",
       "    </tr>\n",
       "    <tr>\n",
       "      <th>96</th>\n",
       "      <td>3.140773</td>\n",
       "      <td>1.723915</td>\n",
       "      <td>First</td>\n",
       "    </tr>\n",
       "    <tr>\n",
       "      <th>97</th>\n",
       "      <td>1.378922</td>\n",
       "      <td>1.369938</td>\n",
       "      <td>First</td>\n",
       "    </tr>\n",
       "    <tr>\n",
       "      <th>98</th>\n",
       "      <td>2.089202</td>\n",
       "      <td>1.690290</td>\n",
       "      <td>First</td>\n",
       "    </tr>\n",
       "    <tr>\n",
       "      <th>99</th>\n",
       "      <td>2.504550</td>\n",
       "      <td>1.619814</td>\n",
       "      <td>First</td>\n",
       "    </tr>\n",
       "    <tr>\n",
       "      <th>150</th>\n",
       "      <td>1.583122</td>\n",
       "      <td>1.489757</td>\n",
       "      <td>Second</td>\n",
       "    </tr>\n",
       "  </tbody>\n",
       "</table>\n",
       "<p>100 rows × 3 columns</p>\n",
       "</div>"
      ],
      "text/plain": [
       "            x         y   label\n",
       "0    2.610279  2.231495   First\n",
       "1    4.698255  2.520812   First\n",
       "2    2.538235  1.794834   First\n",
       "3    2.546698  2.700895   First\n",
       "4    2.562777  2.192296   First\n",
       "..        ...       ...     ...\n",
       "96   3.140773  1.723915   First\n",
       "97   1.378922  1.369938   First\n",
       "98   2.089202  1.690290   First\n",
       "99   2.504550  1.619814   First\n",
       "150  1.583122  1.489757  Second\n",
       "\n",
       "[100 rows x 3 columns]"
      ]
     },
     "execution_count": 173,
     "metadata": {},
     "output_type": "execute_result"
    }
   ],
   "source": [
    "filtered_df"
   ]
  },
  {
   "cell_type": "code",
   "execution_count": null,
   "metadata": {},
   "outputs": [],
   "source": []
  }
 ],
 "metadata": {
  "kernelspec": {
   "display_name": "Python 3",
   "language": "python",
   "name": "python3"
  },
  "language_info": {
   "codemirror_mode": {
    "name": "ipython",
    "version": 3
   },
   "file_extension": ".py",
   "mimetype": "text/x-python",
   "name": "python",
   "nbconvert_exporter": "python",
   "pygments_lexer": "ipython3",
   "version": "3.6.4"
  }
 },
 "nbformat": 4,
 "nbformat_minor": 2
}
