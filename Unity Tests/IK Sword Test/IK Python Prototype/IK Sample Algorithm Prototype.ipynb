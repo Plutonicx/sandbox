{
 "cells": [
  {
   "cell_type": "code",
   "execution_count": 1,
   "metadata": {
    "collapsed": true
   },
   "outputs": [],
   "source": [
    "import numpy as np"
   ]
  },
  {
   "cell_type": "markdown",
   "metadata": {},
   "source": [
    "# Set up paramaters"
   ]
  },
  {
   "cell_type": "code",
   "execution_count": 48,
   "metadata": {
    "collapsed": true
   },
   "outputs": [],
   "source": [
    "l_1 = 1\n",
    "l_2 = 1"
   ]
  },
  {
   "cell_type": "markdown",
   "metadata": {},
   "source": [
    "# Initial params"
   ]
  },
  {
   "cell_type": "code",
   "execution_count": 49,
   "metadata": {
    "collapsed": true
   },
   "outputs": [],
   "source": [
    "theta_1_phi = 0\n",
    "theta_1_z = 0\n",
    "theta_1_omega = 0\n",
    "theta_2_phi = 0\n",
    "theta_2_z = 0"
   ]
  },
  {
   "cell_type": "markdown",
   "metadata": {},
   "source": [
    "# Forward Kinematics"
   ]
  },
  {
   "cell_type": "code",
   "execution_count": 50,
   "metadata": {
    "collapsed": false
   },
   "outputs": [],
   "source": [
    "x = l_1 * np.cos(theta_1_phi) * np.cos(theta_1_z) + l_2 * np.cos(theta_2_phi + theta_1_phi) * np.cos(theta_2_z + theta_1_z + theta_1_omega)\n",
    "y = l_1 * np.cos(theta_1_phi) * np.sin(theta_1_z) + l_2 * np.cos(theta_2_phi + theta_1_phi) * np.sin(theta_2_z + theta_1_z + theta_1_omega)\n",
    "z = l_1 * np.sin(theta_1_phi) + l_2 * np.sin(theta_2_phi + theta_1_phi)\n",
    "\n",
    "theta_x_phi = theta_1_phi + theta_2_phi\n",
    "theta_x_z = theta_2_z + theta_1_z + theta_1_omega"
   ]
  },
  {
   "cell_type": "code",
   "execution_count": 51,
   "metadata": {
    "collapsed": false
   },
   "outputs": [
    {
     "name": "stdout",
     "output_type": "stream",
     "text": [
      "2.0\n",
      "0.0\n",
      "0.0\n",
      "0\n",
      "0\n"
     ]
    }
   ],
   "source": [
    "print x\n",
    "print y\n",
    "print z\n",
    "print theta_x_phi\n",
    "print theta_x_z"
   ]
  },
  {
   "cell_type": "markdown",
   "metadata": {},
   "source": [
    "# Calculate the Jacobian of the above transformation"
   ]
  },
  {
   "cell_type": "code",
   "execution_count": 52,
   "metadata": {
    "collapsed": false
   },
   "outputs": [],
   "source": [
    "Jacobian = np.matrix([\n",
    "                [ -1 * l_1 * np.sin(theta_1_phi) * np.cos(theta_1_z) - l_2 * np.sin(theta_2_phi + theta_1_phi) * np.cos(theta_2_z + theta_1_z + theta_1_omega) \n",
    "                , -1 * l_1 * np.cos(theta_1_phi) * np.sin(theta_1_z) - l_2 * np.cos(theta_2_phi + theta_1_phi) * np.sin(theta_2_z + theta_1_z + theta_1_omega) \n",
    "                ,  1 * l_1 * np.cos(theta_1_phi) * np.cos(theta_1_z) - l_2 * np.cos(theta_2_phi + theta_1_phi) * np.sin(theta_2_z + theta_1_z + theta_1_omega)\n",
    "                ,  1 * l_1 * np.cos(theta_1_phi) * np.cos(theta_1_z) - l_2 * np.sin(theta_2_phi + theta_1_phi) * np.cos(theta_2_z + theta_1_z + theta_1_omega)\n",
    "                ,  1 * l_1 * np.cos(theta_1_phi) * np.cos(theta_1_z) - l_2 * np.cos(theta_2_phi + theta_1_phi) * np.sin(theta_2_z + theta_1_z + theta_1_omega) \n",
    "                ]\n",
    "        ,\n",
    "                [ -1 * l_1 * np.sin(theta_1_phi) * np.sin(theta_1_z) - l_2 * np.sin(theta_2_phi + theta_1_phi) * np.sin(theta_2_z + theta_1_z + theta_1_omega) \n",
    "                ,  1 * l_1 * np.cos(theta_1_phi) * np.cos(theta_1_z) + l_2 * np.cos(theta_2_phi + theta_1_phi) * np.cos(theta_2_z + theta_1_z + theta_1_omega) \n",
    "                ,  1 * l_1 * np.cos(theta_1_phi) * np.sin(theta_1_z) + l_2 * np.cos(theta_2_phi + theta_1_phi) * np.cos(theta_2_z + theta_1_z + theta_1_omega)\n",
    "                ,  1 * l_1 * np.cos(theta_1_phi) * np.sin(theta_1_z) - l_2 * np.sin(theta_2_phi + theta_1_phi) * np.sin(theta_2_z + theta_1_z + theta_1_omega)\n",
    "                ,  1 * l_1 * np.cos(theta_1_phi) * np.sin(theta_1_z) + l_2 * np.cos(theta_2_phi + theta_1_phi) * np.cos(theta_2_z + theta_1_z + theta_1_omega)\n",
    "                ]\n",
    "        ,\n",
    "                [  1 * l_1 * np.cos(theta_1_phi) + l_2 * np.cos(theta_2_phi + theta_1_phi) \n",
    "                ,  0\n",
    "                ,  0\n",
    "                ,  1 * l_1 * np.sin(theta_1_phi) + l_2 * np.cos(theta_2_phi + theta_1_phi) \n",
    "                ,  0\n",
    "                ]\n",
    "        ,\n",
    "                [ 1\n",
    "                , 0\n",
    "                , 0\n",
    "                , 1\n",
    "                , 0\n",
    "                ]\n",
    "        ,\n",
    "                [ 0\n",
    "                , 1\n",
    "                , 1\n",
    "                , 0\n",
    "                , 1\n",
    "                ]\n",
    "    ])"
   ]
  },
  {
   "cell_type": "code",
   "execution_count": 53,
   "metadata": {
    "collapsed": false
   },
   "outputs": [
    {
     "data": {
      "text/plain": [
       "matrix([[-0., -0.,  1.,  1.,  1.],\n",
       "        [-0.,  2.,  1.,  0.,  1.],\n",
       "        [ 2.,  0.,  0.,  1.,  0.],\n",
       "        [ 1.,  0.,  0.,  1.,  0.],\n",
       "        [ 0.,  1.,  1.,  0.,  1.]])"
      ]
     },
     "execution_count": 53,
     "metadata": {},
     "output_type": "execute_result"
    }
   ],
   "source": [
    "Jacobian"
   ]
  },
  {
   "cell_type": "markdown",
   "metadata": {},
   "source": [
    "# Get desired new coordinates from first order taylor series expansion"
   ]
  },
  {
   "cell_type": "code",
   "execution_count": 55,
   "metadata": {
    "collapsed": true
   },
   "outputs": [],
   "source": [
    "x_new = 1.98\n",
    "y_new = 0\n",
    "z_new = 0\n",
    "theta_x_phi_new = 0.02\n",
    "theta_z_phi_new = 0"
   ]
  },
  {
   "cell_type": "code",
   "execution_count": 56,
   "metadata": {
    "collapsed": false
   },
   "outputs": [],
   "source": [
    "new_coords = np.matrix(\n",
    "[\n",
    "         [x_new]\n",
    "        ,[y_new]\n",
    "        ,[z_new]\n",
    "        ,[theta_x_phi_new]\n",
    "        ,[theta_z_phi_new]\n",
    "    ])\n",
    "\n",
    "old_coords = np.matrix(\n",
    "[\n",
    "         [x]\n",
    "        ,[y]\n",
    "        ,[z]\n",
    "        ,[theta_x_phi]\n",
    "        ,[theta_x_z]\n",
    "    ])\n",
    "\n",
    "delta_position = new_coords - old_coords\n"
   ]
  },
  {
   "cell_type": "markdown",
   "metadata": {},
   "source": [
    "# Calculate pseudo inverse if matrix rank is < 5. This gives a least squares solution"
   ]
  },
  {
   "cell_type": "code",
   "execution_count": 57,
   "metadata": {
    "collapsed": false
   },
   "outputs": [],
   "source": [
    "delta_coords = np.dot(\n",
    "                 np.linalg.pinv(Jacobian)\n",
    "                ,delta_position )"
   ]
  },
  {
   "cell_type": "code",
   "execution_count": 58,
   "metadata": {
    "collapsed": false
   },
   "outputs": [
    {
     "data": {
      "text/plain": [
       "matrix([[-0.00363636],\n",
       "        [ 0.01636364],\n",
       "        [-0.01363636],\n",
       "        [ 0.01272727],\n",
       "        [-0.01363636]])"
      ]
     },
     "execution_count": 58,
     "metadata": {},
     "output_type": "execute_result"
    }
   ],
   "source": [
    "delta_coords"
   ]
  },
  {
   "cell_type": "markdown",
   "metadata": {},
   "source": [
    "# Check if this works"
   ]
  },
  {
   "cell_type": "code",
   "execution_count": 59,
   "metadata": {
    "collapsed": true
   },
   "outputs": [],
   "source": [
    "theta_1_phi += delta_coords[0]\n",
    "theta_1_z += delta_coords[1]\n",
    "theta_1_omega += delta_coords[2]\n",
    "theta_2_phi += delta_coords[3]\n",
    "theta_2_z += delta_coords[4]"
   ]
  },
  {
   "cell_type": "code",
   "execution_count": 60,
   "metadata": {
    "collapsed": true
   },
   "outputs": [],
   "source": [
    "x = l_1 * np.cos(theta_1_phi) * np.cos(theta_1_z) + l_2 * np.cos(theta_2_phi + theta_1_phi) * np.cos(theta_2_z + theta_1_z + theta_1_omega)\n",
    "y = l_1 * np.cos(theta_1_phi) * np.sin(theta_1_z) + l_2 * np.cos(theta_2_phi + theta_1_phi) * np.sin(theta_2_z + theta_1_z + theta_1_omega)\n",
    "z = l_1 * np.sin(theta_1_phi) + l_2 * np.sin(theta_2_phi + theta_1_phi)\n",
    "\n",
    "theta_x_phi = theta_1_phi + theta_2_phi\n",
    "theta_x_z = theta_2_z + theta_1_z + theta_1_omega"
   ]
  },
  {
   "cell_type": "code",
   "execution_count": 61,
   "metadata": {
    "collapsed": false
   },
   "outputs": [
    {
     "name": "stdout",
     "output_type": "stream",
     "text": [
      "[[ 1.99975868]]\n",
      "[[ 0.00545437]]\n",
      "[[ 0.00545443]]\n",
      "[[ 0.00909091]]\n",
      "[[-0.01090909]]\n"
     ]
    }
   ],
   "source": [
    "print x\n",
    "print y\n",
    "print z\n",
    "print theta_x_phi\n",
    "print theta_x_z"
   ]
  },
  {
   "cell_type": "markdown",
   "metadata": {},
   "source": [
    "# Not quite what we want but not sure if such a configuration exists.\n",
    "\n",
    "## Next will wrap this code in functions and apply to configurations that do exist so that we can scope for bugs"
   ]
  },
  {
   "cell_type": "markdown",
   "metadata": {},
   "source": []
  },
  {
   "cell_type": "code",
   "execution_count": null,
   "metadata": {
    "collapsed": true
   },
   "outputs": [],
   "source": []
  }
 ],
 "metadata": {
  "anaconda-cloud": {},
  "kernelspec": {
   "display_name": "Python [conda root]",
   "language": "python",
   "name": "conda-root-py"
  },
  "language_info": {
   "codemirror_mode": {
    "name": "ipython",
    "version": 2
   },
   "file_extension": ".py",
   "mimetype": "text/x-python",
   "name": "python",
   "nbconvert_exporter": "python",
   "pygments_lexer": "ipython2",
   "version": "2.7.12"
  }
 },
 "nbformat": 4,
 "nbformat_minor": 1
}
