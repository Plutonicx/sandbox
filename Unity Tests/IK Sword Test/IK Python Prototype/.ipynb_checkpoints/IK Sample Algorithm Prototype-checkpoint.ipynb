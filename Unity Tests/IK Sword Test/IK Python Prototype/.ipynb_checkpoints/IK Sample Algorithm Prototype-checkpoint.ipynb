{
 "cells": [
  {
   "cell_type": "code",
   "execution_count": 1,
   "metadata": {
    "collapsed": true
   },
   "outputs": [],
   "source": [
    "import numpy as np"
   ]
  },
  {
   "cell_type": "markdown",
   "metadata": {},
   "source": [
    "# Set up paramaters"
   ]
  },
  {
   "cell_type": "code",
   "execution_count": 2,
   "metadata": {
    "collapsed": true
   },
   "outputs": [],
   "source": [
    "l_1 = 1\n",
    "l_2 = 1"
   ]
  },
  {
   "cell_type": "markdown",
   "metadata": {},
   "source": [
    "# Initial params"
   ]
  },
  {
   "cell_type": "code",
   "execution_count": 111,
   "metadata": {
    "collapsed": true
   },
   "outputs": [],
   "source": [
    "theta_1_phi = 0\n",
    "theta_1_z = 0\n",
    "theta_1_omega = 0\n",
    "theta_2_phi = 0\n",
    "theta_2_z = 0"
   ]
  },
  {
   "cell_type": "markdown",
   "metadata": {},
   "source": [
    "# Forward Kinematics"
   ]
  },
  {
   "cell_type": "code",
   "execution_count": 112,
   "metadata": {
    "collapsed": false
   },
   "outputs": [],
   "source": [
    "x = l_1 * np.cos(theta_1_phi) * np.cos(theta_1_z) + l_2 * np.cos(theta_2_phi + theta_1_phi) * np.cos(theta_2_z + theta_1_z + theta_1_omega)\n",
    "y = l_1 * np.cos(theta_1_phi) * np.sin(theta_1_z) + l_2 * np.cos(theta_2_phi + theta_1_phi) * np.sin(theta_2_z + theta_1_z + theta_1_omega)\n",
    "z = l_1 * np.sin(theta_1_phi) + l_2 * np.sin(theta_2_phi + theta_1_phi)\n",
    "\n",
    "theta_x_phi = theta_1_phi + theta_2_phi\n",
    "theta_x_z = theta_2_z + theta_1_z + theta_1_omega"
   ]
  },
  {
   "cell_type": "markdown",
   "metadata": {},
   "source": [
    "# Creating this into a function"
   ]
  },
  {
   "cell_type": "code",
   "execution_count": 189,
   "metadata": {
    "collapsed": true
   },
   "outputs": [],
   "source": [
    "def forward_kinematics(theta_1_phi, theta_1_z, theta_1_omega, theta_2_phi, theta_2_z):\n",
    "    x = l_1 * np.cos(theta_1_phi) * np.cos(theta_1_z) + l_2 * np.cos(theta_2_phi + theta_1_phi) * np.cos(theta_2_z + theta_1_z + theta_1_omega)\n",
    "    y = l_1 * np.cos(theta_1_phi) * np.sin(theta_1_z) + l_2 * np.cos(theta_2_phi + theta_1_phi) * np.sin(theta_2_z + theta_1_z + theta_1_omega)\n",
    "    z = l_1 * np.sin(theta_1_phi) + l_2 * np.sin(theta_2_phi + theta_1_phi)\n",
    "\n",
    "    theta_x_phi = theta_1_phi + theta_2_phi\n",
    "    theta_x_z = theta_2_z + theta_1_z + theta_1_omega\n",
    "    return [x,y,z,theta_x_phi,theta_x_z]\n",
    "\n",
    "\n",
    "def forward_kinematics_vec(vec):\n",
    "    theta_1_phi = float(vec[0])\n",
    "    theta_1_z = float(vec[1])\n",
    "    theta_1_omega = float(vec[2])\n",
    "    theta_2_phi = float(vec[3])\n",
    "    theta_2_z = float(vec[4])\n",
    "    \n",
    "    x = l_1 * np.cos(theta_1_phi) * np.cos(theta_1_z) + l_2 * np.cos(theta_2_phi + theta_1_phi) * np.cos(theta_2_z + theta_1_z + theta_1_omega)\n",
    "    y = l_1 * np.cos(theta_1_phi) * np.sin(theta_1_z) + l_2 * np.cos(theta_2_phi + theta_1_phi) * np.sin(theta_2_z + theta_1_z + theta_1_omega)\n",
    "    z = l_1 * np.sin(theta_1_phi) + l_2 * np.sin(theta_2_phi + theta_1_phi)\n",
    "\n",
    "    theta_x_phi = theta_1_phi + theta_2_phi\n",
    "    theta_x_z = theta_2_z + theta_1_z + theta_1_omega\n",
    "    return np.transpose(np.matrix([x,y,z,theta_x_phi,theta_x_z]))"
   ]
  },
  {
   "cell_type": "code",
   "execution_count": 178,
   "metadata": {
    "collapsed": false
   },
   "outputs": [
    {
     "data": {
      "text/plain": [
       "[1.9378248434212895, 0.0, 0.0, 0.25, 0]"
      ]
     },
     "execution_count": 178,
     "metadata": {},
     "output_type": "execute_result"
    }
   ],
   "source": [
    "forward_kinematics(-0.25,0,0,0.5,0)"
   ]
  },
  {
   "cell_type": "code",
   "execution_count": 44,
   "metadata": {
    "collapsed": false
   },
   "outputs": [
    {
     "name": "stdout",
     "output_type": "stream",
     "text": [
      "2.0\n",
      "0.0\n",
      "0.0\n",
      "0\n",
      "0\n"
     ]
    }
   ],
   "source": [
    "print x\n",
    "print y\n",
    "print z\n",
    "print theta_x_phi\n",
    "print theta_x_z"
   ]
  },
  {
   "cell_type": "markdown",
   "metadata": {},
   "source": [
    "# Calculate the Jacobian of the above transformation"
   ]
  },
  {
   "cell_type": "code",
   "execution_count": 70,
   "metadata": {
    "collapsed": false
   },
   "outputs": [],
   "source": [
    "J = np.matrix([\n",
    "                [ -1 * l_1 * np.sin(theta_1_phi) * np.cos(theta_1_z) - l_2 * np.sin(theta_2_phi + theta_1_phi) * np.cos(theta_2_z + theta_1_z + theta_1_omega) \n",
    "                , -1 * l_1 * np.cos(theta_1_phi) * np.sin(theta_1_z) - l_2 * np.cos(theta_2_phi + theta_1_phi) * np.sin(theta_2_z + theta_1_z + theta_1_omega) \n",
    "                , -1 * l_2 * np.cos(theta_2_phi + theta_1_phi) * np.sin(theta_2_z + theta_1_z + theta_1_omega)\n",
    "                , -1 * l_2 * np.sin(theta_2_phi + theta_1_phi) * np.cos(theta_2_z + theta_1_z + theta_1_omega)\n",
    "                , -1 * l_2 * np.cos(theta_2_phi + theta_1_phi) * np.sin(theta_2_z + theta_1_z + theta_1_omega) \n",
    "                ]\n",
    "        ,\n",
    "                [ -1 * l_1 * np.sin(theta_1_phi) * np.sin(theta_1_z) - l_2 * np.sin(theta_2_phi + theta_1_phi) * np.sin(theta_2_z + theta_1_z + theta_1_omega) \n",
    "                ,  1 * l_1 * np.cos(theta_1_phi) * np.cos(theta_1_z) + l_2 * np.cos(theta_2_phi + theta_1_phi) * np.cos(theta_2_z + theta_1_z + theta_1_omega) \n",
    "                ,  1 * l_2 * np.cos(theta_2_phi + theta_1_phi) * np.cos(theta_2_z + theta_1_z + theta_1_omega)\n",
    "                , -1 * l_2 * np.sin(theta_2_phi + theta_1_phi) * np.sin(theta_2_z + theta_1_z + theta_1_omega)\n",
    "                ,  1 * l_2 * np.cos(theta_2_phi + theta_1_phi) * np.cos(theta_2_z + theta_1_z + theta_1_omega)\n",
    "                ]\n",
    "        ,\n",
    "                [  1 * l_1 * np.cos(theta_1_phi) + l_2 * np.cos(theta_2_phi + theta_1_phi) \n",
    "                ,  0\n",
    "                ,  0\n",
    "                ,  1 * l_1 * np.sin(theta_1_phi) + l_2 * np.cos(theta_2_phi + theta_1_phi) \n",
    "                ,  0\n",
    "                ]\n",
    "        ,\n",
    "                [ 1\n",
    "                , 0\n",
    "                , 0\n",
    "                , 1\n",
    "                , 0\n",
    "                ]\n",
    "        ,\n",
    "                [ 0\n",
    "                , 1\n",
    "                , 1\n",
    "                , 0\n",
    "                , 1\n",
    "                ]\n",
    "    ])\n",
    "    \n"
   ]
  },
  {
   "cell_type": "code",
   "execution_count": 157,
   "metadata": {
    "collapsed": true
   },
   "outputs": [],
   "source": [
    "def Jacobian_vec(vec):\n",
    "    theta_1_phi = float(vec[0])\n",
    "    theta_1_z = float(vec[1])\n",
    "    theta_1_omega = float(vec[2])\n",
    "    theta_2_phi = float(vec[3])\n",
    "    theta_2_z = float(vec[4])\n",
    "    \n",
    "    J = np.matrix([\n",
    "                [ -1 * l_1 * np.sin(theta_1_phi) * np.cos(theta_1_z) - l_2 * np.sin(theta_2_phi + theta_1_phi) * np.cos(theta_2_z + theta_1_z + theta_1_omega) \n",
    "                , -1 * l_1 * np.cos(theta_1_phi) * np.sin(theta_1_z) - l_2 * np.cos(theta_2_phi + theta_1_phi) * np.sin(theta_2_z + theta_1_z + theta_1_omega) \n",
    "                , -1 * l_2 * np.cos(theta_2_phi + theta_1_phi) * np.sin(theta_2_z + theta_1_z + theta_1_omega)\n",
    "                , -1 * l_2 * np.sin(theta_2_phi + theta_1_phi) * np.cos(theta_2_z + theta_1_z + theta_1_omega)\n",
    "                , -1 * l_2 * np.cos(theta_2_phi + theta_1_phi) * np.sin(theta_2_z + theta_1_z + theta_1_omega) \n",
    "                ]\n",
    "        ,\n",
    "                [ -1 * l_1 * np.sin(theta_1_phi) * np.sin(theta_1_z) - l_2 * np.sin(theta_2_phi + theta_1_phi) * np.sin(theta_2_z + theta_1_z + theta_1_omega) \n",
    "                ,  1 * l_1 * np.cos(theta_1_phi) * np.cos(theta_1_z) + l_2 * np.cos(theta_2_phi + theta_1_phi) * np.cos(theta_2_z + theta_1_z + theta_1_omega) \n",
    "                ,  1 * l_2 * np.cos(theta_2_phi + theta_1_phi) * np.cos(theta_2_z + theta_1_z + theta_1_omega)\n",
    "                , -1 * l_2 * np.sin(theta_2_phi + theta_1_phi) * np.sin(theta_2_z + theta_1_z + theta_1_omega)\n",
    "                ,  1 * l_2 * np.cos(theta_2_phi + theta_1_phi) * np.cos(theta_2_z + theta_1_z + theta_1_omega)\n",
    "                ]\n",
    "        ,\n",
    "                [  1 * l_1 * np.cos(theta_1_phi) + l_2 * np.cos(theta_2_phi + theta_1_phi) \n",
    "                ,  0\n",
    "                ,  0\n",
    "                ,  1 * l_1 * np.sin(theta_1_phi) + l_2 * np.cos(theta_2_phi + theta_1_phi) \n",
    "                ,  0\n",
    "                ]\n",
    "        ,\n",
    "                [ 1\n",
    "                , 0\n",
    "                , 0\n",
    "                , 1\n",
    "                , 0\n",
    "                ]\n",
    "        ,\n",
    "                [ 0\n",
    "                , 1\n",
    "                , 1\n",
    "                , 0\n",
    "                , 1\n",
    "                ]\n",
    "    ])\n",
    "    \n",
    "    return J\n",
    "\n",
    "\n",
    "\n",
    "def Jacobian(theta_1_phi, theta_1_z, theta_1_omega, theta_2_phi, theta_2_z):\n",
    "    J = np.matrix([\n",
    "                [ -1 * l_1 * np.sin(theta_1_phi) * np.cos(theta_1_z) - l_2 * np.sin(theta_2_phi + theta_1_phi) * np.cos(theta_2_z + theta_1_z + theta_1_omega) \n",
    "                , -1 * l_1 * np.cos(theta_1_phi) * np.sin(theta_1_z) - l_2 * np.cos(theta_2_phi + theta_1_phi) * np.sin(theta_2_z + theta_1_z + theta_1_omega) \n",
    "                , -1 * l_2 * np.cos(theta_2_phi + theta_1_phi) * np.sin(theta_2_z + theta_1_z + theta_1_omega)\n",
    "                , -1 * l_2 * np.sin(theta_2_phi + theta_1_phi) * np.cos(theta_2_z + theta_1_z + theta_1_omega)\n",
    "                , -1 * l_2 * np.cos(theta_2_phi + theta_1_phi) * np.sin(theta_2_z + theta_1_z + theta_1_omega) \n",
    "                ]\n",
    "        ,\n",
    "                [ -1 * l_1 * np.sin(theta_1_phi) * np.sin(theta_1_z) - l_2 * np.sin(theta_2_phi + theta_1_phi) * np.sin(theta_2_z + theta_1_z + theta_1_omega) \n",
    "                ,  1 * l_1 * np.cos(theta_1_phi) * np.cos(theta_1_z) + l_2 * np.cos(theta_2_phi + theta_1_phi) * np.cos(theta_2_z + theta_1_z + theta_1_omega) \n",
    "                ,  1 * l_2 * np.cos(theta_2_phi + theta_1_phi) * np.cos(theta_2_z + theta_1_z + theta_1_omega)\n",
    "                , -1 * l_2 * np.sin(theta_2_phi + theta_1_phi) * np.sin(theta_2_z + theta_1_z + theta_1_omega)\n",
    "                ,  1 * l_2 * np.cos(theta_2_phi + theta_1_phi) * np.cos(theta_2_z + theta_1_z + theta_1_omega)\n",
    "                ]\n",
    "        ,\n",
    "                [  1 * l_1 * np.cos(theta_1_phi) + l_2 * np.cos(theta_2_phi + theta_1_phi) \n",
    "                ,  0\n",
    "                ,  0\n",
    "                ,  1 * l_1 * np.sin(theta_1_phi) + l_2 * np.cos(theta_2_phi + theta_1_phi) \n",
    "                ,  0\n",
    "                ]\n",
    "        ,\n",
    "                [ 1\n",
    "                , 0\n",
    "                , 0\n",
    "                , 1\n",
    "                , 0\n",
    "                ]\n",
    "        ,\n",
    "                [ 0\n",
    "                , 1\n",
    "                , 1\n",
    "                , 0\n",
    "                , 1\n",
    "                ]\n",
    "    ])\n",
    "    \n",
    "    return J"
   ]
  },
  {
   "cell_type": "code",
   "execution_count": 122,
   "metadata": {
    "collapsed": false
   },
   "outputs": [
    {
     "data": {
      "text/plain": [
       "matrix([[-0., -0., -0., -0., -0.],\n",
       "        [-0.,  2.,  1., -0.,  1.],\n",
       "        [ 2.,  0.,  0.,  1.,  0.],\n",
       "        [ 1.,  0.,  0.,  1.,  0.],\n",
       "        [ 0.,  1.,  1.,  0.,  1.]])"
      ]
     },
     "execution_count": 122,
     "metadata": {},
     "output_type": "execute_result"
    }
   ],
   "source": [
    "Jacobian(0,0,0,0,0)"
   ]
  },
  {
   "cell_type": "markdown",
   "metadata": {},
   "source": [
    "# Get desired new coordinates from first order taylor series expansion"
   ]
  },
  {
   "cell_type": "code",
   "execution_count": 113,
   "metadata": {
    "collapsed": true
   },
   "outputs": [],
   "source": [
    "x_new = 1.9378248434212895\n",
    "y_new = 0\n",
    "z_new = 0\n",
    "theta_x_phi_new = 0.25\n",
    "theta_z_phi_new = 0"
   ]
  },
  {
   "cell_type": "code",
   "execution_count": 114,
   "metadata": {
    "collapsed": false
   },
   "outputs": [],
   "source": [
    "new_coords = np.matrix(\n",
    "[\n",
    "         [x_new]\n",
    "        ,[y_new]\n",
    "        ,[z_new]\n",
    "        ,[theta_x_phi_new]\n",
    "        ,[theta_z_phi_new]\n",
    "    ])\n",
    "\n",
    "old_coords = np.matrix(\n",
    "[\n",
    "         [x]\n",
    "        ,[y]\n",
    "        ,[z]\n",
    "        ,[theta_x_phi]\n",
    "        ,[theta_x_z]\n",
    "    ])\n",
    "\n",
    "delta_position = new_coords - old_coords\n"
   ]
  },
  {
   "cell_type": "markdown",
   "metadata": {},
   "source": [
    "# Calculate pseudo inverse if matrix rank is < 5. This gives a least squares solution"
   ]
  },
  {
   "cell_type": "code",
   "execution_count": 115,
   "metadata": {
    "collapsed": false
   },
   "outputs": [],
   "source": [
    "delta_coords = np.dot(\n",
    "                 np.linalg.pinv(Jacobian(0,0,0,0,0))\n",
    "                ,delta_position )"
   ]
  },
  {
   "cell_type": "code",
   "execution_count": 116,
   "metadata": {
    "collapsed": false
   },
   "outputs": [
    {
     "data": {
      "text/plain": [
       "matrix([[ -2.50000000e-01],\n",
       "        [  2.04604235e-17],\n",
       "        [ -1.42425567e-17],\n",
       "        [  5.00000000e-01],\n",
       "        [ -1.42425567e-17]])"
      ]
     },
     "execution_count": 116,
     "metadata": {},
     "output_type": "execute_result"
    }
   ],
   "source": [
    "delta_coords"
   ]
  },
  {
   "cell_type": "markdown",
   "metadata": {},
   "source": [
    "# Check if this works"
   ]
  },
  {
   "cell_type": "code",
   "execution_count": 117,
   "metadata": {
    "collapsed": true
   },
   "outputs": [],
   "source": [
    "theta_1_phi += delta_coords[0]\n",
    "theta_1_z += delta_coords[1]\n",
    "theta_1_omega += delta_coords[2]\n",
    "theta_2_phi += delta_coords[3]\n",
    "theta_2_z += delta_coords[4]"
   ]
  },
  {
   "cell_type": "code",
   "execution_count": 118,
   "metadata": {
    "collapsed": true
   },
   "outputs": [],
   "source": [
    "x = l_1 * np.cos(theta_1_phi) * np.cos(theta_1_z) + l_2 * np.cos(theta_2_phi + theta_1_phi) * np.cos(theta_2_z + theta_1_z + theta_1_omega)\n",
    "y = l_1 * np.cos(theta_1_phi) * np.sin(theta_1_z) + l_2 * np.cos(theta_2_phi + theta_1_phi) * np.sin(theta_2_z + theta_1_z + theta_1_omega)\n",
    "z = l_1 * np.sin(theta_1_phi) + l_2 * np.sin(theta_2_phi + theta_1_phi)\n",
    "\n",
    "theta_x_phi = theta_1_phi + theta_2_phi\n",
    "theta_x_z = theta_2_z + theta_1_z + theta_1_omega"
   ]
  },
  {
   "cell_type": "code",
   "execution_count": 119,
   "metadata": {
    "collapsed": false
   },
   "outputs": [
    {
     "name": "stdout",
     "output_type": "stream",
     "text": [
      "[[ 1.93782484]]\n",
      "[[  1.20491367e-17]]\n",
      "[[ -1.11022302e-16]]\n",
      "[[ 0.25]]\n",
      "[[ -8.02468996e-18]]\n"
     ]
    }
   ],
   "source": [
    "print x\n",
    "print y\n",
    "print z\n",
    "print theta_x_phi\n",
    "print theta_x_z"
   ]
  },
  {
   "cell_type": "markdown",
   "metadata": {},
   "source": [
    "# Get function to calculate new coordinates from old position"
   ]
  },
  {
   "cell_type": "code",
   "execution_count": 205,
   "metadata": {
    "collapsed": true
   },
   "outputs": [],
   "source": [
    "def get_new_rotations(new_vec, old_rotations):\n",
    "    J = Jacobian_vec(old_rotations)\n",
    "    old_vec = forward_kinematics_vec(old_rotations)\n",
    "    delta_position = new_vec - old_vec\n",
    "    delta_coords = np.dot(\n",
    "                 np.linalg.pinv(J)\n",
    "                ,delta_position )\n",
    "    return delta_coords + old_rotations\n",
    "    "
   ]
  },
  {
   "cell_type": "markdown",
   "metadata": {},
   "source": [
    "# Testing if this works"
   ]
  },
  {
   "cell_type": "code",
   "execution_count": 190,
   "metadata": {
    "collapsed": true
   },
   "outputs": [],
   "source": [
    "old_rotations = np.matrix(\n",
    "[\n",
    "         [0]\n",
    "        ,[0]\n",
    "        ,[0]\n",
    "        ,[0]\n",
    "        ,[0]\n",
    "    ])\n",
    "\n",
    "new_rotations = np.matrix(\n",
    "[\n",
    "         [-0.25]\n",
    "        ,[0]\n",
    "        ,[0]\n",
    "        ,[0.5]\n",
    "        ,[0]\n",
    "    ])\n",
    "\n",
    "new_vec = forward_kinematics_vec(new_rotations)"
   ]
  },
  {
   "cell_type": "code",
   "execution_count": 206,
   "metadata": {
    "collapsed": false
   },
   "outputs": [
    {
     "data": {
      "text/plain": [
       "matrix([[ -2.50000000e-01],\n",
       "        [  2.04604235e-17],\n",
       "        [ -1.42425567e-17],\n",
       "        [  5.00000000e-01],\n",
       "        [ -1.42425567e-17]])"
      ]
     },
     "execution_count": 206,
     "metadata": {},
     "output_type": "execute_result"
    }
   ],
   "source": [
    "get_new_rotations(new_vec,old_rotations)"
   ]
  },
  {
   "cell_type": "markdown",
   "metadata": {},
   "source": [
    "# Applying this to random rotations"
   ]
  },
  {
   "cell_type": "code",
   "execution_count": 251,
   "metadata": {
    "collapsed": false
   },
   "outputs": [
    {
     "data": {
      "text/plain": [
       "matrix([[ 1.9116333 ],\n",
       "        [ 1.25770927],\n",
       "        [ 1.56021009],\n",
       "        [ 2.3995331 ],\n",
       "        [ 2.72889401]])"
      ]
     },
     "execution_count": 251,
     "metadata": {},
     "output_type": "execute_result"
    }
   ],
   "source": [
    "old_rotations = np.transpose(np.matrix(np.random.uniform(high=3.14,low=0,size=5)))\n",
    "\n",
    "new_rotations = old_rotations + np.transpose(np.matrix(np.random.uniform(high=0.05,low=-0.05,size=5)))\n",
    "\n",
    "old_rotations"
   ]
  },
  {
   "cell_type": "markdown",
   "metadata": {},
   "source": [
    "# Get original position"
   ]
  },
  {
   "cell_type": "code",
   "execution_count": 252,
   "metadata": {
    "collapsed": false
   },
   "outputs": [
    {
     "data": {
      "text/plain": [
       "matrix([[-0.39231411],\n",
       "        [-0.05573487],\n",
       "        [ 0.02189101],\n",
       "        [ 4.3111664 ],\n",
       "        [ 5.54681336]])"
      ]
     },
     "execution_count": 252,
     "metadata": {},
     "output_type": "execute_result"
    }
   ],
   "source": [
    "forward_kinematics_vec(old_rotations)"
   ]
  },
  {
   "cell_type": "markdown",
   "metadata": {},
   "source": [
    "## original position above"
   ]
  },
  {
   "cell_type": "code",
   "execution_count": 253,
   "metadata": {
    "collapsed": false
   },
   "outputs": [
    {
     "data": {
      "text/plain": [
       "matrix([[ 1.96023975],\n",
       "        [ 1.29112812],\n",
       "        [ 1.5317501 ],\n",
       "        [ 2.39171947],\n",
       "        [ 2.76341389]])"
      ]
     },
     "execution_count": 253,
     "metadata": {},
     "output_type": "execute_result"
    }
   ],
   "source": [
    "new_rotations"
   ]
  },
  {
   "cell_type": "markdown",
   "metadata": {},
   "source": [
    "# Get new position"
   ]
  },
  {
   "cell_type": "code",
   "execution_count": 254,
   "metadata": {
    "collapsed": true
   },
   "outputs": [],
   "source": [
    "new_vec = forward_kinematics_vec(new_rotations)"
   ]
  },
  {
   "cell_type": "code",
   "execution_count": 255,
   "metadata": {
    "collapsed": false
   },
   "outputs": [
    {
     "data": {
      "text/plain": [
       "matrix([[-0.37525023],\n",
       "        [-0.13856089],\n",
       "        [-0.01062482],\n",
       "        [ 4.35195921],\n",
       "        [ 5.58629211]])"
      ]
     },
     "execution_count": 255,
     "metadata": {},
     "output_type": "execute_result"
    }
   ],
   "source": [
    "new_vec"
   ]
  },
  {
   "cell_type": "markdown",
   "metadata": {},
   "source": [
    "## new position above"
   ]
  },
  {
   "cell_type": "code",
   "execution_count": 256,
   "metadata": {
    "collapsed": false
   },
   "outputs": [
    {
     "data": {
      "text/plain": [
       "matrix([[ 1.9561142 ],\n",
       "        [ 1.29640172],\n",
       "        [ 1.56087071],\n",
       "        [ 2.39702521],\n",
       "        [ 2.72955463]])"
      ]
     },
     "execution_count": 256,
     "metadata": {},
     "output_type": "execute_result"
    }
   ],
   "source": [
    "get_new_rotations(new_vec,old_rotations)"
   ]
  },
  {
   "cell_type": "code",
   "execution_count": 266,
   "metadata": {
    "collapsed": false
   },
   "outputs": [
    {
     "data": {
      "text/plain": [
       "matrix([[ 1.96016714],\n",
       "        [ 1.29104916],\n",
       "        [ 1.56328724],\n",
       "        [ 2.3918297 ],\n",
       "        [ 2.73197116]])"
      ]
     },
     "execution_count": 266,
     "metadata": {},
     "output_type": "execute_result"
    }
   ],
   "source": [
    "old_rotations = get_new_rotations(new_vec,old_rotations)\n",
    "get_new_rotations(new_vec,old_rotations)"
   ]
  },
  {
   "cell_type": "markdown",
   "metadata": {},
   "source": [
    "# Final position below:"
   ]
  },
  {
   "cell_type": "code",
   "execution_count": 267,
   "metadata": {
    "collapsed": false
   },
   "outputs": [
    {
     "data": {
      "text/plain": [
       "matrix([[-0.37523072],\n",
       "        [-0.13849302],\n",
       "        [-0.01060376],\n",
       "        [ 4.35201465],\n",
       "        [ 5.58631487]])"
      ]
     },
     "execution_count": 267,
     "metadata": {},
     "output_type": "execute_result"
    }
   ],
   "source": [
    "forward_kinematics_vec(old_rotations)"
   ]
  },
  {
   "cell_type": "code",
   "execution_count": null,
   "metadata": {
    "collapsed": true
   },
   "outputs": [],
   "source": []
  }
 ],
 "metadata": {
  "anaconda-cloud": {},
  "kernelspec": {
   "display_name": "Python [conda root]",
   "language": "python",
   "name": "conda-root-py"
  },
  "language_info": {
   "codemirror_mode": {
    "name": "ipython",
    "version": 2
   },
   "file_extension": ".py",
   "mimetype": "text/x-python",
   "name": "python",
   "nbconvert_exporter": "python",
   "pygments_lexer": "ipython2",
   "version": "2.7.12"
  }
 },
 "nbformat": 4,
 "nbformat_minor": 1
}
