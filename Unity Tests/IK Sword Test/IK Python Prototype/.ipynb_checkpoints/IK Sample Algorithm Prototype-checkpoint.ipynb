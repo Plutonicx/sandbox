{
 "cells": [
  {
   "cell_type": "code",
   "execution_count": 1,
   "metadata": {
    "collapsed": true
   },
   "outputs": [],
   "source": [
    "import numpy as np"
   ]
  },
  {
   "cell_type": "markdown",
   "metadata": {},
   "source": [
    "# Set up paramaters"
   ]
  },
  {
   "cell_type": "code",
   "execution_count": 2,
   "metadata": {
    "collapsed": true
   },
   "outputs": [],
   "source": [
    "l_1 = 1\n",
    "l_2 = 1"
   ]
  },
  {
   "cell_type": "markdown",
   "metadata": {},
   "source": [
    "# Initial params"
   ]
  },
  {
   "cell_type": "code",
   "execution_count": 3,
   "metadata": {
    "collapsed": true
   },
   "outputs": [],
   "source": [
    "theta_1_phi = 0\n",
    "theta_1_z = 0\n",
    "theta_1_omega = 0\n",
    "theta_2_phi = 0\n",
    "theta_2_z = 0"
   ]
  },
  {
   "cell_type": "markdown",
   "metadata": {},
   "source": [
    "# Forward Kinematics"
   ]
  },
  {
   "cell_type": "code",
   "execution_count": 4,
   "metadata": {
    "collapsed": false
   },
   "outputs": [],
   "source": [
    "x = l_1 * np.sin(theta_1_phi) * np.cos(theta_1_z) + l_2 * np.sin(theta_2_phi + theta_1_phi) * np.cos(theta_2_z + theta_1_z + theta_1_omega)\n",
    "y = l_1 * np.sin(theta_1_phi) * np.sin(theta_1_z) + l_2 * np.sin(theta_2_phi + theta_1_phi) * np.sin(theta_2_z + theta_1_z + theta_1_omega)\n",
    "z = l_1 * np.cos(theta_1_phi) + l_2 * np.cos(theta_2_phi + theta_1_phi)\n",
    "\n",
    "theta_x_phi = theta_1_phi + theta_2_phi\n",
    "theta_x_z = theta_2_z + theta_1_z + theta_1_omega"
   ]
  },
  {
   "cell_type": "markdown",
   "metadata": {},
   "source": [
    "# Creating this into a function"
   ]
  },
  {
   "cell_type": "code",
   "execution_count": 5,
   "metadata": {
    "collapsed": true
   },
   "outputs": [],
   "source": [
    "def forward_kinematics(theta_1_phi, theta_1_z, theta_1_omega, theta_2_phi, theta_2_z):\n",
    "    x = l_1 * np.sin(theta_1_phi) * np.cos(theta_1_z) + l_2 * np.sin(theta_2_phi + theta_1_phi) * np.cos(theta_2_z + theta_1_z + theta_1_omega)\n",
    "    y = l_1 * np.sin(theta_1_phi) * np.sin(theta_1_z) + l_2 * np.sin(theta_2_phi + theta_1_phi) * np.sin(theta_2_z + theta_1_z + theta_1_omega)\n",
    "    z = l_1 * np.cos(theta_1_phi) + l_2 * np.cos(theta_2_phi + theta_1_phi)\n",
    "\n",
    "    theta_x_phi = theta_1_phi + theta_2_phi\n",
    "    theta_x_z = theta_2_z + theta_1_z + theta_1_omega\n",
    "    return [x,y,z,theta_x_phi,theta_x_z]\n",
    "\n",
    "\n",
    "def forward_kinematics_vec(vec):\n",
    "    theta_1_phi = float(vec[0])\n",
    "    theta_1_z = float(vec[1])\n",
    "    theta_1_omega = float(vec[2])\n",
    "    theta_2_phi = float(vec[3])\n",
    "    theta_2_z = float(vec[4])\n",
    "    \n",
    "    x = l_1 * np.sin(theta_1_phi) * np.cos(theta_1_z) + l_2 * np.sin(theta_2_phi + theta_1_phi) * np.cos(theta_2_z + theta_1_z + theta_1_omega)\n",
    "    y = l_1 * np.sin(theta_1_phi) * np.sin(theta_1_z) + l_2 * np.sin(theta_2_phi + theta_1_phi) * np.sin(theta_2_z + theta_1_z + theta_1_omega)\n",
    "    z = l_1 * np.cos(theta_1_phi) + l_2 * np.cos(theta_2_phi + theta_1_phi)\n",
    "\n",
    "    theta_x_phi = theta_1_phi + theta_2_phi\n",
    "    theta_x_z = theta_2_z + theta_1_z + theta_1_omega\n",
    "    return np.transpose(np.matrix([x,y,z,theta_x_phi,theta_x_z]))"
   ]
  },
  {
   "cell_type": "code",
   "execution_count": 6,
   "metadata": {
    "collapsed": false
   },
   "outputs": [
    {
     "data": {
      "text/plain": [
       "[0.0, 0.0, 1.9378248434212895, 0.25, 0]"
      ]
     },
     "execution_count": 6,
     "metadata": {},
     "output_type": "execute_result"
    }
   ],
   "source": [
    "forward_kinematics(-0.25,0,0,0.5,0)"
   ]
  },
  {
   "cell_type": "code",
   "execution_count": 7,
   "metadata": {
    "collapsed": false
   },
   "outputs": [
    {
     "ename": "SyntaxError",
     "evalue": "Missing parentheses in call to 'print' (<ipython-input-7-066ec7f176aa>, line 1)",
     "output_type": "error",
     "traceback": [
      "\u001b[0;36m  File \u001b[0;32m\"<ipython-input-7-066ec7f176aa>\"\u001b[0;36m, line \u001b[0;32m1\u001b[0m\n\u001b[0;31m    print x\u001b[0m\n\u001b[0m          ^\u001b[0m\n\u001b[0;31mSyntaxError\u001b[0m\u001b[0;31m:\u001b[0m Missing parentheses in call to 'print'\n"
     ]
    }
   ],
   "source": [
    "print x\n",
    "print y\n",
    "print z\n",
    "print theta_x_phi\n",
    "print theta_x_z"
   ]
  },
  {
   "cell_type": "markdown",
   "metadata": {},
   "source": [
    "# Calculate the Jacobian of the above transformation"
   ]
  },
  {
   "cell_type": "code",
   "execution_count": 8,
   "metadata": {
    "collapsed": false
   },
   "outputs": [],
   "source": [
    "J = np.matrix([\n",
    "                [  1 * l_1 * np.cos(theta_1_phi) * np.cos(theta_1_z) + l_2 * np.cos(theta_2_phi + theta_1_phi) * np.cos(theta_2_z + theta_1_z + theta_1_omega) \n",
    "                , -1 * l_1 * np.sin(theta_1_phi) * np.sin(theta_1_z) - l_2 * np.sin(theta_2_phi + theta_1_phi) * np.sin(theta_2_z + theta_1_z + theta_1_omega) \n",
    "                , -1 * l_2 * np.sin(theta_2_phi + theta_1_phi) * np.sin(theta_2_z + theta_1_z + theta_1_omega)\n",
    "                ,  1 * l_2 * np.cos(theta_2_phi + theta_1_phi) * np.cos(theta_2_z + theta_1_z + theta_1_omega)\n",
    "                , -1 * l_2 * np.sin(theta_2_phi + theta_1_phi) * np.sin(theta_2_z + theta_1_z + theta_1_omega) \n",
    "                ]\n",
    "        ,\n",
    "                [  1 * l_1 * np.cos(theta_1_phi) * np.sin(theta_1_z) + l_2 * np.cos(theta_2_phi + theta_1_phi) * np.sin(theta_2_z + theta_1_z + theta_1_omega) \n",
    "                ,  1 * l_1 * np.sin(theta_1_phi) * np.cos(theta_1_z) + l_2 * np.sin(theta_2_phi + theta_1_phi) * np.cos(theta_2_z + theta_1_z + theta_1_omega) \n",
    "                ,  1 * l_2 * np.sin(theta_2_phi + theta_1_phi) * np.cos(theta_2_z + theta_1_z + theta_1_omega)\n",
    "                ,  1 * l_2 * np.cos(theta_2_phi + theta_1_phi) * np.sin(theta_2_z + theta_1_z + theta_1_omega)\n",
    "                ,  1 * l_2 * np.sin(theta_2_phi + theta_1_phi) * np.cos(theta_2_z + theta_1_z + theta_1_omega)\n",
    "                ]\n",
    "        ,\n",
    "                [ -1 * l_1 * np.sin(theta_1_phi) - l_2 * np.sin(theta_2_phi + theta_1_phi) \n",
    "                ,  0\n",
    "                ,  0\n",
    "                ,  0 * l_1 * np.cos(theta_1_phi) - l_2 * np.sin(theta_2_phi + theta_1_phi) \n",
    "                ,  0\n",
    "                ]\n",
    "        ,\n",
    "                [ 1\n",
    "                , 0\n",
    "                , 0\n",
    "                , 1\n",
    "                , 0\n",
    "                ]\n",
    "        ,\n",
    "                [ 0\n",
    "                , 1\n",
    "                , 1\n",
    "                , 0\n",
    "                , 1\n",
    "                ]\n",
    "    ])\n",
    "    \n"
   ]
  },
  {
   "cell_type": "code",
   "execution_count": 9,
   "metadata": {
    "collapsed": true
   },
   "outputs": [],
   "source": [
    "def Jacobian_vec(vec):\n",
    "    theta_1_phi = float(vec[0])\n",
    "    theta_1_z = float(vec[1])\n",
    "    theta_1_omega = float(vec[2])\n",
    "    theta_2_phi = float(vec[3])\n",
    "    theta_2_z = float(vec[4])\n",
    "    \n",
    "    J = np.matrix([\n",
    "                [  1 * l_1 * np.cos(theta_1_phi) * np.cos(theta_1_z) + l_2 * np.cos(theta_2_phi + theta_1_phi) * np.cos(theta_2_z + theta_1_z + theta_1_omega) \n",
    "                , -1 * l_1 * np.sin(theta_1_phi) * np.sin(theta_1_z) - l_2 * np.sin(theta_2_phi + theta_1_phi) * np.sin(theta_2_z + theta_1_z + theta_1_omega) \n",
    "                , -1 * l_2 * np.sin(theta_2_phi + theta_1_phi) * np.sin(theta_2_z + theta_1_z + theta_1_omega)\n",
    "                ,  1 * l_2 * np.cos(theta_2_phi + theta_1_phi) * np.cos(theta_2_z + theta_1_z + theta_1_omega)\n",
    "                , -1 * l_2 * np.sin(theta_2_phi + theta_1_phi) * np.sin(theta_2_z + theta_1_z + theta_1_omega) \n",
    "                ]\n",
    "        ,\n",
    "                [  1 * l_1 * np.cos(theta_1_phi) * np.sin(theta_1_z) + l_2 * np.cos(theta_2_phi + theta_1_phi) * np.sin(theta_2_z + theta_1_z + theta_1_omega) \n",
    "                ,  1 * l_1 * np.sin(theta_1_phi) * np.cos(theta_1_z) + l_2 * np.sin(theta_2_phi + theta_1_phi) * np.cos(theta_2_z + theta_1_z + theta_1_omega) \n",
    "                ,  1 * l_2 * np.sin(theta_2_phi + theta_1_phi) * np.cos(theta_2_z + theta_1_z + theta_1_omega)\n",
    "                ,  1 * l_2 * np.cos(theta_2_phi + theta_1_phi) * np.sin(theta_2_z + theta_1_z + theta_1_omega)\n",
    "                ,  1 * l_2 * np.sin(theta_2_phi + theta_1_phi) * np.cos(theta_2_z + theta_1_z + theta_1_omega)\n",
    "                ]\n",
    "        ,\n",
    "                [ -1 * l_1 * np.sin(theta_1_phi) - l_2 * np.sin(theta_2_phi + theta_1_phi) \n",
    "                ,  0\n",
    "                ,  0\n",
    "                ,  0 * l_1 * np.cos(theta_1_phi) - l_2 * np.sin(theta_2_phi + theta_1_phi) \n",
    "                ,  0\n",
    "                ]\n",
    "        ,\n",
    "                [ 1\n",
    "                , 0\n",
    "                , 0\n",
    "                , 1\n",
    "                , 0\n",
    "                ]\n",
    "        ,\n",
    "                [ 0\n",
    "                , 1\n",
    "                , 1\n",
    "                , 0\n",
    "                , 1\n",
    "                ]\n",
    "    ])\n",
    "    \n",
    "    return J\n",
    "\n",
    "\n",
    "\n",
    "def Jacobian(theta_1_phi, theta_1_z, theta_1_omega, theta_2_phi, theta_2_z):\n",
    "    J = np.matrix([\n",
    "                [  1 * l_1 * np.cos(theta_1_phi) * np.cos(theta_1_z) + l_2 * np.cos(theta_2_phi + theta_1_phi) * np.cos(theta_2_z + theta_1_z + theta_1_omega) \n",
    "                , -1 * l_1 * np.sin(theta_1_phi) * np.sin(theta_1_z) - l_2 * np.sin(theta_2_phi + theta_1_phi) * np.sin(theta_2_z + theta_1_z + theta_1_omega) \n",
    "                , -1 * l_2 * np.sin(theta_2_phi + theta_1_phi) * np.sin(theta_2_z + theta_1_z + theta_1_omega)\n",
    "                ,  1 * l_2 * np.cos(theta_2_phi + theta_1_phi) * np.cos(theta_2_z + theta_1_z + theta_1_omega)\n",
    "                , -1 * l_2 * np.sin(theta_2_phi + theta_1_phi) * np.sin(theta_2_z + theta_1_z + theta_1_omega) \n",
    "                ]\n",
    "        ,\n",
    "                [  1 * l_1 * np.cos(theta_1_phi) * np.sin(theta_1_z) + l_2 * np.cos(theta_2_phi + theta_1_phi) * np.sin(theta_2_z + theta_1_z + theta_1_omega) \n",
    "                ,  1 * l_1 * np.sin(theta_1_phi) * np.cos(theta_1_z) + l_2 * np.sin(theta_2_phi + theta_1_phi) * np.cos(theta_2_z + theta_1_z + theta_1_omega) \n",
    "                ,  1 * l_2 * np.sin(theta_2_phi + theta_1_phi) * np.cos(theta_2_z + theta_1_z + theta_1_omega)\n",
    "                ,  1 * l_2 * np.cos(theta_2_phi + theta_1_phi) * np.sin(theta_2_z + theta_1_z + theta_1_omega)\n",
    "                ,  1 * l_2 * np.sin(theta_2_phi + theta_1_phi) * np.cos(theta_2_z + theta_1_z + theta_1_omega)\n",
    "                ]\n",
    "        ,\n",
    "                [ -1 * l_1 * np.sin(theta_1_phi) - l_2 * np.sin(theta_2_phi + theta_1_phi) \n",
    "                ,  0\n",
    "                ,  0\n",
    "                ,  0 * l_1 * np.cos(theta_1_phi) - l_2 * np.sin(theta_2_phi + theta_1_phi) \n",
    "                ,  0\n",
    "                ]\n",
    "        ,\n",
    "                [ 1\n",
    "                , 0\n",
    "                , 0\n",
    "                , 1\n",
    "                , 0\n",
    "                ]\n",
    "        ,\n",
    "                [ 0\n",
    "                , 1\n",
    "                , 1\n",
    "                , 0\n",
    "                , 1\n",
    "                ]\n",
    "    ])\n",
    "    \n",
    "    return J"
   ]
  },
  {
   "cell_type": "code",
   "execution_count": 10,
   "metadata": {
    "collapsed": false
   },
   "outputs": [
    {
     "data": {
      "text/plain": [
       "matrix([[ 2., -0., -0.,  1., -0.],\n",
       "        [ 0.,  0.,  0.,  0.,  0.],\n",
       "        [-0.,  0.,  0.,  0.,  0.],\n",
       "        [ 1.,  0.,  0.,  1.,  0.],\n",
       "        [ 0.,  1.,  1.,  0.,  1.]])"
      ]
     },
     "execution_count": 10,
     "metadata": {},
     "output_type": "execute_result"
    }
   ],
   "source": [
    "Jacobian(0,0,0,0,0)"
   ]
  },
  {
   "cell_type": "markdown",
   "metadata": {},
   "source": [
    "# Get desired new coordinates from first order taylor series expansion"
   ]
  },
  {
   "cell_type": "code",
   "execution_count": 11,
   "metadata": {
    "collapsed": true
   },
   "outputs": [],
   "source": [
    "x_new = 1.9378248434212895\n",
    "y_new = 0\n",
    "z_new = 0\n",
    "theta_x_phi_new = 0.25\n",
    "theta_z_phi_new = 0"
   ]
  },
  {
   "cell_type": "code",
   "execution_count": 12,
   "metadata": {
    "collapsed": false
   },
   "outputs": [],
   "source": [
    "new_coords = np.matrix(\n",
    "[\n",
    "         [x_new]\n",
    "        ,[y_new]\n",
    "        ,[z_new]\n",
    "        ,[theta_x_phi_new]\n",
    "        ,[theta_z_phi_new]\n",
    "    ])\n",
    "\n",
    "old_coords = np.matrix(\n",
    "[\n",
    "         [x]\n",
    "        ,[y]\n",
    "        ,[z]\n",
    "        ,[theta_x_phi]\n",
    "        ,[theta_x_z]\n",
    "    ])\n",
    "\n",
    "delta_position = new_coords - old_coords\n"
   ]
  },
  {
   "cell_type": "markdown",
   "metadata": {},
   "source": [
    "# Calculate pseudo inverse if matrix rank is < 5. This gives a least squares solution"
   ]
  },
  {
   "cell_type": "code",
   "execution_count": 13,
   "metadata": {
    "collapsed": false
   },
   "outputs": [],
   "source": [
    "delta_coords = np.dot(\n",
    "                 np.linalg.pinv(Jacobian(0,0,0,0,0))\n",
    "                ,delta_position )"
   ]
  },
  {
   "cell_type": "code",
   "execution_count": 14,
   "metadata": {
    "collapsed": false
   },
   "outputs": [
    {
     "data": {
      "text/plain": [
       "matrix([[ 1.68782484],\n",
       "        [ 0.        ],\n",
       "        [ 0.        ],\n",
       "        [-1.43782484],\n",
       "        [ 0.        ]])"
      ]
     },
     "execution_count": 14,
     "metadata": {},
     "output_type": "execute_result"
    }
   ],
   "source": [
    "delta_coords"
   ]
  },
  {
   "cell_type": "markdown",
   "metadata": {},
   "source": [
    "# Check if this works"
   ]
  },
  {
   "cell_type": "code",
   "execution_count": 15,
   "metadata": {
    "collapsed": true
   },
   "outputs": [],
   "source": [
    "theta_1_phi += delta_coords[0]\n",
    "theta_1_z += delta_coords[1]\n",
    "theta_1_omega += delta_coords[2]\n",
    "theta_2_phi += delta_coords[3]\n",
    "theta_2_z += delta_coords[4]"
   ]
  },
  {
   "cell_type": "code",
   "execution_count": 16,
   "metadata": {
    "collapsed": true
   },
   "outputs": [],
   "source": [
    "x = l_1 * np.cos(theta_1_phi) * np.cos(theta_1_z) + l_2 * np.cos(theta_2_phi + theta_1_phi) * np.cos(theta_2_z + theta_1_z + theta_1_omega)\n",
    "y = l_1 * np.cos(theta_1_phi) * np.sin(theta_1_z) + l_2 * np.cos(theta_2_phi + theta_1_phi) * np.sin(theta_2_z + theta_1_z + theta_1_omega)\n",
    "z = l_1 * np.sin(theta_1_phi) + l_2 * np.sin(theta_2_phi + theta_1_phi)\n",
    "\n",
    "theta_x_phi = theta_1_phi + theta_2_phi\n",
    "theta_x_z = theta_2_z + theta_1_z + theta_1_omega"
   ]
  },
  {
   "cell_type": "code",
   "execution_count": 18,
   "metadata": {
    "collapsed": false
   },
   "outputs": [
    {
     "name": "stdout",
     "output_type": "stream",
     "text": [
      "[[ 0.85215085]]\n",
      "[[ 0.]]\n",
      "[[ 1.24056393]]\n",
      "[[ 0.25]]\n",
      "[[ 0.]]\n"
     ]
    }
   ],
   "source": [
    "print(x)\n",
    "print(y)\n",
    "print(z)\n",
    "print(theta_x_phi)\n",
    "print(theta_x_z)"
   ]
  },
  {
   "cell_type": "markdown",
   "metadata": {},
   "source": [
    "# Get function to calculate new coordinates from old position"
   ]
  },
  {
   "cell_type": "code",
   "execution_count": 19,
   "metadata": {
    "collapsed": true
   },
   "outputs": [],
   "source": [
    "def get_new_rotations(new_vec, old_rotations):\n",
    "    J = Jacobian_vec(old_rotations)\n",
    "    old_vec = forward_kinematics_vec(old_rotations)\n",
    "    delta_position = new_vec - old_vec\n",
    "    delta_coords = np.dot(\n",
    "                 np.linalg.pinv(J)\n",
    "                ,delta_position )\n",
    "    return delta_coords + old_rotations\n",
    "    "
   ]
  },
  {
   "cell_type": "markdown",
   "metadata": {},
   "source": [
    "# Testing if this works"
   ]
  },
  {
   "cell_type": "code",
   "execution_count": 20,
   "metadata": {
    "collapsed": true
   },
   "outputs": [],
   "source": [
    "old_rotations = np.matrix(\n",
    "[\n",
    "         [0]\n",
    "        ,[0]\n",
    "        ,[0]\n",
    "        ,[0]\n",
    "        ,[0]\n",
    "    ])\n",
    "\n",
    "new_rotations = np.matrix(\n",
    "[\n",
    "         [-0.25]\n",
    "        ,[0]\n",
    "        ,[0]\n",
    "        ,[0.5]\n",
    "        ,[0]\n",
    "    ])\n",
    "\n",
    "new_vec = forward_kinematics_vec(new_rotations)"
   ]
  },
  {
   "cell_type": "code",
   "execution_count": 21,
   "metadata": {
    "collapsed": false
   },
   "outputs": [
    {
     "data": {
      "text/plain": [
       "matrix([[-0.25],\n",
       "        [ 0.  ],\n",
       "        [ 0.  ],\n",
       "        [ 0.5 ],\n",
       "        [ 0.  ]])"
      ]
     },
     "execution_count": 21,
     "metadata": {},
     "output_type": "execute_result"
    }
   ],
   "source": [
    "get_new_rotations(new_vec,old_rotations)"
   ]
  },
  {
   "cell_type": "markdown",
   "metadata": {},
   "source": [
    "# Applying this to random rotations\n",
    "\n",
    "# Start here"
   ]
  },
  {
   "cell_type": "code",
   "execution_count": 22,
   "metadata": {
    "collapsed": false
   },
   "outputs": [
    {
     "data": {
      "text/plain": [
       "matrix([[ 1.73509708],\n",
       "        [ 0.21154072],\n",
       "        [ 1.4096156 ],\n",
       "        [ 1.85375987],\n",
       "        [ 2.10593827]])"
      ]
     },
     "execution_count": 22,
     "metadata": {},
     "output_type": "execute_result"
    }
   ],
   "source": [
    "old_rotations = np.transpose(np.matrix(np.random.uniform(high=3.14,low=0,size=5)))\n",
    "\n",
    "new_rotations = old_rotations + np.transpose(np.matrix(np.random.uniform(high=1,low=-1,size=5)))\n",
    "\n",
    "old_rotations"
   ]
  },
  {
   "cell_type": "markdown",
   "metadata": {},
   "source": [
    "# Get original position"
   ]
  },
  {
   "cell_type": "code",
   "execution_count": 23,
   "metadata": {
    "collapsed": false
   },
   "outputs": [
    {
     "data": {
      "text/plain": [
       "matrix([[ 1.32500276],\n",
       "        [ 0.44614639],\n",
       "        [-1.06519621],\n",
       "        [ 3.58885695],\n",
       "        [ 3.72709459]])"
      ]
     },
     "execution_count": 23,
     "metadata": {},
     "output_type": "execute_result"
    }
   ],
   "source": [
    "forward_kinematics_vec(old_rotations)"
   ]
  },
  {
   "cell_type": "markdown",
   "metadata": {},
   "source": [
    "## original position above"
   ]
  },
  {
   "cell_type": "code",
   "execution_count": 24,
   "metadata": {
    "collapsed": false
   },
   "outputs": [
    {
     "data": {
      "text/plain": [
       "matrix([[ 2.20355622],\n",
       "        [-0.26384326],\n",
       "        [ 1.04377915],\n",
       "        [ 2.73367679],\n",
       "        [ 1.1378632 ]])"
      ]
     },
     "execution_count": 24,
     "metadata": {},
     "output_type": "execute_result"
    }
   ],
   "source": [
    "new_rotations"
   ]
  },
  {
   "cell_type": "markdown",
   "metadata": {},
   "source": [
    "# Get new position"
   ]
  },
  {
   "cell_type": "code",
   "execution_count": 25,
   "metadata": {
    "collapsed": true
   },
   "outputs": [],
   "source": [
    "new_vec = forward_kinematics_vec(new_rotations)"
   ]
  },
  {
   "cell_type": "code",
   "execution_count": 26,
   "metadata": {
    "collapsed": false
   },
   "outputs": [
    {
     "data": {
      "text/plain": [
       "matrix([[ 1.11001342],\n",
       "        [-1.12702829],\n",
       "        [-0.36841826],\n",
       "        [ 4.93723301],\n",
       "        [ 1.91779908]])"
      ]
     },
     "execution_count": 26,
     "metadata": {},
     "output_type": "execute_result"
    }
   ],
   "source": [
    "new_vec"
   ]
  },
  {
   "cell_type": "markdown",
   "metadata": {},
   "source": [
    "## new position above"
   ]
  },
  {
   "cell_type": "markdown",
   "metadata": {},
   "source": [
    "# Now loop through"
   ]
  },
  {
   "cell_type": "code",
   "execution_count": 27,
   "metadata": {
    "collapsed": false
   },
   "outputs": [
    {
     "data": {
      "text/plain": [
       "0.97853177913276024"
      ]
     },
     "execution_count": 27,
     "metadata": {},
     "output_type": "execute_result"
    }
   ],
   "source": [
    "old_rotations = get_new_rotations(new_vec,old_rotations)\n",
    "error = np.linalg.norm(forward_kinematics_vec(old_rotations) - new_vec)\n",
    "error"
   ]
  },
  {
   "cell_type": "code",
   "execution_count": 28,
   "metadata": {
    "collapsed": false
   },
   "outputs": [],
   "source": [
    "cnt = 0\n",
    "error = 1\n",
    "\n",
    "while (cnt < 10 and error > 0.01): \n",
    "\n",
    "    old_rotations = get_new_rotations(new_vec,old_rotations)\n",
    "    error = np.linalg.norm(forward_kinematics_vec(old_rotations) - new_vec)"
   ]
  },
  {
   "cell_type": "markdown",
   "metadata": {},
   "source": [
    "# Final position below:"
   ]
  },
  {
   "cell_type": "code",
   "execution_count": 29,
   "metadata": {
    "collapsed": false
   },
   "outputs": [
    {
     "data": {
      "text/plain": [
       "matrix([[ 1.10765487],\n",
       "        [-1.1212505 ],\n",
       "        [-0.36957928],\n",
       "        [ 4.93887067],\n",
       "        [ 1.91589124]])"
      ]
     },
     "execution_count": 29,
     "metadata": {},
     "output_type": "execute_result"
    }
   ],
   "source": [
    "forward_kinematics_vec(old_rotations)"
   ]
  },
  {
   "cell_type": "code",
   "execution_count": 30,
   "metadata": {
    "collapsed": false
   },
   "outputs": [
    {
     "data": {
      "text/plain": [
       "0.0068275378650806077"
      ]
     },
     "execution_count": 30,
     "metadata": {},
     "output_type": "execute_result"
    }
   ],
   "source": [
    "error = np.linalg.norm(forward_kinematics_vec(old_rotations) - new_vec)\n",
    "error"
   ]
  },
  {
   "cell_type": "code",
   "execution_count": 308,
   "metadata": {
    "collapsed": true
   },
   "outputs": [],
   "source": []
  },
  {
   "cell_type": "code",
   "execution_count": null,
   "metadata": {
    "collapsed": true
   },
   "outputs": [],
   "source": []
  }
 ],
 "metadata": {
  "anaconda-cloud": {},
  "kernelspec": {
   "display_name": "Python 3",
   "language": "python",
   "name": "python3"
  },
  "language_info": {
   "codemirror_mode": {
    "name": "ipython",
    "version": 3
   },
   "file_extension": ".py",
   "mimetype": "text/x-python",
   "name": "python",
   "nbconvert_exporter": "python",
   "pygments_lexer": "ipython3",
   "version": "3.6.0"
  }
 },
 "nbformat": 4,
 "nbformat_minor": 1
}
