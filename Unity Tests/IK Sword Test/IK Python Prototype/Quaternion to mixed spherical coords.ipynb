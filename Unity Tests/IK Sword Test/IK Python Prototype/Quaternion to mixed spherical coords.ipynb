{
 "cells": [
  {
   "cell_type": "code",
   "execution_count": 4,
   "metadata": {
    "collapsed": false
   },
   "outputs": [],
   "source": [
    "import numpy as np\n",
    "import quaternions"
   ]
  },
  {
   "cell_type": "code",
   "execution_count": 6,
   "metadata": {
    "collapsed": false
   },
   "outputs": [],
   "source": [
    "w = 0.7\n",
    "x = 0.2\n",
    "y = 0.1\n",
    "z = 0.2\n",
    "\n",
    "\n",
    "q = quaternions.Quaternion(w,x,y,z)\n"
   ]
  },
  {
   "cell_type": "code",
   "execution_count": 7,
   "metadata": {
    "collapsed": true
   },
   "outputs": [],
   "source": [
    "q = q / q.norm()"
   ]
  },
  {
   "cell_type": "markdown",
   "metadata": {},
   "source": [
    "# Apply quaternion rotation to the z axis"
   ]
  },
  {
   "cell_type": "code",
   "execution_count": 43,
   "metadata": {
    "collapsed": true
   },
   "outputs": [],
   "source": [
    "z_vec = [0\n",
    "        ,0\n",
    "        ,1]\n",
    "\n",
    "x_vec = [1\n",
    "        ,0\n",
    "        ,0]\n",
    "\n",
    "y_vec = [0\n",
    "        ,1\n",
    "        ,0]"
   ]
  },
  {
   "cell_type": "code",
   "execution_count": 11,
   "metadata": {
    "collapsed": true
   },
   "outputs": [],
   "source": [
    "z_quat = quaternions.Quaternion(0,0,0,1)"
   ]
  },
  {
   "cell_type": "code",
   "execution_count": 13,
   "metadata": {
    "collapsed": true
   },
   "outputs": [],
   "source": [
    "direction_quat = q * z_quat * q.inverse()"
   ]
  },
  {
   "cell_type": "code",
   "execution_count": 14,
   "metadata": {
    "collapsed": true
   },
   "outputs": [],
   "source": [
    "direction = [direction_quat.x, direction_quat.y, direction_quat.z]"
   ]
  },
  {
   "cell_type": "code",
   "execution_count": 15,
   "metadata": {
    "collapsed": false
   },
   "outputs": [
    {
     "data": {
      "text/plain": [
       "[0.3793103448275863, -0.4137931034482759, 0.8275862068965517]"
      ]
     },
     "execution_count": 15,
     "metadata": {},
     "output_type": "execute_result"
    }
   ],
   "source": [
    "direction"
   ]
  },
  {
   "cell_type": "code",
   "execution_count": 18,
   "metadata": {
    "collapsed": false
   },
   "outputs": [],
   "source": [
    "cross = np.cross(z_vec, direction)"
   ]
  },
  {
   "cell_type": "code",
   "execution_count": 29,
   "metadata": {
    "collapsed": false
   },
   "outputs": [],
   "source": [
    "theta = np.arccos(np.linalg.norm(np.dot(z_vec,direction)))"
   ]
  },
  {
   "cell_type": "code",
   "execution_count": 25,
   "metadata": {
    "collapsed": true
   },
   "outputs": [],
   "source": [
    "direction_z_proj = [direction[0], direction[1], 0]\n",
    "\n",
    "direction_z_proj = direction_z_proj / np.linalg.norm(direction_z_proj)"
   ]
  },
  {
   "cell_type": "code",
   "execution_count": 31,
   "metadata": {
    "collapsed": false
   },
   "outputs": [],
   "source": [
    "phi = np.arccos(np.linalg.norm(np.dot(x_vec, direction_z_proj)))"
   ]
  },
  {
   "cell_type": "code",
   "execution_count": 45,
   "metadata": {
    "collapsed": false
   },
   "outputs": [],
   "source": [
    "if np.dot(y_vec,direction_z_proj) < 0:\n",
    "    phi = 2*np.pi - phi"
   ]
  },
  {
   "cell_type": "markdown",
   "metadata": {},
   "source": [
    "# Now use the cross to build up the quaternion product\n",
    "$ q = w x \\implies w = q x^{-1} $"
   ]
  },
  {
   "cell_type": "code",
   "execution_count": 47,
   "metadata": {
    "collapsed": true
   },
   "outputs": [],
   "source": [
    "cross_norm = cross / np.linalg.norm(cross)\n",
    "x_quat = quaternions.Quaternion( np.cos(theta/2), np.sin(theta/2)*cross_norm[0], np.sin(theta/2)*cross_norm[1], np.sin(theta/2)*cross_norm[2] )"
   ]
  },
  {
   "cell_type": "code",
   "execution_count": 49,
   "metadata": {
    "collapsed": true
   },
   "outputs": [],
   "source": [
    "w_quat = q * x_quat.inverse()"
   ]
  },
  {
   "cell_type": "code",
   "execution_count": 53,
   "metadata": {
    "collapsed": true
   },
   "outputs": [],
   "source": [
    "cos_omega_over_2 = w_quat.w"
   ]
  },
  {
   "cell_type": "code",
   "execution_count": 54,
   "metadata": {
    "collapsed": false
   },
   "outputs": [],
   "source": [
    "omega = np.arccos(cos_omega_over_2) * 2"
   ]
  },
  {
   "cell_type": "code",
   "execution_count": 57,
   "metadata": {
    "collapsed": false
   },
   "outputs": [
    {
     "name": "stdout",
     "output_type": "stream",
     "text": [
      "0.596002439188\n",
      "5.45433624839\n",
      "0.55659931801\n"
     ]
    }
   ],
   "source": [
    "print (theta)\n",
    "print (phi)\n",
    "print (omega)"
   ]
  },
  {
   "cell_type": "markdown",
   "metadata": {},
   "source": [
    "# Combining these"
   ]
  },
  {
   "cell_type": "code",
   "execution_count": 58,
   "metadata": {
    "collapsed": true
   },
   "outputs": [],
   "source": [
    "def get_mixed_sphericals(quat_vec):\n",
    "    q = quaternions.Quaternion(quat_vec[0],quat_vec[1],quat_vec[2],quat_vec[3])\n",
    "    q = q / q.norm()\n",
    "    \n",
    "    z_vec = [0\n",
    "            ,0\n",
    "            ,1]\n",
    "\n",
    "    x_vec = [1\n",
    "            ,0\n",
    "            ,0]\n",
    "\n",
    "    y_vec = [0\n",
    "            ,1\n",
    "            ,0]\n",
    "    \n",
    "    z_quat = quaternions.Quaternion(0,0,0,1)\n",
    "    direction_quat = q * z_quat * q.inverse()\n",
    "    \n",
    "    # get theta\n",
    "    direction = [direction_quat.x, direction_quat.y, direction_quat.z]\n",
    "    cross = np.cross(z_vec, direction)\n",
    "    cross_norm = cross / np.linalg.norm(cross)\n",
    "    \n",
    "    theta = np.arccos(np.linalg.norm(np.dot(z_vec,direction)))\n",
    "    \n",
    "    # get phi\n",
    "    direction_z_proj = [direction[0], direction[1], 0]\n",
    "    direction_z_proj = direction_z_proj / np.linalg.norm(direction_z_proj)\n",
    "    \n",
    "    phi = np.arccos(np.linalg.norm(np.dot(x_vec, direction_z_proj)))\n",
    "    if np.dot(y_vec,direction_z_proj) < 0:\n",
    "        phi = 2*np.pi - phi\n",
    "        \n",
    "    # get omega\n",
    "    x_quat = quaternions.Quaternion( np.cos(theta/2), np.sin(theta/2)*cross_norm[0], np.sin(theta/2)*cross_norm[1], np.sin(theta/2)*cross_norm[2] )\n",
    "    w_quat = q * x_quat.inverse()\n",
    "    \n",
    "    omega = np.arccos(w_quat.w) * 2\n",
    "    \n",
    "    return[theta, phi, omega]"
   ]
  },
  {
   "cell_type": "code",
   "execution_count": 59,
   "metadata": {
    "collapsed": false
   },
   "outputs": [
    {
     "data": {
      "text/plain": [
       "[0.57116849856553753, 5.5809283756705792, 0.80978357257016675]"
      ]
     },
     "execution_count": 59,
     "metadata": {},
     "output_type": "execute_result"
    }
   ],
   "source": [
    "get_mixed_sphericals([0.7, 0.2, 0.1, 0.3])"
   ]
  },
  {
   "cell_type": "code",
   "execution_count": null,
   "metadata": {
    "collapsed": true
   },
   "outputs": [],
   "source": []
  }
 ],
 "metadata": {
  "kernelspec": {
   "display_name": "Python 3",
   "language": "python",
   "name": "python3"
  },
  "language_info": {
   "codemirror_mode": {
    "name": "ipython",
    "version": 3
   },
   "file_extension": ".py",
   "mimetype": "text/x-python",
   "name": "python",
   "nbconvert_exporter": "python",
   "pygments_lexer": "ipython3",
   "version": "3.6.0"
  }
 },
 "nbformat": 4,
 "nbformat_minor": 2
}
