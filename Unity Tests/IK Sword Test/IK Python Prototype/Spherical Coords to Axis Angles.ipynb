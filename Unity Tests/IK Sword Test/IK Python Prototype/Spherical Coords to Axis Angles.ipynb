{
 "cells": [
  {
   "cell_type": "code",
   "execution_count": 25,
   "metadata": {
    "collapsed": true
   },
   "outputs": [],
   "source": [
    "import numpy as np"
   ]
  },
  {
   "cell_type": "code",
   "execution_count": 10,
   "metadata": {
    "collapsed": false
   },
   "outputs": [],
   "source": [
    "import quaternions\n",
    "# budget library since the numpy version doens't seem to have support for python 3.6"
   ]
  },
  {
   "cell_type": "markdown",
   "metadata": {},
   "source": [
    "# Set up coords"
   ]
  },
  {
   "cell_type": "code",
   "execution_count": 29,
   "metadata": {
    "collapsed": false
   },
   "outputs": [],
   "source": [
    "theta = 15 * np.pi / 180\n",
    "phi = 45 * np.pi / 180\n",
    "omega = 10 * np.pi / 180"
   ]
  },
  {
   "cell_type": "code",
   "execution_count": 46,
   "metadata": {
    "collapsed": false
   },
   "outputs": [],
   "source": [
    "x = [ np.sin(theta) * np.cos(phi)\n",
    "    ,np.sin(theta) * np.sin(phi)\n",
    "    ,np.cos(theta)]\n",
    "              "
   ]
  },
  {
   "cell_type": "code",
   "execution_count": 47,
   "metadata": {
    "collapsed": false
   },
   "outputs": [],
   "source": [
    "z = [0\n",
    "    ,0\n",
    "    ,1]"
   ]
  },
  {
   "cell_type": "markdown",
   "metadata": {},
   "source": [
    "# Get vector orthogonal to both"
   ]
  },
  {
   "cell_type": "code",
   "execution_count": 48,
   "metadata": {
    "collapsed": false
   },
   "outputs": [],
   "source": [
    "q_vec = np.cross(z,x)"
   ]
  },
  {
   "cell_type": "code",
   "execution_count": 49,
   "metadata": {
    "collapsed": true
   },
   "outputs": [],
   "source": [
    "#q_angle = np.arcsin(np.linalg.norm(q_vec))"
   ]
  },
  {
   "cell_type": "markdown",
   "metadata": {},
   "source": [
    "# Normalise it"
   ]
  },
  {
   "cell_type": "code",
   "execution_count": 74,
   "metadata": {
    "collapsed": false
   },
   "outputs": [],
   "source": [
    "q_vec = q_vec / np.linalg.norm(q_vec)"
   ]
  },
  {
   "cell_type": "markdown",
   "metadata": {},
   "source": [
    "# Get first quaternion rotation"
   ]
  },
  {
   "cell_type": "code",
   "execution_count": 93,
   "metadata": {
    "collapsed": false
   },
   "outputs": [],
   "source": [
    "q = quaternions.Quaternion( np.cos(theta/2) , np.sin(theta/2)*q_vec[0] , np.sin(theta/2)*q_vec[1], np.sin(theta/2)*q_vec[2])"
   ]
  },
  {
   "cell_type": "markdown",
   "metadata": {},
   "source": [
    "# Get the quaternion representation of a vector pointing in the z-axis"
   ]
  },
  {
   "cell_type": "code",
   "execution_count": 54,
   "metadata": {
    "collapsed": true
   },
   "outputs": [],
   "source": [
    "z_quat = quaternions.Quaternion(0,0,0,1)"
   ]
  },
  {
   "cell_type": "markdown",
   "metadata": {},
   "source": [
    "# Rotate it and check the results"
   ]
  },
  {
   "cell_type": "code",
   "execution_count": 79,
   "metadata": {
    "collapsed": false
   },
   "outputs": [],
   "source": [
    "rotation = q * z_quat * q.inverse()"
   ]
  },
  {
   "cell_type": "code",
   "execution_count": 88,
   "metadata": {
    "collapsed": false
   },
   "outputs": [
    {
     "name": "stdout",
     "output_type": "stream",
     "text": [
      "0.183012701892\n",
      "0.183012701892\n",
      "0.965925826289\n"
     ]
    }
   ],
   "source": [
    "print(rotation.x)\n",
    "print(rotation.y)\n",
    "print(rotation.z)"
   ]
  },
  {
   "cell_type": "markdown",
   "metadata": {},
   "source": [
    "# Build the final quaternion (from first rotating along the axis and then rotating around the first vector by omega) and test it."
   ]
  },
  {
   "cell_type": "code",
   "execution_count": 89,
   "metadata": {
    "collapsed": false
   },
   "outputs": [],
   "source": [
    "r = quaternions.Quaternion( np.cos(omega/2) , np.sin(omega/2)*x[0] , np.sin(omega/2)*x[1], np.sin(omega/2)*x[2])"
   ]
  },
  {
   "cell_type": "code",
   "execution_count": 90,
   "metadata": {
    "collapsed": true
   },
   "outputs": [],
   "source": [
    "final_rotation = r*q"
   ]
  },
  {
   "cell_type": "code",
   "execution_count": 91,
   "metadata": {
    "collapsed": true
   },
   "outputs": [],
   "source": [
    "rotation = final_rotation * z_quat * final_rotation.inverse()"
   ]
  },
  {
   "cell_type": "code",
   "execution_count": 92,
   "metadata": {
    "collapsed": false
   },
   "outputs": [
    {
     "name": "stdout",
     "output_type": "stream",
     "text": [
      "0.183012701892\n",
      "0.183012701892\n",
      "0.965925826289\n"
     ]
    }
   ],
   "source": [
    "print(rotation.x)\n",
    "print(rotation.y)\n",
    "print(rotation.z)"
   ]
  },
  {
   "cell_type": "markdown",
   "metadata": {},
   "source": [
    "# In general"
   ]
  },
  {
   "cell_type": "code",
   "execution_count": 98,
   "metadata": {
    "collapsed": true
   },
   "outputs": [],
   "source": [
    "def apply_transform_from_mixed_spherical_coords(theta, phi, omega, vec):\n",
    "    x = [ np.sin(theta) * np.cos(phi)\n",
    "    ,np.sin(theta) * np.sin(phi)\n",
    "    ,np.cos(theta)]\n",
    "    \n",
    "    z = [0\n",
    "    ,0\n",
    "    ,1]\n",
    "    \n",
    "    q_vec = np.cross(z,x)\n",
    "    q_vec = q_vec / np.linalg.norm(q_vec)\n",
    "    \n",
    "    q = quaternions.Quaternion( np.cos(theta/2) , np.sin(theta/2)*q_vec[0] , np.sin(theta/2)*q_vec[1], np.sin(theta/2)*q_vec[2])\n",
    "    r = quaternions.Quaternion( np.cos(omega/2) , np.sin(omega/2)*x[0] , np.sin(omega/2)*x[1], np.sin(omega/2)*x[2])\n",
    "    final_quaternion = r*q\n",
    "    \n",
    "    vec_quaternion = quaternions.Quaternion( 0 , vec[0] , vec[1], vec[2])\n",
    "    \n",
    "    rotation = final_quaternion * vec_quaternion * final_quaternion.inverse()\n",
    "    \n",
    "    return [rotation.x, rotation.y, rotation.z]\n",
    "    "
   ]
  },
  {
   "cell_type": "markdown",
   "metadata": {},
   "source": [
    "# Now just apply"
   ]
  },
  {
   "cell_type": "code",
   "execution_count": 95,
   "metadata": {
    "collapsed": true
   },
   "outputs": [],
   "source": [
    "theta = 15 * np.pi / 180\n",
    "phi = 45 * np.pi / 180\n",
    "omega = 10 * np.pi / 180"
   ]
  },
  {
   "cell_type": "code",
   "execution_count": 102,
   "metadata": {
    "collapsed": false
   },
   "outputs": [
    {
     "data": {
      "text/plain": [
       "[-0.18746797380573066, 0.97098795687340778, -0.14845250554968453]"
      ]
     },
     "execution_count": 102,
     "metadata": {},
     "output_type": "execute_result"
    }
   ],
   "source": [
    "apply_transform_from_mixed_spherical_coords(theta,phi,omega,[0,1,0])"
   ]
  },
  {
   "cell_type": "code",
   "execution_count": null,
   "metadata": {
    "collapsed": true
   },
   "outputs": [],
   "source": []
  }
 ],
 "metadata": {
  "anaconda-cloud": {},
  "kernelspec": {
   "display_name": "Python 3",
   "language": "python",
   "name": "python3"
  },
  "language_info": {
   "codemirror_mode": {
    "name": "ipython",
    "version": 3
   },
   "file_extension": ".py",
   "mimetype": "text/x-python",
   "name": "python",
   "nbconvert_exporter": "python",
   "pygments_lexer": "ipython3",
   "version": "3.6.0"
  }
 },
 "nbformat": 4,
 "nbformat_minor": 1
}
