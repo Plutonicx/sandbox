{
 "cells": [
  {
   "cell_type": "code",
   "execution_count": 1,
   "metadata": {
    "collapsed": false
   },
   "outputs": [
    {
     "name": "stderr",
     "output_type": "stream",
     "text": [
      "Loading tidyverse: ggplot2\n",
      "Loading tidyverse: tibble\n",
      "Loading tidyverse: tidyr\n",
      "Loading tidyverse: readr\n",
      "Loading tidyverse: purrr\n",
      "Loading tidyverse: dplyr\n",
      "Conflicts with tidy packages ---------------------------------------------------\n",
      "filter(): dplyr, stats\n",
      "lag():    dplyr, stats\n"
     ]
    }
   ],
   "source": [
    "library(tidyverse)"
   ]
  },
  {
   "cell_type": "code",
   "execution_count": 2,
   "metadata": {
    "collapsed": true
   },
   "outputs": [],
   "source": [
    "data <- read.csv('MFG10YearTerminationData.csv')"
   ]
  },
  {
   "cell_type": "code",
   "execution_count": 3,
   "metadata": {
    "collapsed": false
   },
   "outputs": [
    {
     "data": {
      "text/html": [
       "<table>\n",
       "<thead><tr><th scope=col>EmployeeID</th><th scope=col>recorddate_key</th><th scope=col>birthdate_key</th><th scope=col>orighiredate_key</th><th scope=col>terminationdate_key</th><th scope=col>age</th><th scope=col>length_of_service</th><th scope=col>city_name</th><th scope=col>department_name</th><th scope=col>job_title</th><th scope=col>store_name</th><th scope=col>gender_short</th><th scope=col>gender_full</th><th scope=col>termreason_desc</th><th scope=col>termtype_desc</th><th scope=col>STATUS_YEAR</th><th scope=col>STATUS</th><th scope=col>BUSINESS_UNIT</th></tr></thead>\n",
       "<tbody>\n",
       "\t<tr><td>1318           </td><td>12/31/2006 0:00</td><td>1/3/1954       </td><td>8/28/1989      </td><td>1/1/1900       </td><td>52             </td><td>17             </td><td>Vancouver      </td><td>Executive      </td><td>CEO            </td><td>35             </td><td>M              </td><td>Male           </td><td>Not Applicable </td><td>Not Applicable </td><td>2006           </td><td>ACTIVE         </td><td>HEADOFFICE     </td></tr>\n",
       "\t<tr><td>1318           </td><td>12/31/2007 0:00</td><td>1/3/1954       </td><td>8/28/1989      </td><td>1/1/1900       </td><td>53             </td><td>18             </td><td>Vancouver      </td><td>Executive      </td><td>CEO            </td><td>35             </td><td>M              </td><td>Male           </td><td>Not Applicable </td><td>Not Applicable </td><td>2007           </td><td>ACTIVE         </td><td>HEADOFFICE     </td></tr>\n",
       "\t<tr><td>1318           </td><td>12/31/2008 0:00</td><td>1/3/1954       </td><td>8/28/1989      </td><td>1/1/1900       </td><td>54             </td><td>19             </td><td>Vancouver      </td><td>Executive      </td><td>CEO            </td><td>35             </td><td>M              </td><td>Male           </td><td>Not Applicable </td><td>Not Applicable </td><td>2008           </td><td>ACTIVE         </td><td>HEADOFFICE     </td></tr>\n",
       "\t<tr><td>1318           </td><td>12/31/2009 0:00</td><td>1/3/1954       </td><td>8/28/1989      </td><td>1/1/1900       </td><td>55             </td><td>20             </td><td>Vancouver      </td><td>Executive      </td><td>CEO            </td><td>35             </td><td>M              </td><td>Male           </td><td>Not Applicable </td><td>Not Applicable </td><td>2009           </td><td>ACTIVE         </td><td>HEADOFFICE     </td></tr>\n",
       "\t<tr><td>1318           </td><td>12/31/2010 0:00</td><td>1/3/1954       </td><td>8/28/1989      </td><td>1/1/1900       </td><td>56             </td><td>21             </td><td>Vancouver      </td><td>Executive      </td><td>CEO            </td><td>35             </td><td>M              </td><td>Male           </td><td>Not Applicable </td><td>Not Applicable </td><td>2010           </td><td>ACTIVE         </td><td>HEADOFFICE     </td></tr>\n",
       "\t<tr><td>1318           </td><td>12/31/2011 0:00</td><td>1/3/1954       </td><td>8/28/1989      </td><td>1/1/1900       </td><td>57             </td><td>22             </td><td>Vancouver      </td><td>Executive      </td><td>CEO            </td><td>35             </td><td>M              </td><td>Male           </td><td>Not Applicable </td><td>Not Applicable </td><td>2011           </td><td>ACTIVE         </td><td>HEADOFFICE     </td></tr>\n",
       "\t<tr><td>1318           </td><td>12/31/2012 0:00</td><td>1/3/1954       </td><td>8/28/1989      </td><td>1/1/1900       </td><td>58             </td><td>23             </td><td>Vancouver      </td><td>Executive      </td><td>CEO            </td><td>35             </td><td>M              </td><td>Male           </td><td>Not Applicable </td><td>Not Applicable </td><td>2012           </td><td>ACTIVE         </td><td>HEADOFFICE     </td></tr>\n",
       "\t<tr><td>1318           </td><td>12/31/2013 0:00</td><td>1/3/1954       </td><td>8/28/1989      </td><td>1/1/1900       </td><td>59             </td><td>24             </td><td>Vancouver      </td><td>Executive      </td><td>CEO            </td><td>35             </td><td>M              </td><td>Male           </td><td>Not Applicable </td><td>Not Applicable </td><td>2013           </td><td>ACTIVE         </td><td>HEADOFFICE     </td></tr>\n",
       "\t<tr><td>1318           </td><td>12/31/2014 0:00</td><td>1/3/1954       </td><td>8/28/1989      </td><td>1/1/1900       </td><td>60             </td><td>25             </td><td>Vancouver      </td><td>Executive      </td><td>CEO            </td><td>35             </td><td>M              </td><td>Male           </td><td>Not Applicable </td><td>Not Applicable </td><td>2014           </td><td>ACTIVE         </td><td>HEADOFFICE     </td></tr>\n",
       "\t<tr><td>1318           </td><td>12/31/2015 0:00</td><td>1/3/1954       </td><td>8/28/1989      </td><td>1/1/1900       </td><td>61             </td><td>26             </td><td>Vancouver      </td><td>Executive      </td><td>CEO            </td><td>35             </td><td>M              </td><td>Male           </td><td>Not Applicable </td><td>Not Applicable </td><td>2015           </td><td>ACTIVE         </td><td>HEADOFFICE     </td></tr>\n",
       "</tbody>\n",
       "</table>\n"
      ],
      "text/latex": [
       "\\begin{tabular}{r|llllllllllllllllll}\n",
       " EmployeeID & recorddate\\_key & birthdate\\_key & orighiredate\\_key & terminationdate\\_key & age & length\\_of\\_service & city\\_name & department\\_name & job\\_title & store\\_name & gender\\_short & gender\\_full & termreason\\_desc & termtype\\_desc & STATUS\\_YEAR & STATUS & BUSINESS\\_UNIT\\\\\n",
       "\\hline\n",
       "\t 1318            & 12/31/2006 0:00 & 1/3/1954        & 8/28/1989       & 1/1/1900        & 52              & 17              & Vancouver       & Executive       & CEO             & 35              & M               & Male            & Not Applicable  & Not Applicable  & 2006            & ACTIVE          & HEADOFFICE     \\\\\n",
       "\t 1318            & 12/31/2007 0:00 & 1/3/1954        & 8/28/1989       & 1/1/1900        & 53              & 18              & Vancouver       & Executive       & CEO             & 35              & M               & Male            & Not Applicable  & Not Applicable  & 2007            & ACTIVE          & HEADOFFICE     \\\\\n",
       "\t 1318            & 12/31/2008 0:00 & 1/3/1954        & 8/28/1989       & 1/1/1900        & 54              & 19              & Vancouver       & Executive       & CEO             & 35              & M               & Male            & Not Applicable  & Not Applicable  & 2008            & ACTIVE          & HEADOFFICE     \\\\\n",
       "\t 1318            & 12/31/2009 0:00 & 1/3/1954        & 8/28/1989       & 1/1/1900        & 55              & 20              & Vancouver       & Executive       & CEO             & 35              & M               & Male            & Not Applicable  & Not Applicable  & 2009            & ACTIVE          & HEADOFFICE     \\\\\n",
       "\t 1318            & 12/31/2010 0:00 & 1/3/1954        & 8/28/1989       & 1/1/1900        & 56              & 21              & Vancouver       & Executive       & CEO             & 35              & M               & Male            & Not Applicable  & Not Applicable  & 2010            & ACTIVE          & HEADOFFICE     \\\\\n",
       "\t 1318            & 12/31/2011 0:00 & 1/3/1954        & 8/28/1989       & 1/1/1900        & 57              & 22              & Vancouver       & Executive       & CEO             & 35              & M               & Male            & Not Applicable  & Not Applicable  & 2011            & ACTIVE          & HEADOFFICE     \\\\\n",
       "\t 1318            & 12/31/2012 0:00 & 1/3/1954        & 8/28/1989       & 1/1/1900        & 58              & 23              & Vancouver       & Executive       & CEO             & 35              & M               & Male            & Not Applicable  & Not Applicable  & 2012            & ACTIVE          & HEADOFFICE     \\\\\n",
       "\t 1318            & 12/31/2013 0:00 & 1/3/1954        & 8/28/1989       & 1/1/1900        & 59              & 24              & Vancouver       & Executive       & CEO             & 35              & M               & Male            & Not Applicable  & Not Applicable  & 2013            & ACTIVE          & HEADOFFICE     \\\\\n",
       "\t 1318            & 12/31/2014 0:00 & 1/3/1954        & 8/28/1989       & 1/1/1900        & 60              & 25              & Vancouver       & Executive       & CEO             & 35              & M               & Male            & Not Applicable  & Not Applicable  & 2014            & ACTIVE          & HEADOFFICE     \\\\\n",
       "\t 1318            & 12/31/2015 0:00 & 1/3/1954        & 8/28/1989       & 1/1/1900        & 61              & 26              & Vancouver       & Executive       & CEO             & 35              & M               & Male            & Not Applicable  & Not Applicable  & 2015            & ACTIVE          & HEADOFFICE     \\\\\n",
       "\\end{tabular}\n"
      ],
      "text/markdown": [
       "\n",
       "EmployeeID | recorddate_key | birthdate_key | orighiredate_key | terminationdate_key | age | length_of_service | city_name | department_name | job_title | store_name | gender_short | gender_full | termreason_desc | termtype_desc | STATUS_YEAR | STATUS | BUSINESS_UNIT | \n",
       "|---|---|---|---|---|---|---|---|---|---|\n",
       "| 1318            | 12/31/2006 0:00 | 1/3/1954        | 8/28/1989       | 1/1/1900        | 52              | 17              | Vancouver       | Executive       | CEO             | 35              | M               | Male            | Not Applicable  | Not Applicable  | 2006            | ACTIVE          | HEADOFFICE      | \n",
       "| 1318            | 12/31/2007 0:00 | 1/3/1954        | 8/28/1989       | 1/1/1900        | 53              | 18              | Vancouver       | Executive       | CEO             | 35              | M               | Male            | Not Applicable  | Not Applicable  | 2007            | ACTIVE          | HEADOFFICE      | \n",
       "| 1318            | 12/31/2008 0:00 | 1/3/1954        | 8/28/1989       | 1/1/1900        | 54              | 19              | Vancouver       | Executive       | CEO             | 35              | M               | Male            | Not Applicable  | Not Applicable  | 2008            | ACTIVE          | HEADOFFICE      | \n",
       "| 1318            | 12/31/2009 0:00 | 1/3/1954        | 8/28/1989       | 1/1/1900        | 55              | 20              | Vancouver       | Executive       | CEO             | 35              | M               | Male            | Not Applicable  | Not Applicable  | 2009            | ACTIVE          | HEADOFFICE      | \n",
       "| 1318            | 12/31/2010 0:00 | 1/3/1954        | 8/28/1989       | 1/1/1900        | 56              | 21              | Vancouver       | Executive       | CEO             | 35              | M               | Male            | Not Applicable  | Not Applicable  | 2010            | ACTIVE          | HEADOFFICE      | \n",
       "| 1318            | 12/31/2011 0:00 | 1/3/1954        | 8/28/1989       | 1/1/1900        | 57              | 22              | Vancouver       | Executive       | CEO             | 35              | M               | Male            | Not Applicable  | Not Applicable  | 2011            | ACTIVE          | HEADOFFICE      | \n",
       "| 1318            | 12/31/2012 0:00 | 1/3/1954        | 8/28/1989       | 1/1/1900        | 58              | 23              | Vancouver       | Executive       | CEO             | 35              | M               | Male            | Not Applicable  | Not Applicable  | 2012            | ACTIVE          | HEADOFFICE      | \n",
       "| 1318            | 12/31/2013 0:00 | 1/3/1954        | 8/28/1989       | 1/1/1900        | 59              | 24              | Vancouver       | Executive       | CEO             | 35              | M               | Male            | Not Applicable  | Not Applicable  | 2013            | ACTIVE          | HEADOFFICE      | \n",
       "| 1318            | 12/31/2014 0:00 | 1/3/1954        | 8/28/1989       | 1/1/1900        | 60              | 25              | Vancouver       | Executive       | CEO             | 35              | M               | Male            | Not Applicable  | Not Applicable  | 2014            | ACTIVE          | HEADOFFICE      | \n",
       "| 1318            | 12/31/2015 0:00 | 1/3/1954        | 8/28/1989       | 1/1/1900        | 61              | 26              | Vancouver       | Executive       | CEO             | 35              | M               | Male            | Not Applicable  | Not Applicable  | 2015            | ACTIVE          | HEADOFFICE      | \n",
       "\n",
       "\n"
      ],
      "text/plain": [
       "   EmployeeID recorddate_key  birthdate_key orighiredate_key\n",
       "1  1318       12/31/2006 0:00 1/3/1954      8/28/1989       \n",
       "2  1318       12/31/2007 0:00 1/3/1954      8/28/1989       \n",
       "3  1318       12/31/2008 0:00 1/3/1954      8/28/1989       \n",
       "4  1318       12/31/2009 0:00 1/3/1954      8/28/1989       \n",
       "5  1318       12/31/2010 0:00 1/3/1954      8/28/1989       \n",
       "6  1318       12/31/2011 0:00 1/3/1954      8/28/1989       \n",
       "7  1318       12/31/2012 0:00 1/3/1954      8/28/1989       \n",
       "8  1318       12/31/2013 0:00 1/3/1954      8/28/1989       \n",
       "9  1318       12/31/2014 0:00 1/3/1954      8/28/1989       \n",
       "10 1318       12/31/2015 0:00 1/3/1954      8/28/1989       \n",
       "   terminationdate_key age length_of_service city_name department_name\n",
       "1  1/1/1900            52  17                Vancouver Executive      \n",
       "2  1/1/1900            53  18                Vancouver Executive      \n",
       "3  1/1/1900            54  19                Vancouver Executive      \n",
       "4  1/1/1900            55  20                Vancouver Executive      \n",
       "5  1/1/1900            56  21                Vancouver Executive      \n",
       "6  1/1/1900            57  22                Vancouver Executive      \n",
       "7  1/1/1900            58  23                Vancouver Executive      \n",
       "8  1/1/1900            59  24                Vancouver Executive      \n",
       "9  1/1/1900            60  25                Vancouver Executive      \n",
       "10 1/1/1900            61  26                Vancouver Executive      \n",
       "   job_title store_name gender_short gender_full termreason_desc termtype_desc \n",
       "1  CEO       35         M            Male        Not Applicable  Not Applicable\n",
       "2  CEO       35         M            Male        Not Applicable  Not Applicable\n",
       "3  CEO       35         M            Male        Not Applicable  Not Applicable\n",
       "4  CEO       35         M            Male        Not Applicable  Not Applicable\n",
       "5  CEO       35         M            Male        Not Applicable  Not Applicable\n",
       "6  CEO       35         M            Male        Not Applicable  Not Applicable\n",
       "7  CEO       35         M            Male        Not Applicable  Not Applicable\n",
       "8  CEO       35         M            Male        Not Applicable  Not Applicable\n",
       "9  CEO       35         M            Male        Not Applicable  Not Applicable\n",
       "10 CEO       35         M            Male        Not Applicable  Not Applicable\n",
       "   STATUS_YEAR STATUS BUSINESS_UNIT\n",
       "1  2006        ACTIVE HEADOFFICE   \n",
       "2  2007        ACTIVE HEADOFFICE   \n",
       "3  2008        ACTIVE HEADOFFICE   \n",
       "4  2009        ACTIVE HEADOFFICE   \n",
       "5  2010        ACTIVE HEADOFFICE   \n",
       "6  2011        ACTIVE HEADOFFICE   \n",
       "7  2012        ACTIVE HEADOFFICE   \n",
       "8  2013        ACTIVE HEADOFFICE   \n",
       "9  2014        ACTIVE HEADOFFICE   \n",
       "10 2015        ACTIVE HEADOFFICE   "
      ]
     },
     "metadata": {},
     "output_type": "display_data"
    }
   ],
   "source": [
    "data %>% head(10)"
   ]
  },
  {
   "cell_type": "code",
   "execution_count": 4,
   "metadata": {
    "collapsed": false
   },
   "outputs": [
    {
     "data": {
      "text/html": [
       "<table>\n",
       "<thead><tr><th></th><th scope=col>STATUS</th></tr></thead>\n",
       "<tbody>\n",
       "\t<tr><th scope=row>1</th><td>ACTIVE    </td></tr>\n",
       "\t<tr><th scope=row>48169</th><td>TERMINATED</td></tr>\n",
       "</tbody>\n",
       "</table>\n"
      ],
      "text/latex": [
       "\\begin{tabular}{r|l}\n",
       "  & STATUS\\\\\n",
       "\\hline\n",
       "\t1 & ACTIVE    \\\\\n",
       "\t48169 & TERMINATED\\\\\n",
       "\\end{tabular}\n"
      ],
      "text/markdown": [
       "\n",
       "| <!--/--> | STATUS | \n",
       "|---|---|\n",
       "| 1 | ACTIVE     | \n",
       "| 48169 | TERMINATED | \n",
       "\n",
       "\n"
      ],
      "text/plain": [
       "      STATUS    \n",
       "1     ACTIVE    \n",
       "48169 TERMINATED"
      ]
     },
     "metadata": {},
     "output_type": "display_data"
    }
   ],
   "source": [
    "data %>% select(STATUS) %>% unique"
   ]
  },
  {
   "cell_type": "code",
   "execution_count": 11,
   "metadata": {
    "collapsed": false
   },
   "outputs": [
    {
     "data": {
      "text/html": [
       "<table>\n",
       "<thead><tr><th scope=col>job_title</th><th scope=col>vol</th></tr></thead>\n",
       "<tbody>\n",
       "\t<tr><td>Meat Cutter                    </td><td>9984                           </td></tr>\n",
       "\t<tr><td>Dairy Person                   </td><td>8590                           </td></tr>\n",
       "\t<tr><td>Produce Clerk                  </td><td>8237                           </td></tr>\n",
       "\t<tr><td>Baker                          </td><td>8096                           </td></tr>\n",
       "\t<tr><td>Cashier                        </td><td>6816                           </td></tr>\n",
       "\t<tr><td>Shelf Stocker                  </td><td>5622                           </td></tr>\n",
       "\t<tr><td>Customer Service Manager       </td><td> 306                           </td></tr>\n",
       "\t<tr><td>Processed Foods Manager        </td><td> 289                           </td></tr>\n",
       "\t<tr><td>Bakery Manager                 </td><td> 285                           </td></tr>\n",
       "\t<tr><td>Meats Manager                  </td><td> 285                           </td></tr>\n",
       "\t<tr><td>Produce Manager                </td><td> 278                           </td></tr>\n",
       "\t<tr><td>Store Manager                  </td><td> 271                           </td></tr>\n",
       "\t<tr><td>Recruiter                      </td><td>  62                           </td></tr>\n",
       "\t<tr><td>HRIS Analyst                   </td><td>  55                           </td></tr>\n",
       "\t<tr><td>Accounting Clerk               </td><td>  50                           </td></tr>\n",
       "\t<tr><td>Benefits Admin                 </td><td>  35                           </td></tr>\n",
       "\t<tr><td>Accounts Receiveable Clerk     </td><td>  30                           </td></tr>\n",
       "\t<tr><td>Labor Relations Analyst        </td><td>  30                           </td></tr>\n",
       "\t<tr><td>Trainer                        </td><td>  26                           </td></tr>\n",
       "\t<tr><td>Accounts Payable Clerk         </td><td>  25                           </td></tr>\n",
       "\t<tr><td>Auditor                        </td><td>  20                           </td></tr>\n",
       "\t<tr><td>Compensation Analyst           </td><td>  20                           </td></tr>\n",
       "\t<tr><td>Investment Analyst             </td><td>  20                           </td></tr>\n",
       "\t<tr><td>Systems Analyst                </td><td>  20                           </td></tr>\n",
       "\t<tr><td>Corporate Lawyer               </td><td>  17                           </td></tr>\n",
       "\t<tr><td>CEO                            </td><td>  10                           </td></tr>\n",
       "\t<tr><td>CHief Information Officer      </td><td>  10                           </td></tr>\n",
       "\t<tr><td>Director, Recruitment          </td><td>  10                           </td></tr>\n",
       "\t<tr><td>Exec Assistant, Finance        </td><td>  10                           </td></tr>\n",
       "\t<tr><td>Exec Assistant, Human Resources</td><td>  10                           </td></tr>\n",
       "\t<tr><td>Exec Assistant, Legal Counsel  </td><td>  10                           </td></tr>\n",
       "\t<tr><td>Exec Assistant, VP Stores      </td><td>  10                           </td></tr>\n",
       "\t<tr><td>Legal Counsel                  </td><td>  10                           </td></tr>\n",
       "\t<tr><td>VP Finance                     </td><td>  10                           </td></tr>\n",
       "\t<tr><td>VP Human Resources             </td><td>  10                           </td></tr>\n",
       "\t<tr><td>VP Stores                      </td><td>  10                           </td></tr>\n",
       "\t<tr><td>Dairy Manager                  </td><td>   9                           </td></tr>\n",
       "\t<tr><td>Director, Accounting           </td><td>   9                           </td></tr>\n",
       "\t<tr><td>Director, Accounts Payable     </td><td>   9                           </td></tr>\n",
       "\t<tr><td>Director, Accounts Receivable  </td><td>   9                           </td></tr>\n",
       "\t<tr><td>Director, Employee Records     </td><td>   9                           </td></tr>\n",
       "\t<tr><td>Director, HR Technology        </td><td>   9                           </td></tr>\n",
       "\t<tr><td>Director, Audit                </td><td>   4                           </td></tr>\n",
       "\t<tr><td>Director, Compensation         </td><td>   4                           </td></tr>\n",
       "\t<tr><td>Director, Investments          </td><td>   4                           </td></tr>\n",
       "\t<tr><td>Director, Labor Relations      </td><td>   4                           </td></tr>\n",
       "\t<tr><td>Director, Training             </td><td>   4                           </td></tr>\n",
       "</tbody>\n",
       "</table>\n"
      ],
      "text/latex": [
       "\\begin{tabular}{r|ll}\n",
       " job\\_title & vol\\\\\n",
       "\\hline\n",
       "\t Meat Cutter                     & 9984                           \\\\\n",
       "\t Dairy Person                    & 8590                           \\\\\n",
       "\t Produce Clerk                   & 8237                           \\\\\n",
       "\t Baker                           & 8096                           \\\\\n",
       "\t Cashier                         & 6816                           \\\\\n",
       "\t Shelf Stocker                   & 5622                           \\\\\n",
       "\t Customer Service Manager        &  306                           \\\\\n",
       "\t Processed Foods Manager         &  289                           \\\\\n",
       "\t Bakery Manager                  &  285                           \\\\\n",
       "\t Meats Manager                   &  285                           \\\\\n",
       "\t Produce Manager                 &  278                           \\\\\n",
       "\t Store Manager                   &  271                           \\\\\n",
       "\t Recruiter                       &   62                           \\\\\n",
       "\t HRIS Analyst                    &   55                           \\\\\n",
       "\t Accounting Clerk                &   50                           \\\\\n",
       "\t Benefits Admin                  &   35                           \\\\\n",
       "\t Accounts Receiveable Clerk      &   30                           \\\\\n",
       "\t Labor Relations Analyst         &   30                           \\\\\n",
       "\t Trainer                         &   26                           \\\\\n",
       "\t Accounts Payable Clerk          &   25                           \\\\\n",
       "\t Auditor                         &   20                           \\\\\n",
       "\t Compensation Analyst            &   20                           \\\\\n",
       "\t Investment Analyst              &   20                           \\\\\n",
       "\t Systems Analyst                 &   20                           \\\\\n",
       "\t Corporate Lawyer                &   17                           \\\\\n",
       "\t CEO                             &   10                           \\\\\n",
       "\t CHief Information Officer       &   10                           \\\\\n",
       "\t Director, Recruitment           &   10                           \\\\\n",
       "\t Exec Assistant, Finance         &   10                           \\\\\n",
       "\t Exec Assistant, Human Resources &   10                           \\\\\n",
       "\t Exec Assistant, Legal Counsel   &   10                           \\\\\n",
       "\t Exec Assistant, VP Stores       &   10                           \\\\\n",
       "\t Legal Counsel                   &   10                           \\\\\n",
       "\t VP Finance                      &   10                           \\\\\n",
       "\t VP Human Resources              &   10                           \\\\\n",
       "\t VP Stores                       &   10                           \\\\\n",
       "\t Dairy Manager                   &    9                           \\\\\n",
       "\t Director, Accounting            &    9                           \\\\\n",
       "\t Director, Accounts Payable      &    9                           \\\\\n",
       "\t Director, Accounts Receivable   &    9                           \\\\\n",
       "\t Director, Employee Records      &    9                           \\\\\n",
       "\t Director, HR Technology         &    9                           \\\\\n",
       "\t Director, Audit                 &    4                           \\\\\n",
       "\t Director, Compensation          &    4                           \\\\\n",
       "\t Director, Investments           &    4                           \\\\\n",
       "\t Director, Labor Relations       &    4                           \\\\\n",
       "\t Director, Training              &    4                           \\\\\n",
       "\\end{tabular}\n"
      ],
      "text/markdown": [
       "\n",
       "job_title | vol | \n",
       "|---|---|---|---|---|---|---|---|---|---|---|---|---|---|---|---|---|---|---|---|---|---|---|---|---|---|---|---|---|---|---|---|---|---|---|---|---|---|---|---|---|---|---|---|---|---|---|\n",
       "| Meat Cutter                     | 9984                            | \n",
       "| Dairy Person                    | 8590                            | \n",
       "| Produce Clerk                   | 8237                            | \n",
       "| Baker                           | 8096                            | \n",
       "| Cashier                         | 6816                            | \n",
       "| Shelf Stocker                   | 5622                            | \n",
       "| Customer Service Manager        |  306                            | \n",
       "| Processed Foods Manager         |  289                            | \n",
       "| Bakery Manager                  |  285                            | \n",
       "| Meats Manager                   |  285                            | \n",
       "| Produce Manager                 |  278                            | \n",
       "| Store Manager                   |  271                            | \n",
       "| Recruiter                       |   62                            | \n",
       "| HRIS Analyst                    |   55                            | \n",
       "| Accounting Clerk                |   50                            | \n",
       "| Benefits Admin                  |   35                            | \n",
       "| Accounts Receiveable Clerk      |   30                            | \n",
       "| Labor Relations Analyst         |   30                            | \n",
       "| Trainer                         |   26                            | \n",
       "| Accounts Payable Clerk          |   25                            | \n",
       "| Auditor                         |   20                            | \n",
       "| Compensation Analyst            |   20                            | \n",
       "| Investment Analyst              |   20                            | \n",
       "| Systems Analyst                 |   20                            | \n",
       "| Corporate Lawyer                |   17                            | \n",
       "| CEO                             |   10                            | \n",
       "| CHief Information Officer       |   10                            | \n",
       "| Director, Recruitment           |   10                            | \n",
       "| Exec Assistant, Finance         |   10                            | \n",
       "| Exec Assistant, Human Resources |   10                            | \n",
       "| Exec Assistant, Legal Counsel   |   10                            | \n",
       "| Exec Assistant, VP Stores       |   10                            | \n",
       "| Legal Counsel                   |   10                            | \n",
       "| VP Finance                      |   10                            | \n",
       "| VP Human Resources              |   10                            | \n",
       "| VP Stores                       |   10                            | \n",
       "| Dairy Manager                   |    9                            | \n",
       "| Director, Accounting            |    9                            | \n",
       "| Director, Accounts Payable      |    9                            | \n",
       "| Director, Accounts Receivable   |    9                            | \n",
       "| Director, Employee Records      |    9                            | \n",
       "| Director, HR Technology         |    9                            | \n",
       "| Director, Audit                 |    4                            | \n",
       "| Director, Compensation          |    4                            | \n",
       "| Director, Investments           |    4                            | \n",
       "| Director, Labor Relations       |    4                            | \n",
       "| Director, Training              |    4                            | \n",
       "\n",
       "\n"
      ],
      "text/plain": [
       "   job_title                       vol \n",
       "1  Meat Cutter                     9984\n",
       "2  Dairy Person                    8590\n",
       "3  Produce Clerk                   8237\n",
       "4  Baker                           8096\n",
       "5  Cashier                         6816\n",
       "6  Shelf Stocker                   5622\n",
       "7  Customer Service Manager         306\n",
       "8  Processed Foods Manager          289\n",
       "9  Bakery Manager                   285\n",
       "10 Meats Manager                    285\n",
       "11 Produce Manager                  278\n",
       "12 Store Manager                    271\n",
       "13 Recruiter                         62\n",
       "14 HRIS Analyst                      55\n",
       "15 Accounting Clerk                  50\n",
       "16 Benefits Admin                    35\n",
       "17 Accounts Receiveable Clerk        30\n",
       "18 Labor Relations Analyst           30\n",
       "19 Trainer                           26\n",
       "20 Accounts Payable Clerk            25\n",
       "21 Auditor                           20\n",
       "22 Compensation Analyst              20\n",
       "23 Investment Analyst                20\n",
       "24 Systems Analyst                   20\n",
       "25 Corporate Lawyer                  17\n",
       "26 CEO                               10\n",
       "27 CHief Information Officer         10\n",
       "28 Director, Recruitment             10\n",
       "29 Exec Assistant, Finance           10\n",
       "30 Exec Assistant, Human Resources   10\n",
       "31 Exec Assistant, Legal Counsel     10\n",
       "32 Exec Assistant, VP Stores         10\n",
       "33 Legal Counsel                     10\n",
       "34 VP Finance                        10\n",
       "35 VP Human Resources                10\n",
       "36 VP Stores                         10\n",
       "37 Dairy Manager                      9\n",
       "38 Director, Accounting               9\n",
       "39 Director, Accounts Payable         9\n",
       "40 Director, Accounts Receivable      9\n",
       "41 Director, Employee Records         9\n",
       "42 Director, HR Technology            9\n",
       "43 Director, Audit                    4\n",
       "44 Director, Compensation             4\n",
       "45 Director, Investments              4\n",
       "46 Director, Labor Relations          4\n",
       "47 Director, Training                 4"
      ]
     },
     "metadata": {},
     "output_type": "display_data"
    }
   ],
   "source": [
    "data %>% group_by(job_title) %>% summarise(\n",
    "    vol = n()\n",
    ") %>% arrange(vol %>% desc)"
   ]
  },
  {
   "cell_type": "code",
   "execution_count": 6,
   "metadata": {
    "collapsed": false
   },
   "outputs": [
    {
     "data": {},
     "metadata": {},
     "output_type": "display_data"
    },
    {
     "data": {
      "image/png": "[encoded data removed]",
      "text/plain": [
       "plot without title"
      ]
     },
     "metadata": {},
     "output_type": "display_data"
    }
   ],
   "source": [
    "data %>% filter(STATUS == 'TERMINATED') %>%\n",
    "#filter(job_title == 'Dairy Person') %>%\n",
    "ggplot(aes(x = length_of_service)) + geom_density()"
   ]
  },
  {
   "cell_type": "code",
   "execution_count": 18,
   "metadata": {
    "collapsed": false
   },
   "outputs": [
    {
     "data": {},
     "metadata": {},
     "output_type": "display_data"
    },
    {
     "data": {
      "image/png": "[encoded data removed]",
      "text/plain": [
       "plot without title"
      ]
     },
     "metadata": {},
     "output_type": "display_data"
    }
   ],
   "source": [
    "data %>% \n",
    "filter(job_title == 'Cashier') %>%\n",
    "group_by(length_of_service) %>%\n",
    "summarise(\n",
    "    vol_active = sum(STATUS == 'ACTIVE'),\n",
    "    vol_term = sum(STATUS == 'TERMINATED'),\n",
    "    frac_active = sum(STATUS == 'ACTIVE') / (sum(STATUS == 'TERMINATED') + sum(STATUS == 'ACTIVE'))\n",
    ") %>%\n",
    "ggplot(aes(x = length_of_service, y = frac_term)) + geom_point()\n"
   ]
  },
  {
   "cell_type": "code",
   "execution_count": null,
   "metadata": {
    "collapsed": true
   },
   "outputs": [],
   "source": []
  }
 ],
 "metadata": {
  "kernelspec": {
   "display_name": "R",
   "language": "R",
   "name": "ir"
  },
  "language_info": {
   "codemirror_mode": "r",
   "file_extension": ".r",
   "mimetype": "text/x-r-source",
   "name": "R",
   "pygments_lexer": "r",
   "version": "3.3.2"
  }
 },
 "nbformat": 4,
 "nbformat_minor": 2
}
