{
 "cells": [
  {
   "cell_type": "code",
   "execution_count": 1,
   "metadata": {
    "collapsed": false
   },
   "outputs": [
    {
     "name": "stderr",
     "output_type": "stream",
     "text": [
      "Loading tidyverse: ggplot2\n",
      "Loading tidyverse: tibble\n",
      "Loading tidyverse: tidyr\n",
      "Loading tidyverse: readr\n",
      "Loading tidyverse: purrr\n",
      "Loading tidyverse: dplyr\n",
      "Conflicts with tidy packages ---------------------------------------------------\n",
      "filter(): dplyr, stats\n",
      "lag():    dplyr, stats\n"
     ]
    }
   ],
   "source": [
    "library(tidyverse)"
   ]
  },
  {
   "cell_type": "code",
   "execution_count": 2,
   "metadata": {
    "collapsed": true
   },
   "outputs": [],
   "source": [
    "events_df <- read.csv('..\\\\..\\\\Data\\\\retailrocket\\\\events.csv')"
   ]
  },
  {
   "cell_type": "code",
   "execution_count": 4,
   "metadata": {
    "collapsed": false
   },
   "outputs": [
    {
     "data": {
      "text/html": [
       "<ol class=list-inline>\n",
       "\t<li>1433221332117</li>\n",
       "\t<li>1433224214164</li>\n",
       "\t<li>1433221999827</li>\n",
       "\t<li>1433221955914</li>\n",
       "\t<li>1433221337106</li>\n",
       "\t<li>1433224086234</li>\n",
       "\t<li>1433221923240</li>\n",
       "\t<li>1433223291897</li>\n",
       "\t<li>1433220899221</li>\n",
       "\t<li>1433221204592</li>\n",
       "</ol>\n"
      ],
      "text/latex": [
       "\\begin{enumerate*}\n",
       "\\item 1433221332117\n",
       "\\item 1433224214164\n",
       "\\item 1433221999827\n",
       "\\item 1433221955914\n",
       "\\item 1433221337106\n",
       "\\item 1433224086234\n",
       "\\item 1433221923240\n",
       "\\item 1433223291897\n",
       "\\item 1433220899221\n",
       "\\item 1433221204592\n",
       "\\end{enumerate*}\n"
      ],
      "text/markdown": [
       "1. 1433221332117\n",
       "2. 1433224214164\n",
       "3. 1433221999827\n",
       "4. 1433221955914\n",
       "5. 1433221337106\n",
       "6. 1433224086234\n",
       "7. 1433221923240\n",
       "8. 1433223291897\n",
       "9. 1433220899221\n",
       "10. 1433221204592\n",
       "\n",
       "\n"
      ],
      "text/plain": [
       " [1] 1.433221e+12 1.433224e+12 1.433222e+12 1.433222e+12 1.433221e+12\n",
       " [6] 1.433224e+12 1.433222e+12 1.433223e+12 1.433221e+12 1.433221e+12"
      ]
     },
     "metadata": {},
     "output_type": "display_data"
    }
   ],
   "source": [
    "events_df$timestamp %>% head(10)"
   ]
  },
  {
   "cell_type": "code",
   "execution_count": 5,
   "metadata": {
    "collapsed": false
   },
   "outputs": [
    {
     "data": {
      "text/plain": [
       "[1] NA"
      ]
     },
     "metadata": {},
     "output_type": "display_data"
    }
   ],
   "source": [
    "as.POSIXct(strptime('1433221332117', \"%a %b %d %H:%M:%S %z %Y\"))"
   ]
  },
  {
   "cell_type": "code",
   "execution_count": 25,
   "metadata": {
    "collapsed": false
   },
   "outputs": [
    {
     "data": {
      "text/plain": [
       "Time difference of -48034.12 mins"
      ]
     },
     "metadata": {},
     "output_type": "display_data"
    }
   ],
   "source": [
    "difftime(as.POSIXct(1433221332117, origin=\"1970-01-01\"),as.POSIXct(1433224214164, origin=\"1970-01-01\"),units='mins')"
   ]
  },
  {
   "cell_type": "code",
   "execution_count": 26,
   "metadata": {
    "collapsed": false
   },
   "outputs": [],
   "source": [
    "time_diff = function(date_1,date_2,units){\n",
    "    return(difftime(as.POSIXct(date_1, origin=\"1970-01-01\"),as.POSIXct(date_2, origin=\"1970-01-01\"),units=units) %>% as.numeric )\n",
    "} "
   ]
  },
  {
   "cell_type": "code",
   "execution_count": 28,
   "metadata": {
    "collapsed": false
   },
   "outputs": [
    {
     "data": {
      "text/html": [
       "<table>\n",
       "<thead><tr><th scope=col>timestamp</th><th scope=col>visitorid</th><th scope=col>event</th><th scope=col>itemid</th><th scope=col>transactionid</th></tr></thead>\n",
       "<tbody>\n",
       "\t<tr><td>1.433221e+12</td><td> 257597     </td><td>view        </td><td>355908      </td><td>NA          </td></tr>\n",
       "\t<tr><td>1.433224e+12</td><td> 992329     </td><td>view        </td><td>248676      </td><td>NA          </td></tr>\n",
       "\t<tr><td>1.433222e+12</td><td> 111016     </td><td>view        </td><td>318965      </td><td>NA          </td></tr>\n",
       "\t<tr><td>1.433222e+12</td><td> 483717     </td><td>view        </td><td>253185      </td><td>NA          </td></tr>\n",
       "\t<tr><td>1.433221e+12</td><td> 951259     </td><td>view        </td><td>367447      </td><td>NA          </td></tr>\n",
       "\t<tr><td>1.433224e+12</td><td> 972639     </td><td>view        </td><td> 22556      </td><td>NA          </td></tr>\n",
       "\t<tr><td>1.433222e+12</td><td> 810725     </td><td>view        </td><td>443030      </td><td>NA          </td></tr>\n",
       "\t<tr><td>1.433223e+12</td><td> 794181     </td><td>view        </td><td>439202      </td><td>NA          </td></tr>\n",
       "\t<tr><td>1.433221e+12</td><td> 824915     </td><td>view        </td><td>428805      </td><td>NA          </td></tr>\n",
       "\t<tr><td>1.433221e+12</td><td> 339335     </td><td>view        </td><td> 82389      </td><td>NA          </td></tr>\n",
       "\t<tr><td>1.433222e+12</td><td> 176446     </td><td>view        </td><td> 10572      </td><td>NA          </td></tr>\n",
       "\t<tr><td>1.433222e+12</td><td> 929206     </td><td>view        </td><td>410676      </td><td>NA          </td></tr>\n",
       "\t<tr><td>1.433224e+12</td><td>  15795     </td><td>view        </td><td> 44872      </td><td>NA          </td></tr>\n",
       "\t<tr><td>1.433224e+12</td><td> 598426     </td><td>view        </td><td>156489      </td><td>NA          </td></tr>\n",
       "\t<tr><td>1.433224e+12</td><td> 223343     </td><td>view        </td><td>402625      </td><td>NA          </td></tr>\n",
       "\t<tr><td>1.433223e+12</td><td>  57036     </td><td>view        </td><td>334662      </td><td>NA          </td></tr>\n",
       "\t<tr><td>1.433223e+12</td><td>1377281     </td><td>view        </td><td>251467      </td><td>NA          </td></tr>\n",
       "\t<tr><td>1.433223e+12</td><td> 287857     </td><td>addtocart   </td><td>  5206      </td><td>NA          </td></tr>\n",
       "\t<tr><td>1.433224e+12</td><td>1370216     </td><td>view        </td><td>176721      </td><td>NA          </td></tr>\n",
       "\t<tr><td>1.433221e+12</td><td> 158090     </td><td>addtocart   </td><td> 10572      </td><td>NA          </td></tr>\n",
       "</tbody>\n",
       "</table>\n"
      ],
      "text/latex": [
       "\\begin{tabular}{r|lllll}\n",
       " timestamp & visitorid & event & itemid & transactionid\\\\\n",
       "\\hline\n",
       "\t 1.433221e+12 &  257597      & view         & 355908       & NA          \\\\\n",
       "\t 1.433224e+12 &  992329      & view         & 248676       & NA          \\\\\n",
       "\t 1.433222e+12 &  111016      & view         & 318965       & NA          \\\\\n",
       "\t 1.433222e+12 &  483717      & view         & 253185       & NA          \\\\\n",
       "\t 1.433221e+12 &  951259      & view         & 367447       & NA          \\\\\n",
       "\t 1.433224e+12 &  972639      & view         &  22556       & NA          \\\\\n",
       "\t 1.433222e+12 &  810725      & view         & 443030       & NA          \\\\\n",
       "\t 1.433223e+12 &  794181      & view         & 439202       & NA          \\\\\n",
       "\t 1.433221e+12 &  824915      & view         & 428805       & NA          \\\\\n",
       "\t 1.433221e+12 &  339335      & view         &  82389       & NA          \\\\\n",
       "\t 1.433222e+12 &  176446      & view         &  10572       & NA          \\\\\n",
       "\t 1.433222e+12 &  929206      & view         & 410676       & NA          \\\\\n",
       "\t 1.433224e+12 &   15795      & view         &  44872       & NA          \\\\\n",
       "\t 1.433224e+12 &  598426      & view         & 156489       & NA          \\\\\n",
       "\t 1.433224e+12 &  223343      & view         & 402625       & NA          \\\\\n",
       "\t 1.433223e+12 &   57036      & view         & 334662       & NA          \\\\\n",
       "\t 1.433223e+12 & 1377281      & view         & 251467       & NA          \\\\\n",
       "\t 1.433223e+12 &  287857      & addtocart    &   5206       & NA          \\\\\n",
       "\t 1.433224e+12 & 1370216      & view         & 176721       & NA          \\\\\n",
       "\t 1.433221e+12 &  158090      & addtocart    &  10572       & NA          \\\\\n",
       "\\end{tabular}\n"
      ],
      "text/markdown": [
       "\n",
       "timestamp | visitorid | event | itemid | transactionid | \n",
       "|---|---|---|---|---|---|---|---|---|---|---|---|---|---|---|---|---|---|---|---|\n",
       "| 1.433221e+12 |  257597      | view         | 355908       | NA           | \n",
       "| 1.433224e+12 |  992329      | view         | 248676       | NA           | \n",
       "| 1.433222e+12 |  111016      | view         | 318965       | NA           | \n",
       "| 1.433222e+12 |  483717      | view         | 253185       | NA           | \n",
       "| 1.433221e+12 |  951259      | view         | 367447       | NA           | \n",
       "| 1.433224e+12 |  972639      | view         |  22556       | NA           | \n",
       "| 1.433222e+12 |  810725      | view         | 443030       | NA           | \n",
       "| 1.433223e+12 |  794181      | view         | 439202       | NA           | \n",
       "| 1.433221e+12 |  824915      | view         | 428805       | NA           | \n",
       "| 1.433221e+12 |  339335      | view         |  82389       | NA           | \n",
       "| 1.433222e+12 |  176446      | view         |  10572       | NA           | \n",
       "| 1.433222e+12 |  929206      | view         | 410676       | NA           | \n",
       "| 1.433224e+12 |   15795      | view         |  44872       | NA           | \n",
       "| 1.433224e+12 |  598426      | view         | 156489       | NA           | \n",
       "| 1.433224e+12 |  223343      | view         | 402625       | NA           | \n",
       "| 1.433223e+12 |   57036      | view         | 334662       | NA           | \n",
       "| 1.433223e+12 | 1377281      | view         | 251467       | NA           | \n",
       "| 1.433223e+12 |  287857      | addtocart    |   5206       | NA           | \n",
       "| 1.433224e+12 | 1370216      | view         | 176721       | NA           | \n",
       "| 1.433221e+12 |  158090      | addtocart    |  10572       | NA           | \n",
       "\n",
       "\n"
      ],
      "text/plain": [
       "   timestamp    visitorid event     itemid transactionid\n",
       "1  1.433221e+12  257597   view      355908 NA           \n",
       "2  1.433224e+12  992329   view      248676 NA           \n",
       "3  1.433222e+12  111016   view      318965 NA           \n",
       "4  1.433222e+12  483717   view      253185 NA           \n",
       "5  1.433221e+12  951259   view      367447 NA           \n",
       "6  1.433224e+12  972639   view       22556 NA           \n",
       "7  1.433222e+12  810725   view      443030 NA           \n",
       "8  1.433223e+12  794181   view      439202 NA           \n",
       "9  1.433221e+12  824915   view      428805 NA           \n",
       "10 1.433221e+12  339335   view       82389 NA           \n",
       "11 1.433222e+12  176446   view       10572 NA           \n",
       "12 1.433222e+12  929206   view      410676 NA           \n",
       "13 1.433224e+12   15795   view       44872 NA           \n",
       "14 1.433224e+12  598426   view      156489 NA           \n",
       "15 1.433224e+12  223343   view      402625 NA           \n",
       "16 1.433223e+12   57036   view      334662 NA           \n",
       "17 1.433223e+12 1377281   view      251467 NA           \n",
       "18 1.433223e+12  287857   addtocart   5206 NA           \n",
       "19 1.433224e+12 1370216   view      176721 NA           \n",
       "20 1.433221e+12  158090   addtocart  10572 NA           "
      ]
     },
     "metadata": {},
     "output_type": "display_data"
    }
   ],
   "source": [
    "events_df %>% head(20)"
   ]
  },
  {
   "cell_type": "code",
   "execution_count": null,
   "metadata": {
    "collapsed": true
   },
   "outputs": [],
   "source": []
  }
 ],
 "metadata": {
  "kernelspec": {
   "display_name": "R",
   "language": "R",
   "name": "ir"
  },
  "language_info": {
   "codemirror_mode": "r",
   "file_extension": ".r",
   "mimetype": "text/x-r-source",
   "name": "R",
   "pygments_lexer": "r",
   "version": "3.3.2"
  }
 },
 "nbformat": 4,
 "nbformat_minor": 2
}
