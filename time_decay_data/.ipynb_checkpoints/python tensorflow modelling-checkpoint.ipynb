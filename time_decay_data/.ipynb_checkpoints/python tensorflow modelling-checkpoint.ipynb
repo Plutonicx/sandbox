{
 "cells": [
  {
   "cell_type": "code",
   "execution_count": 1,
   "metadata": {
    "collapsed": false
   },
   "outputs": [],
   "source": [
    "import numpy as np\n",
    "import pandas as pd\n",
    "import feather\n",
    "from tqdm import tqdm\n",
    "import pickle\n",
    "import tensorflow as tf"
   ]
  },
  {
   "cell_type": "code",
   "execution_count": 2,
   "metadata": {
    "collapsed": true
   },
   "outputs": [],
   "source": [
    "fitted_factors = np.load('fitted_factors.npy')"
   ]
  },
  {
   "cell_type": "code",
   "execution_count": 3,
   "metadata": {
    "collapsed": true
   },
   "outputs": [],
   "source": [
    "predictor = np.load('predictor.npy')\n",
    "time = np.load('time.npy')"
   ]
  },
  {
   "cell_type": "markdown",
   "metadata": {},
   "source": [
    "# Model as:\n",
    "# $P = \\sigma \\left( W_{1} \\vec{x} + b_{1} \\right) \\left( 1 - \\sigma \\left( W_{2} \\vec{x} + b_{2} \\right) \\text{exp} \\left( - \\beta t \\right) \\right) $"
   ]
  },
  {
   "cell_type": "code",
   "execution_count": 6,
   "metadata": {
    "collapsed": false
   },
   "outputs": [],
   "source": [
    "n = np.shape(fitted_factors)[1]"
   ]
  },
  {
   "cell_type": "code",
   "execution_count": 22,
   "metadata": {
    "collapsed": false
   },
   "outputs": [],
   "source": [
    "X = tf.placeholder(shape=[n,1], dtype = tf.float32, name = 'Features')\n",
    "T = tf.placeholder(shape=[1,1], dtype = tf.float32, name = 'Time')"
   ]
  },
  {
   "cell_type": "code",
   "execution_count": 10,
   "metadata": {
    "collapsed": true
   },
   "outputs": [],
   "source": [
    "P = tf.placeholder(shape=[1], dtype = tf.float32, name = 'Probability')"
   ]
  },
  {
   "cell_type": "code",
   "execution_count": 16,
   "metadata": {
    "collapsed": true
   },
   "outputs": [],
   "source": [
    "W_1 = tf.Variable(tf.random_normal(shape=[1,n], mean=0, stddev=0.5))\n",
    "W_2 = tf.Variable(tf.random_normal(shape=[1,n], mean=0, stddev=0.5))\n",
    "\n",
    "b_1 = tf.Variable(np.random.normal(loc=0, scale=0.2))\n",
    "b_2 = tf.Variable(np.random.normal(loc=0, scale=0.2))\n",
    "\n",
    "beta = tf.Variable(np.random.normal(loc=1, scale=0.2))"
   ]
  },
  {
   "cell_type": "code",
   "execution_count": 23,
   "metadata": {
    "collapsed": false
   },
   "outputs": [],
   "source": [
    "model = tf.sigmoid(tf.matmul(W_1,X) + b_1) * (1 - tf.sigmoid(tf.matmul(W_2,X) + b_1) * tf.exp(-1*beta*T) )"
   ]
  },
  {
   "cell_type": "markdown",
   "metadata": {},
   "source": [
    "# Use cross entropy loss:"
   ]
  },
  {
   "cell_type": "code",
   "execution_count": 25,
   "metadata": {
    "collapsed": false
   },
   "outputs": [],
   "source": [
    "loss = tf.reduce_mean(P * tf.log(model) + (1-P)*tf.log(1 - model) )"
   ]
  },
  {
   "cell_type": "code",
   "execution_count": null,
   "metadata": {
    "collapsed": true
   },
   "outputs": [],
   "source": [
    "optimizer = "
   ]
  }
 ],
 "metadata": {
  "kernelspec": {
   "display_name": "Python 3",
   "language": "python",
   "name": "python3"
  },
  "language_info": {
   "codemirror_mode": {
    "name": "ipython",
    "version": 3
   },
   "file_extension": ".py",
   "mimetype": "text/x-python",
   "name": "python",
   "nbconvert_exporter": "python",
   "pygments_lexer": "ipython3",
   "version": "3.5.2"
  }
 },
 "nbformat": 4,
 "nbformat_minor": 2
}
