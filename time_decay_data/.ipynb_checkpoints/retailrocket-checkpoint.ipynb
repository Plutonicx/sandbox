{
 "cells": [
  {
   "cell_type": "code",
   "execution_count": 2,
   "metadata": {
    "collapsed": false
   },
   "outputs": [
    {
     "name": "stderr",
     "output_type": "stream",
     "text": [
      "Loading tidyverse: ggplot2\n",
      "Loading tidyverse: tibble\n",
      "Loading tidyverse: tidyr\n",
      "Loading tidyverse: readr\n",
      "Loading tidyverse: purrr\n",
      "Loading tidyverse: dplyr\n",
      "Conflicts with tidy packages ---------------------------------------------------\n",
      "filter(): dplyr, stats\n",
      "lag():    dplyr, stats\n",
      "\n",
      "Attaching package: 'reshape2'\n",
      "\n",
      "The following object is masked from 'package:tidyr':\n",
      "\n",
      "    smiths\n",
      "\n"
     ]
    }
   ],
   "source": [
    "library(tidyverse)\n",
    "library(reshape2)"
   ]
  },
  {
   "cell_type": "code",
   "execution_count": null,
   "metadata": {
    "collapsed": true
   },
   "outputs": [],
   "source": [
    "events_df <- read.csv('..\\\\..\\\\Data\\\\retailrocket\\\\events.csv')"
   ]
  },
  {
   "cell_type": "code",
   "execution_count": null,
   "metadata": {
    "collapsed": false
   },
   "outputs": [],
   "source": [
    "events_df$timestamp %>% head(10)"
   ]
  },
  {
   "cell_type": "code",
   "execution_count": null,
   "metadata": {
    "collapsed": false
   },
   "outputs": [],
   "source": [
    "as.POSIXct(strptime('1433221332117', \"%a %b %d %H:%M:%S %z %Y\"))"
   ]
  },
  {
   "cell_type": "code",
   "execution_count": null,
   "metadata": {
    "collapsed": false
   },
   "outputs": [],
   "source": [
    "difftime(as.POSIXct(1433221332117, origin=\"1970-01-01\"),as.POSIXct(1433224214164, origin=\"1970-01-01\"),units='mins')"
   ]
  },
  {
   "cell_type": "code",
   "execution_count": null,
   "metadata": {
    "collapsed": false
   },
   "outputs": [],
   "source": [
    "time_diff = function(date_1,date_2,units){\n",
    "    return(difftime(as.POSIXct(date_1, origin=\"1970-01-01\"),as.POSIXct(date_2, origin=\"1970-01-01\"),units=units) %>% as.numeric )\n",
    "} "
   ]
  },
  {
   "cell_type": "code",
   "execution_count": null,
   "metadata": {
    "collapsed": false
   },
   "outputs": [],
   "source": [
    "events_df %>% head(20)"
   ]
  },
  {
   "cell_type": "code",
   "execution_count": null,
   "metadata": {
    "collapsed": false
   },
   "outputs": [],
   "source": [
    "events_df %>% group_by(itemid,visitorid) %>%\n",
    "    summarise(vol1 = n()) %>%\n",
    "    group_by(itemid) %>%\n",
    "    summarise(vol = n() ) %>%\n",
    "    arrange(vol %>% desc)"
   ]
  },
  {
   "cell_type": "code",
   "execution_count": null,
   "metadata": {
    "collapsed": false
   },
   "outputs": [],
   "source": [
    "events_df %>%\n",
    "    group_by(visitorid) %>%\n",
    "    summarise(vol = n()) %>%\n",
    "arrange(vol %>% desc)"
   ]
  },
  {
   "cell_type": "code",
   "execution_count": null,
   "metadata": {
    "collapsed": false
   },
   "outputs": [],
   "source": [
    "events_df %>% filter(visitorid == 890980, itemid == 98491)"
   ]
  },
  {
   "cell_type": "code",
   "execution_count": null,
   "metadata": {
    "collapsed": false
   },
   "outputs": [],
   "source": [
    "events_df %>% filter(visitorid == 755375, itemid == 187946)"
   ]
  },
  {
   "cell_type": "code",
   "execution_count": null,
   "metadata": {
    "collapsed": false
   },
   "outputs": [],
   "source": [
    "events_df %>% select(event) %>% unique"
   ]
  },
  {
   "cell_type": "code",
   "execution_count": null,
   "metadata": {
    "collapsed": false
   },
   "outputs": [],
   "source": [
    "events_df %>% #filter(visitorid == 890980) %>% \n",
    "    mutate(view_time = ifelse(event == 'view',timestamp,NA),\n",
    "           addcart_time = ifelse(event == 'addtocart',timestamp,NA),\n",
    "           transactiontime = ifelse(event == 'transaction',timestamp,NA)) %>%\n",
    " group_by(visitorid, itemid) %>%\n",
    "     summarise(\n",
    "         min_view = min(view_time, na.rm = T),\n",
    "         min_addcart = min(addcart_time, na.rm = T),\n",
    "         min_transaction = min(transactiontime, na.rm = T)\n",
    "     ) %>% \n",
    "mutate( time_to_addcart = time_diff(min_view,min_addcart,'mins')) -> events_agg"
   ]
  },
  {
   "cell_type": "code",
   "execution_count": null,
   "metadata": {
    "collapsed": false
   },
   "outputs": [],
   "source": [
    "events_agg %>% filter(!is.na(min_addcart),!is.na(min_view) ) %>% head(10)"
   ]
  },
  {
   "cell_type": "code",
   "execution_count": null,
   "metadata": {
    "collapsed": false
   },
   "outputs": [],
   "source": [
    "events_agg %>% filter(!is.na(min_addcart),!is.na(min_view) ) %>% \n",
    "filter(time_to_addcart > -1800, time_to_addcart <= 0) %>%\n",
    "ggplot(aes(x = time_to_addcart)) + geom_density()"
   ]
  },
  {
   "cell_type": "code",
   "execution_count": null,
   "metadata": {
    "collapsed": false
   },
   "outputs": [],
   "source": [
    "events_agg %>% filter(!is.na(min_addcart),!is.na(min_view) ) %>% \n",
    "filter(time_to_addcart > -40320, time_to_addcart <= 0) %>%\n",
    "mutate(time_to_addcart = -1*time_to_addcart) %>%\n",
    "filter(!is.na(time_to_addcart)) %>%\n",
    "rowwise() %>%\n",
    "mutate(time_bins = .bincode(time_to_addcart, seq(0,40320,1440), T) ) %>%\n",
    "group_by(time_bins) %>%\n",
    "summarise(\n",
    "     vol_bought = sum(!is.na(min_transaction)),\n",
    "     vol = n(),\n",
    "    frac_bought = sum(!is.na(min_transaction)) / n()\n",
    " ) %>%\n",
    "ggplot(aes(x = time_bins, y = frac_bought)) + geom_point()"
   ]
  },
  {
   "cell_type": "markdown",
   "metadata": {},
   "source": [
    "# Looks like an interesting $ P \\left( 1 - \\exp( - \\beta t ) \\right) $ relationship"
   ]
  },
  {
   "cell_type": "code",
   "execution_count": null,
   "metadata": {
    "collapsed": true
   },
   "outputs": [],
   "source": [
    "category_df <- read.csv('..\\\\..\\\\Data\\\\retailrocket\\\\category_tree.csv')"
   ]
  },
  {
   "cell_type": "code",
   "execution_count": null,
   "metadata": {
    "collapsed": false
   },
   "outputs": [],
   "source": [
    "category_df %>% head(20)"
   ]
  },
  {
   "cell_type": "code",
   "execution_count": null,
   "metadata": {
    "collapsed": true
   },
   "outputs": [],
   "source": [
    "items_pt1 <- read.csv('..\\\\..\\\\Data\\\\retailrocket\\\\item_properties_part1.csv')\n",
    "items_pt2 <- read.csv('..\\\\..\\\\Data\\\\retailrocket\\\\item_properties_part2.csv')"
   ]
  },
  {
   "cell_type": "code",
   "execution_count": null,
   "metadata": {
    "collapsed": true
   },
   "outputs": [],
   "source": [
    "items_combined = rbind(items_pt1,items_pt2)"
   ]
  },
  {
   "cell_type": "code",
   "execution_count": null,
   "metadata": {
    "collapsed": false
   },
   "outputs": [],
   "source": [
    "items_combined %>% tail(20)"
   ]
  },
  {
   "cell_type": "code",
   "execution_count": null,
   "metadata": {
    "collapsed": true
   },
   "outputs": [],
   "source": [
    "items_combined$value  <- items_combined$value %>% as.character"
   ]
  },
  {
   "cell_type": "code",
   "execution_count": null,
   "metadata": {
    "collapsed": false
   },
   "outputs": [],
   "source": [
    "items_combined %>% group_by(itemid,property) %>%\n",
    "    summarise(\n",
    "        vol = n(),\n",
    "        num_values = n_distinct(value)\n",
    "        ,max_value = max(value)\n",
    "        ,min_value = min(value)\n",
    "        ,time_avg = mean(timestamp)\n",
    "    ) -> tmp_items_agg"
   ]
  },
  {
   "cell_type": "code",
   "execution_count": null,
   "metadata": {
    "collapsed": false
   },
   "outputs": [],
   "source": [
    "tmp_items_agg %>% head(60)"
   ]
  },
  {
   "cell_type": "code",
   "execution_count": null,
   "metadata": {
    "collapsed": false
   },
   "outputs": [],
   "source": [
    "tmp_items_agg %>% \n",
    "mutate(is_available = (property == 'available' & max_value == 1)) %>%\n",
    "group_by(itemid) %>%\n",
    "summarise(\n",
    "    total_vol = sum(vol),\n",
    "    vol_properties = n(),\n",
    "    available = sum(is_available)\n",
    "    #time_spread = stderr(time_avg)\n",
    ") %>% head(20)"
   ]
  },
  {
   "cell_type": "code",
   "execution_count": null,
   "metadata": {
    "collapsed": true
   },
   "outputs": [],
   "source": [
    "feather::write_feather(x = tmp_items_agg, path = 'tmp_items.feather')"
   ]
  },
  {
   "cell_type": "code",
   "execution_count": null,
   "metadata": {
    "collapsed": false
   },
   "outputs": [],
   "source": [
    "##tmp_items_agg %>% dcast(., formula = itemid ~ property, value.var = 'max_value', fun.aggregate = mean) -> tmp_items_agg_vects"
   ]
  },
  {
   "cell_type": "markdown",
   "metadata": {},
   "source": []
  }
 ],
 "metadata": {
  "kernelspec": {
   "display_name": "R",
   "language": "R",
   "name": "ir"
  },
  "language_info": {
   "codemirror_mode": "r",
   "file_extension": ".r",
   "mimetype": "text/x-r-source",
   "name": "R",
   "pygments_lexer": "r",
   "version": "3.3.2"
  }
 },
 "nbformat": 4,
 "nbformat_minor": 2
}
