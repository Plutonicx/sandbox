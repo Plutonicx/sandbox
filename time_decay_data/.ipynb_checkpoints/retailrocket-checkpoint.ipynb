{
 "cells": [
  {
   "cell_type": "code",
   "execution_count": 1,
   "metadata": {
    "collapsed": false
   },
   "outputs": [
    {
     "name": "stderr",
     "output_type": "stream",
     "text": [
      "Loading tidyverse: ggplot2\n",
      "Loading tidyverse: tibble\n",
      "Loading tidyverse: tidyr\n",
      "Loading tidyverse: readr\n",
      "Loading tidyverse: purrr\n",
      "Loading tidyverse: dplyr\n",
      "Conflicts with tidy packages ---------------------------------------------------\n",
      "filter(): dplyr, stats\n",
      "lag():    dplyr, stats\n"
     ]
    }
   ],
   "source": [
    "library(tidyverse)"
   ]
  },
  {
   "cell_type": "code",
   "execution_count": 2,
   "metadata": {
    "collapsed": true
   },
   "outputs": [],
   "source": [
    "events_df <- read.csv('..\\\\..\\\\Data\\\\retailrocket\\\\events.csv')"
   ]
  },
  {
   "cell_type": "code",
   "execution_count": 4,
   "metadata": {
    "collapsed": false
   },
   "outputs": [
    {
     "data": {
      "text/html": [
       "<ol class=list-inline>\n",
       "\t<li>1433221332117</li>\n",
       "\t<li>1433224214164</li>\n",
       "\t<li>1433221999827</li>\n",
       "\t<li>1433221955914</li>\n",
       "\t<li>1433221337106</li>\n",
       "\t<li>1433224086234</li>\n",
       "\t<li>1433221923240</li>\n",
       "\t<li>1433223291897</li>\n",
       "\t<li>1433220899221</li>\n",
       "\t<li>1433221204592</li>\n",
       "</ol>\n"
      ],
      "text/latex": [
       "\\begin{enumerate*}\n",
       "\\item 1433221332117\n",
       "\\item 1433224214164\n",
       "\\item 1433221999827\n",
       "\\item 1433221955914\n",
       "\\item 1433221337106\n",
       "\\item 1433224086234\n",
       "\\item 1433221923240\n",
       "\\item 1433223291897\n",
       "\\item 1433220899221\n",
       "\\item 1433221204592\n",
       "\\end{enumerate*}\n"
      ],
      "text/markdown": [
       "1. 1433221332117\n",
       "2. 1433224214164\n",
       "3. 1433221999827\n",
       "4. 1433221955914\n",
       "5. 1433221337106\n",
       "6. 1433224086234\n",
       "7. 1433221923240\n",
       "8. 1433223291897\n",
       "9. 1433220899221\n",
       "10. 1433221204592\n",
       "\n",
       "\n"
      ],
      "text/plain": [
       " [1] 1.433221e+12 1.433224e+12 1.433222e+12 1.433222e+12 1.433221e+12\n",
       " [6] 1.433224e+12 1.433222e+12 1.433223e+12 1.433221e+12 1.433221e+12"
      ]
     },
     "metadata": {},
     "output_type": "display_data"
    }
   ],
   "source": [
    "events_df$timestamp %>% head(10)"
   ]
  },
  {
   "cell_type": "code",
   "execution_count": 5,
   "metadata": {
    "collapsed": false
   },
   "outputs": [
    {
     "data": {
      "text/plain": [
       "[1] NA"
      ]
     },
     "metadata": {},
     "output_type": "display_data"
    }
   ],
   "source": [
    "as.POSIXct(strptime('1433221332117', \"%a %b %d %H:%M:%S %z %Y\"))"
   ]
  },
  {
   "cell_type": "code",
   "execution_count": 25,
   "metadata": {
    "collapsed": false
   },
   "outputs": [
    {
     "data": {
      "text/plain": [
       "Time difference of -48034.12 mins"
      ]
     },
     "metadata": {},
     "output_type": "display_data"
    }
   ],
   "source": [
    "difftime(as.POSIXct(1433221332117, origin=\"1970-01-01\"),as.POSIXct(1433224214164, origin=\"1970-01-01\"),units='mins')"
   ]
  },
  {
   "cell_type": "code",
   "execution_count": 26,
   "metadata": {
    "collapsed": false
   },
   "outputs": [],
   "source": [
    "time_diff = function(date_1,date_2,units){\n",
    "    return(difftime(as.POSIXct(date_1, origin=\"1970-01-01\"),as.POSIXct(date_2, origin=\"1970-01-01\"),units=units) %>% as.numeric )\n",
    "} "
   ]
  },
  {
   "cell_type": "code",
   "execution_count": null,
   "metadata": {
    "collapsed": true
   },
   "outputs": [],
   "source": []
  }
 ],
 "metadata": {
  "kernelspec": {
   "display_name": "R",
   "language": "R",
   "name": "ir"
  },
  "language_info": {
   "codemirror_mode": "r",
   "file_extension": ".r",
   "mimetype": "text/x-r-source",
   "name": "R",
   "pygments_lexer": "r",
   "version": "3.3.2"
  }
 },
 "nbformat": 4,
 "nbformat_minor": 2
}
