{
 "cells": [
  {
   "cell_type": "code",
   "execution_count": 1,
   "metadata": {
    "collapsed": false
   },
   "outputs": [
    {
     "name": "stderr",
     "output_type": "stream",
     "text": [
      "Loading tidyverse: ggplot2\n",
      "Loading tidyverse: tibble\n",
      "Loading tidyverse: tidyr\n",
      "Loading tidyverse: readr\n",
      "Loading tidyverse: purrr\n",
      "Loading tidyverse: dplyr\n",
      "Conflicts with tidy packages ---------------------------------------------------\n",
      "filter(): dplyr, stats\n",
      "lag():    dplyr, stats\n"
     ]
    }
   ],
   "source": [
    "library(tidyverse)"
   ]
  },
  {
   "cell_type": "code",
   "execution_count": 2,
   "metadata": {
    "collapsed": true
   },
   "outputs": [],
   "source": [
    "data <- read.csv('Loan payments data.csv')"
   ]
  },
  {
   "cell_type": "code",
   "execution_count": 3,
   "metadata": {
    "collapsed": false
   },
   "outputs": [
    {
     "data": {
      "text/html": [
       "<table>\n",
       "<thead><tr><th scope=col>Loan_ID</th><th scope=col>loan_status</th><th scope=col>Principal</th><th scope=col>terms</th><th scope=col>effective_date</th><th scope=col>due_date</th><th scope=col>paid_off_time</th><th scope=col>past_due_days</th><th scope=col>age</th><th scope=col>education</th><th scope=col>Gender</th></tr></thead>\n",
       "<tbody>\n",
       "\t<tr><td>xqd20166231         </td><td>PAIDOFF             </td><td>1000                </td><td>30                  </td><td>9/8/2016            </td><td>10/7/2016           </td><td>9/14/2016 19:31     </td><td>NA                  </td><td>45                  </td><td>High School or Below</td><td>male                </td></tr>\n",
       "\t<tr><td>xqd20168902         </td><td>PAIDOFF             </td><td>1000                </td><td>30                  </td><td>9/8/2016            </td><td>10/7/2016           </td><td>10/7/2016 9:00      </td><td>NA                  </td><td>50                  </td><td>Bechalor            </td><td>female              </td></tr>\n",
       "\t<tr><td>xqd20160003         </td><td>PAIDOFF             </td><td>1000                </td><td>30                  </td><td>9/8/2016            </td><td>10/7/2016           </td><td>9/25/2016 16:58     </td><td>NA                  </td><td>33                  </td><td>Bechalor            </td><td>female              </td></tr>\n",
       "\t<tr><td>xqd20160004         </td><td>PAIDOFF             </td><td>1000                </td><td>15                  </td><td>9/8/2016            </td><td>9/22/2016           </td><td>9/22/2016 20:00     </td><td>NA                  </td><td>27                  </td><td>college             </td><td>male                </td></tr>\n",
       "\t<tr><td>xqd20160005         </td><td>PAIDOFF             </td><td>1000                </td><td>30                  </td><td>9/9/2016            </td><td>10/8/2016           </td><td>9/23/2016 21:36     </td><td>NA                  </td><td>28                  </td><td>college             </td><td>female              </td></tr>\n",
       "\t<tr><td>xqd20160706         </td><td>PAIDOFF             </td><td> 300                </td><td> 7                  </td><td>9/9/2016            </td><td>9/15/2016           </td><td>9/9/2016 13:45      </td><td>NA                  </td><td>35                  </td><td>Master or Above     </td><td>male                </td></tr>\n",
       "\t<tr><td>xqd20160007         </td><td>PAIDOFF             </td><td>1000                </td><td>30                  </td><td>9/9/2016            </td><td>10/8/2016           </td><td>10/7/2016 23:07     </td><td>NA                  </td><td>29                  </td><td>college             </td><td>male                </td></tr>\n",
       "\t<tr><td>xqd20160008         </td><td>PAIDOFF             </td><td>1000                </td><td>30                  </td><td>9/9/2016            </td><td>10/8/2016           </td><td>10/5/2016 20:33     </td><td>NA                  </td><td>36                  </td><td>college             </td><td>male                </td></tr>\n",
       "\t<tr><td>xqd20160909         </td><td>PAIDOFF             </td><td>1000                </td><td>30                  </td><td>9/9/2016            </td><td>10/8/2016           </td><td>10/8/2016 16:00     </td><td>NA                  </td><td>28                  </td><td>college             </td><td>male                </td></tr>\n",
       "\t<tr><td>xqd20160010         </td><td>PAIDOFF             </td><td> 800                </td><td>15                  </td><td>9/10/2016           </td><td>9/24/2016           </td><td>9/24/2016 13:00     </td><td>NA                  </td><td>26                  </td><td>college             </td><td>male                </td></tr>\n",
       "</tbody>\n",
       "</table>\n"
      ],
      "text/latex": [
       "\\begin{tabular}{r|lllllllllll}\n",
       " Loan\\_ID & loan\\_status & Principal & terms & effective\\_date & due\\_date & paid\\_off\\_time & past\\_due\\_days & age & education & Gender\\\\\n",
       "\\hline\n",
       "\t xqd20166231          & PAIDOFF              & 1000                 & 30                   & 9/8/2016             & 10/7/2016            & 9/14/2016 19:31      & NA                   & 45                   & High School or Below & male                \\\\\n",
       "\t xqd20168902          & PAIDOFF              & 1000                 & 30                   & 9/8/2016             & 10/7/2016            & 10/7/2016 9:00       & NA                   & 50                   & Bechalor             & female              \\\\\n",
       "\t xqd20160003          & PAIDOFF              & 1000                 & 30                   & 9/8/2016             & 10/7/2016            & 9/25/2016 16:58      & NA                   & 33                   & Bechalor             & female              \\\\\n",
       "\t xqd20160004          & PAIDOFF              & 1000                 & 15                   & 9/8/2016             & 9/22/2016            & 9/22/2016 20:00      & NA                   & 27                   & college              & male                \\\\\n",
       "\t xqd20160005          & PAIDOFF              & 1000                 & 30                   & 9/9/2016             & 10/8/2016            & 9/23/2016 21:36      & NA                   & 28                   & college              & female              \\\\\n",
       "\t xqd20160706          & PAIDOFF              &  300                 &  7                   & 9/9/2016             & 9/15/2016            & 9/9/2016 13:45       & NA                   & 35                   & Master or Above      & male                \\\\\n",
       "\t xqd20160007          & PAIDOFF              & 1000                 & 30                   & 9/9/2016             & 10/8/2016            & 10/7/2016 23:07      & NA                   & 29                   & college              & male                \\\\\n",
       "\t xqd20160008          & PAIDOFF              & 1000                 & 30                   & 9/9/2016             & 10/8/2016            & 10/5/2016 20:33      & NA                   & 36                   & college              & male                \\\\\n",
       "\t xqd20160909          & PAIDOFF              & 1000                 & 30                   & 9/9/2016             & 10/8/2016            & 10/8/2016 16:00      & NA                   & 28                   & college              & male                \\\\\n",
       "\t xqd20160010          & PAIDOFF              &  800                 & 15                   & 9/10/2016            & 9/24/2016            & 9/24/2016 13:00      & NA                   & 26                   & college              & male                \\\\\n",
       "\\end{tabular}\n"
      ],
      "text/markdown": [
       "\n",
       "Loan_ID | loan_status | Principal | terms | effective_date | due_date | paid_off_time | past_due_days | age | education | Gender | \n",
       "|---|---|---|---|---|---|---|---|---|---|\n",
       "| xqd20166231          | PAIDOFF              | 1000                 | 30                   | 9/8/2016             | 10/7/2016            | 9/14/2016 19:31      | NA                   | 45                   | High School or Below | male                 | \n",
       "| xqd20168902          | PAIDOFF              | 1000                 | 30                   | 9/8/2016             | 10/7/2016            | 10/7/2016 9:00       | NA                   | 50                   | Bechalor             | female               | \n",
       "| xqd20160003          | PAIDOFF              | 1000                 | 30                   | 9/8/2016             | 10/7/2016            | 9/25/2016 16:58      | NA                   | 33                   | Bechalor             | female               | \n",
       "| xqd20160004          | PAIDOFF              | 1000                 | 15                   | 9/8/2016             | 9/22/2016            | 9/22/2016 20:00      | NA                   | 27                   | college              | male                 | \n",
       "| xqd20160005          | PAIDOFF              | 1000                 | 30                   | 9/9/2016             | 10/8/2016            | 9/23/2016 21:36      | NA                   | 28                   | college              | female               | \n",
       "| xqd20160706          | PAIDOFF              |  300                 |  7                   | 9/9/2016             | 9/15/2016            | 9/9/2016 13:45       | NA                   | 35                   | Master or Above      | male                 | \n",
       "| xqd20160007          | PAIDOFF              | 1000                 | 30                   | 9/9/2016             | 10/8/2016            | 10/7/2016 23:07      | NA                   | 29                   | college              | male                 | \n",
       "| xqd20160008          | PAIDOFF              | 1000                 | 30                   | 9/9/2016             | 10/8/2016            | 10/5/2016 20:33      | NA                   | 36                   | college              | male                 | \n",
       "| xqd20160909          | PAIDOFF              | 1000                 | 30                   | 9/9/2016             | 10/8/2016            | 10/8/2016 16:00      | NA                   | 28                   | college              | male                 | \n",
       "| xqd20160010          | PAIDOFF              |  800                 | 15                   | 9/10/2016            | 9/24/2016            | 9/24/2016 13:00      | NA                   | 26                   | college              | male                 | \n",
       "\n",
       "\n"
      ],
      "text/plain": [
       "   Loan_ID     loan_status Principal terms effective_date due_date \n",
       "1  xqd20166231 PAIDOFF     1000      30    9/8/2016       10/7/2016\n",
       "2  xqd20168902 PAIDOFF     1000      30    9/8/2016       10/7/2016\n",
       "3  xqd20160003 PAIDOFF     1000      30    9/8/2016       10/7/2016\n",
       "4  xqd20160004 PAIDOFF     1000      15    9/8/2016       9/22/2016\n",
       "5  xqd20160005 PAIDOFF     1000      30    9/9/2016       10/8/2016\n",
       "6  xqd20160706 PAIDOFF      300       7    9/9/2016       9/15/2016\n",
       "7  xqd20160007 PAIDOFF     1000      30    9/9/2016       10/8/2016\n",
       "8  xqd20160008 PAIDOFF     1000      30    9/9/2016       10/8/2016\n",
       "9  xqd20160909 PAIDOFF     1000      30    9/9/2016       10/8/2016\n",
       "10 xqd20160010 PAIDOFF      800      15    9/10/2016      9/24/2016\n",
       "   paid_off_time   past_due_days age education            Gender\n",
       "1  9/14/2016 19:31 NA            45  High School or Below male  \n",
       "2  10/7/2016 9:00  NA            50  Bechalor             female\n",
       "3  9/25/2016 16:58 NA            33  Bechalor             female\n",
       "4  9/22/2016 20:00 NA            27  college              male  \n",
       "5  9/23/2016 21:36 NA            28  college              female\n",
       "6  9/9/2016 13:45  NA            35  Master or Above      male  \n",
       "7  10/7/2016 23:07 NA            29  college              male  \n",
       "8  10/5/2016 20:33 NA            36  college              male  \n",
       "9  10/8/2016 16:00 NA            28  college              male  \n",
       "10 9/24/2016 13:00 NA            26  college              male  "
      ]
     },
     "metadata": {},
     "output_type": "display_data"
    }
   ],
   "source": [
    "data %>% head(10)"
   ]
  },
  {
   "cell_type": "code",
   "execution_count": 15,
   "metadata": {
    "collapsed": false
   },
   "outputs": [
    {
     "data": {
      "text/html": [
       "-6"
      ],
      "text/latex": [
       "-6"
      ],
      "text/markdown": [
       "-6"
      ],
      "text/plain": [
       "[1] -6"
      ]
     },
     "metadata": {},
     "output_type": "display_data"
    }
   ],
   "source": [
    "difftime(lubridate::mdy('9/8/2016'), lubridate::mdy('9/14/2016'),  units = \"days\") %>% as.numeric"
   ]
  },
  {
   "cell_type": "code",
   "execution_count": 18,
   "metadata": {
    "collapsed": false
   },
   "outputs": [
    {
     "data": {
      "text/html": [
       "<table>\n",
       "<thead><tr><th scope=col>loan_status</th><th scope=col>vol</th></tr></thead>\n",
       "<tbody>\n",
       "\t<tr><td>COLLECTION        </td><td>100               </td></tr>\n",
       "\t<tr><td>COLLECTION_PAIDOFF</td><td>100               </td></tr>\n",
       "\t<tr><td>PAIDOFF           </td><td>300               </td></tr>\n",
       "</tbody>\n",
       "</table>\n"
      ],
      "text/latex": [
       "\\begin{tabular}{r|ll}\n",
       " loan\\_status & vol\\\\\n",
       "\\hline\n",
       "\t COLLECTION         & 100               \\\\\n",
       "\t COLLECTION\\_PAIDOFF & 100                 \\\\\n",
       "\t PAIDOFF            & 300               \\\\\n",
       "\\end{tabular}\n"
      ],
      "text/markdown": [
       "\n",
       "loan_status | vol | \n",
       "|---|---|---|\n",
       "| COLLECTION         | 100                | \n",
       "| COLLECTION_PAIDOFF | 100                | \n",
       "| PAIDOFF            | 300                | \n",
       "\n",
       "\n"
      ],
      "text/plain": [
       "  loan_status        vol\n",
       "1 COLLECTION         100\n",
       "2 COLLECTION_PAIDOFF 100\n",
       "3 PAIDOFF            300"
      ]
     },
     "metadata": {},
     "output_type": "display_data"
    }
   ],
   "source": [
    "data %>% group_by(loan_status) %>%\n",
    "    summarise(\n",
    "        vol = n()\n",
    "    )"
   ]
  },
  {
   "cell_type": "code",
   "execution_count": 52,
   "metadata": {
    "collapsed": false
   },
   "outputs": [
    {
     "data": {},
     "metadata": {},
     "output_type": "display_data"
    },
    {
     "data": {
      "image/png": "[encoded data removed]",
      "text/plain": [
       "plot without title"
      ]
     },
     "metadata": {},
     "output_type": "display_data"
    }
   ],
   "source": [
    "data %>% mutate(time_diff = -1*difftime(lubridate::mdy(effective_date),lubridate::mdy_hm(paid_off_time),units=\"days\") %>% as.numeric ) %>%\n",
    "    filter(loan_status == 'PAIDOFF') %>%\n",
    "ggplot(aes(x=time_diff)) + geom_density()"
   ]
  },
  {
   "cell_type": "code",
   "execution_count": 56,
   "metadata": {
    "collapsed": true
   },
   "outputs": [],
   "source": [
    "? cut"
   ]
  },
  {
   "cell_type": "code",
   "execution_count": 46,
   "metadata": {
    "collapsed": false
   },
   "outputs": [
    {
     "data": {
      "text/html": [
       "5"
      ],
      "text/latex": [
       "5"
      ],
      "text/markdown": [
       "5"
      ],
      "text/plain": [
       "[1] 5"
      ]
     },
     "metadata": {},
     "output_type": "display_data"
    }
   ],
   "source": [
    "which.max( seq(from = 0,to=60,by = 5) > 5 )*5 - 10"
   ]
  },
  {
   "cell_type": "code",
   "execution_count": 76,
   "metadata": {
    "collapsed": false
   },
   "outputs": [
    {
     "name": "stderr",
     "output_type": "stream",
     "text": [
      "Warning message:\n",
      "\"Removed 1 rows containing missing values (geom_point).\""
     ]
    },
    {
     "data": {},
     "metadata": {},
     "output_type": "display_data"
    },
    {
     "data": {
      "image/png": "[encoded data removed]",
      "text/plain": [
       "plot without title"
      ]
     },
     "metadata": {},
     "output_type": "display_data"
    }
   ],
   "source": [
    "data %>% mutate(time_diff = -1*difftime(lubridate::mdy(effective_date),lubridate::mdy_hm(paid_off_time),units=\"days\") %>% as.numeric ) %>%\n",
    "    mutate( time_bin = cut(time_diff, breaks = 5)  ) %>%\n",
    "    group_by(time_bin) %>%\n",
    "    summarise(\n",
    "        paidoff_vol = sum(loan_status == 'PAIDOFF'),\n",
    "        coll_paidoff_vol = sum(loan_status == 'COLLECTION_PAIDOFF'),\n",
    "        fraction_paidoff = sum(loan_status == 'PAIDOFF') / (\n",
    "        sum(loan_status == 'PAIDOFF') + sum(loan_status == 'COLLECTION_PAIDOFF'))\n",
    "    ) %>%\n",
    "ggplot(aes(x=time_bin,y=fraction_paidoff)) + geom_point()\n",
    "    \n"
   ]
  },
  {
   "cell_type": "code",
   "execution_count": null,
   "metadata": {
    "collapsed": true
   },
   "outputs": [],
   "source": [
    "data %>% mutate(time_diff = difftime(lubridate::mdy(effective_date),lubridate::mdy_hm(paid_off_time),units=\"days\") %>% as.numeric ) %>%\n",
    "    \n"
   ]
  },
  {
   "cell_type": "code",
   "execution_count": 17,
   "metadata": {
    "collapsed": false
   },
   "outputs": [
    {
     "name": "stderr",
     "output_type": "stream",
     "text": [
      "Warning message:\n",
      "\"All formats failed to parse. No formats found.\""
     ]
    },
    {
     "data": {
      "text/html": [
       "<table>\n",
       "<thead><tr><th scope=col>Loan_ID</th><th scope=col>loan_status</th><th scope=col>Principal</th><th scope=col>terms</th><th scope=col>effective_date</th><th scope=col>due_date</th><th scope=col>paid_off_time</th><th scope=col>past_due_days</th><th scope=col>age</th><th scope=col>education</th><th scope=col>Gender</th><th scope=col>day_diff</th></tr></thead>\n",
       "<tbody>\n",
       "\t<tr><td>xqd20166231         </td><td>PAIDOFF             </td><td>1000                </td><td>30                  </td><td>9/8/2016            </td><td>10/7/2016           </td><td>9/14/2016 19:31     </td><td>NA                  </td><td>45                  </td><td>High School or Below</td><td>male                </td><td>NA                  </td></tr>\n",
       "\t<tr><td>xqd20168902         </td><td>PAIDOFF             </td><td>1000                </td><td>30                  </td><td>9/8/2016            </td><td>10/7/2016           </td><td>10/7/2016 9:00      </td><td>NA                  </td><td>50                  </td><td>Bechalor            </td><td>female              </td><td>NA                  </td></tr>\n",
       "\t<tr><td>xqd20160003         </td><td>PAIDOFF             </td><td>1000                </td><td>30                  </td><td>9/8/2016            </td><td>10/7/2016           </td><td>9/25/2016 16:58     </td><td>NA                  </td><td>33                  </td><td>Bechalor            </td><td>female              </td><td>NA                  </td></tr>\n",
       "\t<tr><td>xqd20160004         </td><td>PAIDOFF             </td><td>1000                </td><td>15                  </td><td>9/8/2016            </td><td>9/22/2016           </td><td>9/22/2016 20:00     </td><td>NA                  </td><td>27                  </td><td>college             </td><td>male                </td><td>NA                  </td></tr>\n",
       "\t<tr><td>xqd20160005         </td><td>PAIDOFF             </td><td>1000                </td><td>30                  </td><td>9/9/2016            </td><td>10/8/2016           </td><td>9/23/2016 21:36     </td><td>NA                  </td><td>28                  </td><td>college             </td><td>female              </td><td>NA                  </td></tr>\n",
       "\t<tr><td>xqd20160706         </td><td>PAIDOFF             </td><td> 300                </td><td> 7                  </td><td>9/9/2016            </td><td>9/15/2016           </td><td>9/9/2016 13:45      </td><td>NA                  </td><td>35                  </td><td>Master or Above     </td><td>male                </td><td>NA                  </td></tr>\n",
       "\t<tr><td>xqd20160007         </td><td>PAIDOFF             </td><td>1000                </td><td>30                  </td><td>9/9/2016            </td><td>10/8/2016           </td><td>10/7/2016 23:07     </td><td>NA                  </td><td>29                  </td><td>college             </td><td>male                </td><td>NA                  </td></tr>\n",
       "\t<tr><td>xqd20160008         </td><td>PAIDOFF             </td><td>1000                </td><td>30                  </td><td>9/9/2016            </td><td>10/8/2016           </td><td>10/5/2016 20:33     </td><td>NA                  </td><td>36                  </td><td>college             </td><td>male                </td><td>NA                  </td></tr>\n",
       "\t<tr><td>xqd20160909         </td><td>PAIDOFF             </td><td>1000                </td><td>30                  </td><td>9/9/2016            </td><td>10/8/2016           </td><td>10/8/2016 16:00     </td><td>NA                  </td><td>28                  </td><td>college             </td><td>male                </td><td>NA                  </td></tr>\n",
       "\t<tr><td>xqd20160010         </td><td>PAIDOFF             </td><td> 800                </td><td>15                  </td><td>9/10/2016           </td><td>9/24/2016           </td><td>9/24/2016 13:00     </td><td>NA                  </td><td>26                  </td><td>college             </td><td>male                </td><td>NA                  </td></tr>\n",
       "\t<tr><td>xqd20160011         </td><td>PAIDOFF             </td><td> 300                </td><td> 7                  </td><td>9/10/2016           </td><td>9/16/2016           </td><td>9/11/2016 19:11     </td><td>NA                  </td><td>29                  </td><td>college             </td><td>male                </td><td>NA                  </td></tr>\n",
       "\t<tr><td>xqd20160012         </td><td>PAIDOFF             </td><td>1000                </td><td>15                  </td><td>9/10/2016           </td><td>10/9/2016           </td><td>10/9/2016 16:00     </td><td>NA                  </td><td>39                  </td><td>High School or Below</td><td>male                </td><td>NA                  </td></tr>\n",
       "\t<tr><td>xqd20160013         </td><td>PAIDOFF             </td><td>1000                </td><td>30                  </td><td>9/10/2016           </td><td>10/9/2016           </td><td>10/7/2016 23:32     </td><td>NA                  </td><td>26                  </td><td>college             </td><td>male                </td><td>NA                  </td></tr>\n",
       "\t<tr><td>xqd20160014         </td><td>PAIDOFF             </td><td> 900                </td><td> 7                  </td><td>9/10/2016           </td><td>9/16/2016           </td><td>9/13/2016 21:57     </td><td>NA                  </td><td>26                  </td><td>college             </td><td>female              </td><td>NA                  </td></tr>\n",
       "\t<tr><td>xqd20160015         </td><td>PAIDOFF             </td><td>1000                </td><td> 7                  </td><td>9/10/2016           </td><td>9/16/2016           </td><td>9/15/2016 14:27     </td><td>NA                  </td><td>27                  </td><td>High School or Below</td><td>male                </td><td>NA                  </td></tr>\n",
       "\t<tr><td>xqd20160016         </td><td>PAIDOFF             </td><td> 800                </td><td>15                  </td><td>9/10/2016           </td><td>9/24/2016           </td><td>9/24/2016 16:00     </td><td>NA                  </td><td>26                  </td><td>college             </td><td>male                </td><td>NA                  </td></tr>\n",
       "\t<tr><td>xqd20160017         </td><td>PAIDOFF             </td><td>1000                </td><td>30                  </td><td>9/10/2016           </td><td>10/9/2016           </td><td>9/27/2016 14:21     </td><td>NA                  </td><td>40                  </td><td>High School or Below</td><td>male                </td><td>NA                  </td></tr>\n",
       "\t<tr><td>xqd20160018         </td><td>PAIDOFF             </td><td>1000                </td><td>15                  </td><td>9/10/2016           </td><td>9/24/2016           </td><td>9/23/2016 18:49     </td><td>NA                  </td><td>32                  </td><td>High School or Below</td><td>male                </td><td>NA                  </td></tr>\n",
       "\t<tr><td>xqd20160019         </td><td>PAIDOFF             </td><td>1000                </td><td>30                  </td><td>9/10/2016           </td><td>10/9/2016           </td><td>10/5/2016 22:05     </td><td>NA                  </td><td>32                  </td><td>High School or Below</td><td>male                </td><td>NA                  </td></tr>\n",
       "\t<tr><td>xqd20160020         </td><td>PAIDOFF             </td><td> 800                </td><td>30                  </td><td>9/10/2016           </td><td>10/9/2016           </td><td>9/23/2016 7:42      </td><td>NA                  </td><td>26                  </td><td>college             </td><td>male                </td><td>NA                  </td></tr>\n",
       "\t<tr><td>xqd20160021         </td><td>PAIDOFF             </td><td>1000                </td><td>30                  </td><td>9/10/2016           </td><td>10/9/2016           </td><td>10/9/2016 9:00      </td><td>NA                  </td><td>26                  </td><td>college             </td><td>male                </td><td>NA                  </td></tr>\n",
       "\t<tr><td>xqd20160022         </td><td>PAIDOFF             </td><td>1000                </td><td>30                  </td><td>9/10/2016           </td><td>10/9/2016           </td><td>10/8/2016 17:09     </td><td>NA                  </td><td>43                  </td><td>High School or Below</td><td>female              </td><td>NA                  </td></tr>\n",
       "\t<tr><td>xqd20160023         </td><td>PAIDOFF             </td><td>1000                </td><td>30                  </td><td>9/10/2016           </td><td>10/9/2016           </td><td>10/9/2016 23:00     </td><td>NA                  </td><td>25                  </td><td>High School or Below</td><td>male                </td><td>NA                  </td></tr>\n",
       "\t<tr><td>xqd20160024         </td><td>PAIDOFF             </td><td>1000                </td><td>15                  </td><td>9/10/2016           </td><td>9/24/2016           </td><td>9/24/2016 13:00     </td><td>NA                  </td><td>26                  </td><td>college             </td><td>male                </td><td>NA                  </td></tr>\n",
       "\t<tr><td>xqd20160025         </td><td>PAIDOFF             </td><td>1000                </td><td>30                  </td><td>9/10/2016           </td><td>10/9/2016           </td><td>10/3/2016 12:50     </td><td>NA                  </td><td>26                  </td><td>college             </td><td>male                </td><td>NA                  </td></tr>\n",
       "\t<tr><td>xqd20160026         </td><td>PAIDOFF             </td><td>1000                </td><td>30                  </td><td>9/10/2016           </td><td>10/9/2016           </td><td>9/29/2016 12:18     </td><td>NA                  </td><td>29                  </td><td>High School or Below</td><td>male                </td><td>NA                  </td></tr>\n",
       "\t<tr><td>xqd20160027         </td><td>PAIDOFF             </td><td> 800                </td><td>15                  </td><td>9/10/2016           </td><td>9/24/2016           </td><td>9/21/2016 20:16     </td><td>NA                  </td><td>39                  </td><td>Bechalor            </td><td>male                </td><td>NA                  </td></tr>\n",
       "\t<tr><td>xqd20170088         </td><td>PAIDOFF             </td><td>1000                </td><td>15                  </td><td>9/10/2016           </td><td>9/24/2016           </td><td>9/23/2016 8:21      </td><td>NA                  </td><td>34                  </td><td>Bechalor            </td><td>male                </td><td>NA                  </td></tr>\n",
       "\t<tr><td>xqd20160029         </td><td>PAIDOFF             </td><td>1000                </td><td>30                  </td><td>9/11/2016           </td><td>10/10/2016          </td><td>9/22/2016 19:17     </td><td>NA                  </td><td>31                  </td><td>college             </td><td>male                </td><td>NA                  </td></tr>\n",
       "\t<tr><td>xqd20160030         </td><td>PAIDOFF             </td><td>1000                </td><td>30                  </td><td>9/11/2016           </td><td>10/10/2016          </td><td>10/9/2016 17:33     </td><td>NA                  </td><td>33                  </td><td>college             </td><td>male                </td><td>NA                  </td></tr>\n",
       "\t<tr><td>...</td><td>...</td><td>...</td><td>...</td><td>...</td><td>...</td><td>...</td><td>...</td><td>...</td><td>...</td><td>...</td><td>...</td></tr>\n",
       "\t<tr><td>xqd20160471         </td><td>COLLECTION_PAIDOFF  </td><td>1000                </td><td>15                  </td><td>9/12/2016           </td><td>9/26/2016           </td><td>9/28/2016 15:02     </td><td> 2                  </td><td>32                  </td><td>High School or Below</td><td>male                </td><td>NA                  </td></tr>\n",
       "\t<tr><td>xqd20160472         </td><td>COLLECTION_PAIDOFF  </td><td>1000                </td><td>30                  </td><td>9/12/2016           </td><td>10/11/2016          </td><td>11/4/2016 14:46     </td><td>24                  </td><td>27                  </td><td>Bechalor            </td><td>male                </td><td>NA                  </td></tr>\n",
       "\t<tr><td>xqd20160473         </td><td>COLLECTION_PAIDOFF  </td><td> 800                </td><td>15                  </td><td>9/12/2016           </td><td>9/26/2016           </td><td>11/16/2016 12:12    </td><td>51                  </td><td>33                  </td><td>college             </td><td>male                </td><td>NA                  </td></tr>\n",
       "\t<tr><td>xqd20160474         </td><td>COLLECTION_PAIDOFF  </td><td>1000                </td><td>30                  </td><td>9/12/2016           </td><td>10/11/2016          </td><td>10/14/2016 19:02    </td><td> 3                  </td><td>30                  </td><td>High School or Below</td><td>male                </td><td>NA                  </td></tr>\n",
       "\t<tr><td>xqd20160475         </td><td>COLLECTION_PAIDOFF  </td><td> 800                </td><td>15                  </td><td>9/12/2016           </td><td>9/26/2016           </td><td>9/28/2016 11:34     </td><td> 2                  </td><td>26                  </td><td>High School or Below</td><td>female              </td><td>NA                  </td></tr>\n",
       "\t<tr><td>xqd20160476         </td><td>COLLECTION_PAIDOFF  </td><td>1000                </td><td>30                  </td><td>9/12/2016           </td><td>10/11/2016          </td><td>11/9/2016 18:12     </td><td>29                  </td><td>35                  </td><td>college             </td><td>female              </td><td>NA                  </td></tr>\n",
       "\t<tr><td>xqd20160477         </td><td>COLLECTION_PAIDOFF  </td><td> 800                </td><td>15                  </td><td>9/12/2016           </td><td>10/26/2016          </td><td>10/31/2016 13:07    </td><td> 5                  </td><td>46                  </td><td>college             </td><td>female              </td><td>NA                  </td></tr>\n",
       "\t<tr><td>xqd20160478         </td><td>COLLECTION_PAIDOFF  </td><td>1000                </td><td>30                  </td><td>9/12/2016           </td><td>10/11/2016          </td><td>10/20/2016 17:38    </td><td> 9                  </td><td>27                  </td><td>college             </td><td>male                </td><td>NA                  </td></tr>\n",
       "\t<tr><td>xqd20160479         </td><td>COLLECTION_PAIDOFF  </td><td>1000                </td><td>15                  </td><td>9/12/2016           </td><td>10/11/2016          </td><td>11/7/2016 8:55      </td><td>27                  </td><td>22                  </td><td>High School or Below</td><td>male                </td><td>NA                  </td></tr>\n",
       "\t<tr><td>xqd20160480         </td><td>COLLECTION_PAIDOFF  </td><td>1000                </td><td>30                  </td><td>9/12/2016           </td><td>10/11/2016          </td><td>10/12/2016 18:26    </td><td> 1                  </td><td>27                  </td><td>Bechalor            </td><td>male                </td><td>NA                  </td></tr>\n",
       "\t<tr><td>xqd20160481         </td><td>COLLECTION_PAIDOFF  </td><td>1000                </td><td>15                  </td><td>9/12/2016           </td><td>9/26/2016           </td><td>10/25/2016 13:44    </td><td>29                  </td><td>30                  </td><td>Bechalor            </td><td>male                </td><td>NA                  </td></tr>\n",
       "\t<tr><td>xqd20160482         </td><td>COLLECTION_PAIDOFF  </td><td>1000                </td><td>15                  </td><td>9/12/2016           </td><td>9/26/2016           </td><td>9/29/2016 15:07     </td><td> 3                  </td><td>27                  </td><td>High School or Below</td><td>male                </td><td>NA                  </td></tr>\n",
       "\t<tr><td>xqd20160483         </td><td>COLLECTION_PAIDOFF  </td><td> 800                </td><td>15                  </td><td>9/12/2016           </td><td>9/26/2016           </td><td>9/27/2016 11:40     </td><td> 1                  </td><td>47                  </td><td>college             </td><td>male                </td><td>NA                  </td></tr>\n",
       "\t<tr><td>xqd20160484         </td><td>COLLECTION_PAIDOFF  </td><td>1000                </td><td>30                  </td><td>9/12/2016           </td><td>10/11/2016          </td><td>10/18/2016 19:08    </td><td> 7                  </td><td>30                  </td><td>college             </td><td>male                </td><td>NA                  </td></tr>\n",
       "\t<tr><td>xqd20160485         </td><td>COLLECTION_PAIDOFF  </td><td>1000                </td><td>30                  </td><td>9/12/2016           </td><td>10/11/2016          </td><td>10/15/2016 9:23     </td><td> 4                  </td><td>26                  </td><td>college             </td><td>male                </td><td>NA                  </td></tr>\n",
       "\t<tr><td>xqd20160486         </td><td>COLLECTION_PAIDOFF  </td><td>1000                </td><td>30                  </td><td>9/12/2016           </td><td>10/11/2016          </td><td>10/14/2016 10:07    </td><td> 3                  </td><td>38                  </td><td>High School or Below</td><td>male                </td><td>NA                  </td></tr>\n",
       "\t<tr><td>xqd20160487         </td><td>COLLECTION_PAIDOFF  </td><td> 800                </td><td>15                  </td><td>9/12/2016           </td><td>9/26/2016           </td><td>11/21/2016 11:36    </td><td>56                  </td><td>46                  </td><td>High School or Below</td><td>male                </td><td>NA                  </td></tr>\n",
       "\t<tr><td>xqd20160488         </td><td>COLLECTION_PAIDOFF  </td><td>1000                </td><td>30                  </td><td>9/12/2016           </td><td>10/11/2016          </td><td>10/13/2016 12:02    </td><td> 2                  </td><td>35                  </td><td>Bechalor            </td><td>male                </td><td>NA                  </td></tr>\n",
       "\t<tr><td>xqd20160489         </td><td>COLLECTION_PAIDOFF  </td><td>1000                </td><td>15                  </td><td>9/12/2016           </td><td>9/26/2016           </td><td>10/9/2016 19:30     </td><td>13                  </td><td>45                  </td><td>college             </td><td>male                </td><td>NA                  </td></tr>\n",
       "\t<tr><td>xqd20160490         </td><td>COLLECTION_PAIDOFF  </td><td>1000                </td><td>30                  </td><td>9/12/2016           </td><td>10/11/2016          </td><td>10/12/2016 18:04    </td><td> 1                  </td><td>36                  </td><td>college             </td><td>male                </td><td>NA                  </td></tr>\n",
       "\t<tr><td>xqd20160491         </td><td>COLLECTION_PAIDOFF  </td><td>1000                </td><td>30                  </td><td>9/12/2016           </td><td>10/11/2016          </td><td>10/17/2016 10:53    </td><td> 6                  </td><td>38                  </td><td>High School or Below</td><td>male                </td><td>NA                  </td></tr>\n",
       "\t<tr><td>xqd20160492         </td><td>COLLECTION_PAIDOFF  </td><td>1000                </td><td>30                  </td><td>9/12/2016           </td><td>10/11/2016          </td><td>11/9/2016 13:41     </td><td>29                  </td><td>27                  </td><td>college             </td><td>male                </td><td>NA                  </td></tr>\n",
       "\t<tr><td>xqd20160493         </td><td>COLLECTION_PAIDOFF  </td><td>1000                </td><td>30                  </td><td>9/12/2016           </td><td>10/11/2016          </td><td>10/25/2016 17:44    </td><td>14                  </td><td>27                  </td><td>Bechalor            </td><td>male                </td><td>NA                  </td></tr>\n",
       "\t<tr><td>xqd20160494         </td><td>COLLECTION_PAIDOFF  </td><td>1000                </td><td>15                  </td><td>9/12/2016           </td><td>9/26/2016           </td><td>9/29/2016 12:45     </td><td> 3                  </td><td>29                  </td><td>college             </td><td>male                </td><td>NA                  </td></tr>\n",
       "\t<tr><td>xqd20160495         </td><td>COLLECTION_PAIDOFF  </td><td>1000                </td><td>30                  </td><td>9/12/2016           </td><td>10/11/2016          </td><td>10/13/2016 14:45    </td><td> 2                  </td><td>30                  </td><td>High School or Below</td><td>male                </td><td>NA                  </td></tr>\n",
       "\t<tr><td>xqd20160496         </td><td>COLLECTION_PAIDOFF  </td><td>1000                </td><td>30                  </td><td>9/12/2016           </td><td>10/11/2016          </td><td>10/14/2016 19:08    </td><td> 3                  </td><td>28                  </td><td>High School or Below</td><td>male                </td><td>NA                  </td></tr>\n",
       "\t<tr><td>xqd20160497         </td><td>COLLECTION_PAIDOFF  </td><td>1000                </td><td>15                  </td><td>9/12/2016           </td><td>9/26/2016           </td><td>10/10/2016 20:02    </td><td>14                  </td><td>26                  </td><td>High School or Below</td><td>male                </td><td>NA                  </td></tr>\n",
       "\t<tr><td>xqd20160498         </td><td>COLLECTION_PAIDOFF  </td><td> 800                </td><td>15                  </td><td>9/12/2016           </td><td>9/26/2016           </td><td>9/29/2016 11:49     </td><td> 3                  </td><td>30                  </td><td>college             </td><td>male                </td><td>NA                  </td></tr>\n",
       "\t<tr><td>xqd20160499         </td><td>COLLECTION_PAIDOFF  </td><td>1000                </td><td>30                  </td><td>9/12/2016           </td><td>11/10/2016          </td><td>11/11/2016 22:40    </td><td> 1                  </td><td>38                  </td><td>college             </td><td>female              </td><td>NA                  </td></tr>\n",
       "\t<tr><td>xqd20160500         </td><td>COLLECTION_PAIDOFF  </td><td>1000                </td><td>30                  </td><td>9/12/2016           </td><td>10/11/2016          </td><td>10/19/2016 11:58    </td><td> 8                  </td><td>28                  </td><td>High School or Below</td><td>male                </td><td>NA                  </td></tr>\n",
       "</tbody>\n",
       "</table>\n"
      ],
      "text/latex": [
       "\\begin{tabular}{r|llllllllllll}\n",
       " Loan\\_ID & loan\\_status & Principal & terms & effective\\_date & due\\_date & paid\\_off\\_time & past\\_due\\_days & age & education & Gender & day\\_diff\\\\\n",
       "\\hline\n",
       "\t xqd20166231          & PAIDOFF              & 1000                 & 30                   & 9/8/2016             & 10/7/2016            & 9/14/2016 19:31      & NA                   & 45                   & High School or Below & male                 & NA                  \\\\\n",
       "\t xqd20168902          & PAIDOFF              & 1000                 & 30                   & 9/8/2016             & 10/7/2016            & 10/7/2016 9:00       & NA                   & 50                   & Bechalor             & female               & NA                  \\\\\n",
       "\t xqd20160003          & PAIDOFF              & 1000                 & 30                   & 9/8/2016             & 10/7/2016            & 9/25/2016 16:58      & NA                   & 33                   & Bechalor             & female               & NA                  \\\\\n",
       "\t xqd20160004          & PAIDOFF              & 1000                 & 15                   & 9/8/2016             & 9/22/2016            & 9/22/2016 20:00      & NA                   & 27                   & college              & male                 & NA                  \\\\\n",
       "\t xqd20160005          & PAIDOFF              & 1000                 & 30                   & 9/9/2016             & 10/8/2016            & 9/23/2016 21:36      & NA                   & 28                   & college              & female               & NA                  \\\\\n",
       "\t xqd20160706          & PAIDOFF              &  300                 &  7                   & 9/9/2016             & 9/15/2016            & 9/9/2016 13:45       & NA                   & 35                   & Master or Above      & male                 & NA                  \\\\\n",
       "\t xqd20160007          & PAIDOFF              & 1000                 & 30                   & 9/9/2016             & 10/8/2016            & 10/7/2016 23:07      & NA                   & 29                   & college              & male                 & NA                  \\\\\n",
       "\t xqd20160008          & PAIDOFF              & 1000                 & 30                   & 9/9/2016             & 10/8/2016            & 10/5/2016 20:33      & NA                   & 36                   & college              & male                 & NA                  \\\\\n",
       "\t xqd20160909          & PAIDOFF              & 1000                 & 30                   & 9/9/2016             & 10/8/2016            & 10/8/2016 16:00      & NA                   & 28                   & college              & male                 & NA                  \\\\\n",
       "\t xqd20160010          & PAIDOFF              &  800                 & 15                   & 9/10/2016            & 9/24/2016            & 9/24/2016 13:00      & NA                   & 26                   & college              & male                 & NA                  \\\\\n",
       "\t xqd20160011          & PAIDOFF              &  300                 &  7                   & 9/10/2016            & 9/16/2016            & 9/11/2016 19:11      & NA                   & 29                   & college              & male                 & NA                  \\\\\n",
       "\t xqd20160012          & PAIDOFF              & 1000                 & 15                   & 9/10/2016            & 10/9/2016            & 10/9/2016 16:00      & NA                   & 39                   & High School or Below & male                 & NA                  \\\\\n",
       "\t xqd20160013          & PAIDOFF              & 1000                 & 30                   & 9/10/2016            & 10/9/2016            & 10/7/2016 23:32      & NA                   & 26                   & college              & male                 & NA                  \\\\\n",
       "\t xqd20160014          & PAIDOFF              &  900                 &  7                   & 9/10/2016            & 9/16/2016            & 9/13/2016 21:57      & NA                   & 26                   & college              & female               & NA                  \\\\\n",
       "\t xqd20160015          & PAIDOFF              & 1000                 &  7                   & 9/10/2016            & 9/16/2016            & 9/15/2016 14:27      & NA                   & 27                   & High School or Below & male                 & NA                  \\\\\n",
       "\t xqd20160016          & PAIDOFF              &  800                 & 15                   & 9/10/2016            & 9/24/2016            & 9/24/2016 16:00      & NA                   & 26                   & college              & male                 & NA                  \\\\\n",
       "\t xqd20160017          & PAIDOFF              & 1000                 & 30                   & 9/10/2016            & 10/9/2016            & 9/27/2016 14:21      & NA                   & 40                   & High School or Below & male                 & NA                  \\\\\n",
       "\t xqd20160018          & PAIDOFF              & 1000                 & 15                   & 9/10/2016            & 9/24/2016            & 9/23/2016 18:49      & NA                   & 32                   & High School or Below & male                 & NA                  \\\\\n",
       "\t xqd20160019          & PAIDOFF              & 1000                 & 30                   & 9/10/2016            & 10/9/2016            & 10/5/2016 22:05      & NA                   & 32                   & High School or Below & male                 & NA                  \\\\\n",
       "\t xqd20160020          & PAIDOFF              &  800                 & 30                   & 9/10/2016            & 10/9/2016            & 9/23/2016 7:42       & NA                   & 26                   & college              & male                 & NA                  \\\\\n",
       "\t xqd20160021          & PAIDOFF              & 1000                 & 30                   & 9/10/2016            & 10/9/2016            & 10/9/2016 9:00       & NA                   & 26                   & college              & male                 & NA                  \\\\\n",
       "\t xqd20160022          & PAIDOFF              & 1000                 & 30                   & 9/10/2016            & 10/9/2016            & 10/8/2016 17:09      & NA                   & 43                   & High School or Below & female               & NA                  \\\\\n",
       "\t xqd20160023          & PAIDOFF              & 1000                 & 30                   & 9/10/2016            & 10/9/2016            & 10/9/2016 23:00      & NA                   & 25                   & High School or Below & male                 & NA                  \\\\\n",
       "\t xqd20160024          & PAIDOFF              & 1000                 & 15                   & 9/10/2016            & 9/24/2016            & 9/24/2016 13:00      & NA                   & 26                   & college              & male                 & NA                  \\\\\n",
       "\t xqd20160025          & PAIDOFF              & 1000                 & 30                   & 9/10/2016            & 10/9/2016            & 10/3/2016 12:50      & NA                   & 26                   & college              & male                 & NA                  \\\\\n",
       "\t xqd20160026          & PAIDOFF              & 1000                 & 30                   & 9/10/2016            & 10/9/2016            & 9/29/2016 12:18      & NA                   & 29                   & High School or Below & male                 & NA                  \\\\\n",
       "\t xqd20160027          & PAIDOFF              &  800                 & 15                   & 9/10/2016            & 9/24/2016            & 9/21/2016 20:16      & NA                   & 39                   & Bechalor             & male                 & NA                  \\\\\n",
       "\t xqd20170088          & PAIDOFF              & 1000                 & 15                   & 9/10/2016            & 9/24/2016            & 9/23/2016 8:21       & NA                   & 34                   & Bechalor             & male                 & NA                  \\\\\n",
       "\t xqd20160029          & PAIDOFF              & 1000                 & 30                   & 9/11/2016            & 10/10/2016           & 9/22/2016 19:17      & NA                   & 31                   & college              & male                 & NA                  \\\\\n",
       "\t xqd20160030          & PAIDOFF              & 1000                 & 30                   & 9/11/2016            & 10/10/2016           & 10/9/2016 17:33      & NA                   & 33                   & college              & male                 & NA                  \\\\\n",
       "\t ... & ... & ... & ... & ... & ... & ... & ... & ... & ... & ... & ...\\\\\n",
       "\t xqd20160471          & COLLECTION\\_PAIDOFF & 1000                 & 15                   & 9/12/2016            & 9/26/2016            & 9/28/2016 15:02      &  2                   & 32                   & High School or Below & male                 & NA                  \\\\\n",
       "\t xqd20160472          & COLLECTION\\_PAIDOFF & 1000                 & 30                   & 9/12/2016            & 10/11/2016           & 11/4/2016 14:46      & 24                   & 27                   & Bechalor             & male                 & NA                  \\\\\n",
       "\t xqd20160473          & COLLECTION\\_PAIDOFF &  800                 & 15                   & 9/12/2016            & 9/26/2016            & 11/16/2016 12:12     & 51                   & 33                   & college              & male                 & NA                  \\\\\n",
       "\t xqd20160474          & COLLECTION\\_PAIDOFF & 1000                 & 30                   & 9/12/2016            & 10/11/2016           & 10/14/2016 19:02     &  3                   & 30                   & High School or Below & male                 & NA                  \\\\\n",
       "\t xqd20160475          & COLLECTION\\_PAIDOFF &  800                 & 15                   & 9/12/2016            & 9/26/2016            & 9/28/2016 11:34      &  2                   & 26                   & High School or Below & female               & NA                  \\\\\n",
       "\t xqd20160476          & COLLECTION\\_PAIDOFF & 1000                 & 30                   & 9/12/2016            & 10/11/2016           & 11/9/2016 18:12      & 29                   & 35                   & college              & female               & NA                  \\\\\n",
       "\t xqd20160477          & COLLECTION\\_PAIDOFF &  800                 & 15                   & 9/12/2016            & 10/26/2016           & 10/31/2016 13:07     &  5                   & 46                   & college              & female               & NA                  \\\\\n",
       "\t xqd20160478          & COLLECTION\\_PAIDOFF & 1000                 & 30                   & 9/12/2016            & 10/11/2016           & 10/20/2016 17:38     &  9                   & 27                   & college              & male                 & NA                  \\\\\n",
       "\t xqd20160479          & COLLECTION\\_PAIDOFF & 1000                 & 15                   & 9/12/2016            & 10/11/2016           & 11/7/2016 8:55       & 27                   & 22                   & High School or Below & male                 & NA                  \\\\\n",
       "\t xqd20160480          & COLLECTION\\_PAIDOFF & 1000                 & 30                   & 9/12/2016            & 10/11/2016           & 10/12/2016 18:26     &  1                   & 27                   & Bechalor             & male                 & NA                  \\\\\n",
       "\t xqd20160481          & COLLECTION\\_PAIDOFF & 1000                 & 15                   & 9/12/2016            & 9/26/2016            & 10/25/2016 13:44     & 29                   & 30                   & Bechalor             & male                 & NA                  \\\\\n",
       "\t xqd20160482          & COLLECTION\\_PAIDOFF & 1000                 & 15                   & 9/12/2016            & 9/26/2016            & 9/29/2016 15:07      &  3                   & 27                   & High School or Below & male                 & NA                  \\\\\n",
       "\t xqd20160483          & COLLECTION\\_PAIDOFF &  800                 & 15                   & 9/12/2016            & 9/26/2016            & 9/27/2016 11:40      &  1                   & 47                   & college              & male                 & NA                  \\\\\n",
       "\t xqd20160484          & COLLECTION\\_PAIDOFF & 1000                 & 30                   & 9/12/2016            & 10/11/2016           & 10/18/2016 19:08     &  7                   & 30                   & college              & male                 & NA                  \\\\\n",
       "\t xqd20160485          & COLLECTION\\_PAIDOFF & 1000                 & 30                   & 9/12/2016            & 10/11/2016           & 10/15/2016 9:23      &  4                   & 26                   & college              & male                 & NA                  \\\\\n",
       "\t xqd20160486          & COLLECTION\\_PAIDOFF & 1000                 & 30                   & 9/12/2016            & 10/11/2016           & 10/14/2016 10:07     &  3                   & 38                   & High School or Below & male                 & NA                  \\\\\n",
       "\t xqd20160487          & COLLECTION\\_PAIDOFF &  800                 & 15                   & 9/12/2016            & 9/26/2016            & 11/21/2016 11:36     & 56                   & 46                   & High School or Below & male                 & NA                  \\\\\n",
       "\t xqd20160488          & COLLECTION\\_PAIDOFF & 1000                 & 30                   & 9/12/2016            & 10/11/2016           & 10/13/2016 12:02     &  2                   & 35                   & Bechalor             & male                 & NA                  \\\\\n",
       "\t xqd20160489          & COLLECTION\\_PAIDOFF & 1000                 & 15                   & 9/12/2016            & 9/26/2016            & 10/9/2016 19:30      & 13                   & 45                   & college              & male                 & NA                  \\\\\n",
       "\t xqd20160490          & COLLECTION\\_PAIDOFF & 1000                 & 30                   & 9/12/2016            & 10/11/2016           & 10/12/2016 18:04     &  1                   & 36                   & college              & male                 & NA                  \\\\\n",
       "\t xqd20160491          & COLLECTION\\_PAIDOFF & 1000                 & 30                   & 9/12/2016            & 10/11/2016           & 10/17/2016 10:53     &  6                   & 38                   & High School or Below & male                 & NA                  \\\\\n",
       "\t xqd20160492          & COLLECTION\\_PAIDOFF & 1000                 & 30                   & 9/12/2016            & 10/11/2016           & 11/9/2016 13:41      & 29                   & 27                   & college              & male                 & NA                  \\\\\n",
       "\t xqd20160493          & COLLECTION\\_PAIDOFF & 1000                 & 30                   & 9/12/2016            & 10/11/2016           & 10/25/2016 17:44     & 14                   & 27                   & Bechalor             & male                 & NA                  \\\\\n",
       "\t xqd20160494          & COLLECTION\\_PAIDOFF & 1000                 & 15                   & 9/12/2016            & 9/26/2016            & 9/29/2016 12:45      &  3                   & 29                   & college              & male                 & NA                  \\\\\n",
       "\t xqd20160495          & COLLECTION\\_PAIDOFF & 1000                 & 30                   & 9/12/2016            & 10/11/2016           & 10/13/2016 14:45     &  2                   & 30                   & High School or Below & male                 & NA                  \\\\\n",
       "\t xqd20160496          & COLLECTION\\_PAIDOFF & 1000                 & 30                   & 9/12/2016            & 10/11/2016           & 10/14/2016 19:08     &  3                   & 28                   & High School or Below & male                 & NA                  \\\\\n",
       "\t xqd20160497          & COLLECTION\\_PAIDOFF & 1000                 & 15                   & 9/12/2016            & 9/26/2016            & 10/10/2016 20:02     & 14                   & 26                   & High School or Below & male                 & NA                  \\\\\n",
       "\t xqd20160498          & COLLECTION\\_PAIDOFF &  800                 & 15                   & 9/12/2016            & 9/26/2016            & 9/29/2016 11:49      &  3                   & 30                   & college              & male                 & NA                  \\\\\n",
       "\t xqd20160499          & COLLECTION\\_PAIDOFF & 1000                 & 30                   & 9/12/2016            & 11/10/2016           & 11/11/2016 22:40     &  1                   & 38                   & college              & female               & NA                  \\\\\n",
       "\t xqd20160500          & COLLECTION\\_PAIDOFF & 1000                 & 30                   & 9/12/2016            & 10/11/2016           & 10/19/2016 11:58     &  8                   & 28                   & High School or Below & male                 & NA                  \\\\\n",
       "\\end{tabular}\n"
      ],
      "text/markdown": [
       "\n",
       "Loan_ID | loan_status | Principal | terms | effective_date | due_date | paid_off_time | past_due_days | age | education | Gender | day_diff | \n",
       "|---|---|---|---|---|---|---|---|---|---|---|---|---|---|---|---|---|---|---|---|---|---|---|---|---|---|---|---|---|---|---|---|---|---|---|---|---|---|---|---|---|---|---|---|---|---|---|---|---|---|---|---|---|---|---|---|---|---|---|---|---|\n",
       "| xqd20166231          | PAIDOFF              | 1000                 | 30                   | 9/8/2016             | 10/7/2016            | 9/14/2016 19:31      | NA                   | 45                   | High School or Below | male                 | NA                   | \n",
       "| xqd20168902          | PAIDOFF              | 1000                 | 30                   | 9/8/2016             | 10/7/2016            | 10/7/2016 9:00       | NA                   | 50                   | Bechalor             | female               | NA                   | \n",
       "| xqd20160003          | PAIDOFF              | 1000                 | 30                   | 9/8/2016             | 10/7/2016            | 9/25/2016 16:58      | NA                   | 33                   | Bechalor             | female               | NA                   | \n",
       "| xqd20160004          | PAIDOFF              | 1000                 | 15                   | 9/8/2016             | 9/22/2016            | 9/22/2016 20:00      | NA                   | 27                   | college              | male                 | NA                   | \n",
       "| xqd20160005          | PAIDOFF              | 1000                 | 30                   | 9/9/2016             | 10/8/2016            | 9/23/2016 21:36      | NA                   | 28                   | college              | female               | NA                   | \n",
       "| xqd20160706          | PAIDOFF              |  300                 |  7                   | 9/9/2016             | 9/15/2016            | 9/9/2016 13:45       | NA                   | 35                   | Master or Above      | male                 | NA                   | \n",
       "| xqd20160007          | PAIDOFF              | 1000                 | 30                   | 9/9/2016             | 10/8/2016            | 10/7/2016 23:07      | NA                   | 29                   | college              | male                 | NA                   | \n",
       "| xqd20160008          | PAIDOFF              | 1000                 | 30                   | 9/9/2016             | 10/8/2016            | 10/5/2016 20:33      | NA                   | 36                   | college              | male                 | NA                   | \n",
       "| xqd20160909          | PAIDOFF              | 1000                 | 30                   | 9/9/2016             | 10/8/2016            | 10/8/2016 16:00      | NA                   | 28                   | college              | male                 | NA                   | \n",
       "| xqd20160010          | PAIDOFF              |  800                 | 15                   | 9/10/2016            | 9/24/2016            | 9/24/2016 13:00      | NA                   | 26                   | college              | male                 | NA                   | \n",
       "| xqd20160011          | PAIDOFF              |  300                 |  7                   | 9/10/2016            | 9/16/2016            | 9/11/2016 19:11      | NA                   | 29                   | college              | male                 | NA                   | \n",
       "| xqd20160012          | PAIDOFF              | 1000                 | 15                   | 9/10/2016            | 10/9/2016            | 10/9/2016 16:00      | NA                   | 39                   | High School or Below | male                 | NA                   | \n",
       "| xqd20160013          | PAIDOFF              | 1000                 | 30                   | 9/10/2016            | 10/9/2016            | 10/7/2016 23:32      | NA                   | 26                   | college              | male                 | NA                   | \n",
       "| xqd20160014          | PAIDOFF              |  900                 |  7                   | 9/10/2016            | 9/16/2016            | 9/13/2016 21:57      | NA                   | 26                   | college              | female               | NA                   | \n",
       "| xqd20160015          | PAIDOFF              | 1000                 |  7                   | 9/10/2016            | 9/16/2016            | 9/15/2016 14:27      | NA                   | 27                   | High School or Below | male                 | NA                   | \n",
       "| xqd20160016          | PAIDOFF              |  800                 | 15                   | 9/10/2016            | 9/24/2016            | 9/24/2016 16:00      | NA                   | 26                   | college              | male                 | NA                   | \n",
       "| xqd20160017          | PAIDOFF              | 1000                 | 30                   | 9/10/2016            | 10/9/2016            | 9/27/2016 14:21      | NA                   | 40                   | High School or Below | male                 | NA                   | \n",
       "| xqd20160018          | PAIDOFF              | 1000                 | 15                   | 9/10/2016            | 9/24/2016            | 9/23/2016 18:49      | NA                   | 32                   | High School or Below | male                 | NA                   | \n",
       "| xqd20160019          | PAIDOFF              | 1000                 | 30                   | 9/10/2016            | 10/9/2016            | 10/5/2016 22:05      | NA                   | 32                   | High School or Below | male                 | NA                   | \n",
       "| xqd20160020          | PAIDOFF              |  800                 | 30                   | 9/10/2016            | 10/9/2016            | 9/23/2016 7:42       | NA                   | 26                   | college              | male                 | NA                   | \n",
       "| xqd20160021          | PAIDOFF              | 1000                 | 30                   | 9/10/2016            | 10/9/2016            | 10/9/2016 9:00       | NA                   | 26                   | college              | male                 | NA                   | \n",
       "| xqd20160022          | PAIDOFF              | 1000                 | 30                   | 9/10/2016            | 10/9/2016            | 10/8/2016 17:09      | NA                   | 43                   | High School or Below | female               | NA                   | \n",
       "| xqd20160023          | PAIDOFF              | 1000                 | 30                   | 9/10/2016            | 10/9/2016            | 10/9/2016 23:00      | NA                   | 25                   | High School or Below | male                 | NA                   | \n",
       "| xqd20160024          | PAIDOFF              | 1000                 | 15                   | 9/10/2016            | 9/24/2016            | 9/24/2016 13:00      | NA                   | 26                   | college              | male                 | NA                   | \n",
       "| xqd20160025          | PAIDOFF              | 1000                 | 30                   | 9/10/2016            | 10/9/2016            | 10/3/2016 12:50      | NA                   | 26                   | college              | male                 | NA                   | \n",
       "| xqd20160026          | PAIDOFF              | 1000                 | 30                   | 9/10/2016            | 10/9/2016            | 9/29/2016 12:18      | NA                   | 29                   | High School or Below | male                 | NA                   | \n",
       "| xqd20160027          | PAIDOFF              |  800                 | 15                   | 9/10/2016            | 9/24/2016            | 9/21/2016 20:16      | NA                   | 39                   | Bechalor             | male                 | NA                   | \n",
       "| xqd20170088          | PAIDOFF              | 1000                 | 15                   | 9/10/2016            | 9/24/2016            | 9/23/2016 8:21       | NA                   | 34                   | Bechalor             | male                 | NA                   | \n",
       "| xqd20160029          | PAIDOFF              | 1000                 | 30                   | 9/11/2016            | 10/10/2016           | 9/22/2016 19:17      | NA                   | 31                   | college              | male                 | NA                   | \n",
       "| xqd20160030          | PAIDOFF              | 1000                 | 30                   | 9/11/2016            | 10/10/2016           | 10/9/2016 17:33      | NA                   | 33                   | college              | male                 | NA                   | \n",
       "| ... | ... | ... | ... | ... | ... | ... | ... | ... | ... | ... | ... | \n",
       "| xqd20160471          | COLLECTION_PAIDOFF   | 1000                 | 15                   | 9/12/2016            | 9/26/2016            | 9/28/2016 15:02      |  2                   | 32                   | High School or Below | male                 | NA                   | \n",
       "| xqd20160472          | COLLECTION_PAIDOFF   | 1000                 | 30                   | 9/12/2016            | 10/11/2016           | 11/4/2016 14:46      | 24                   | 27                   | Bechalor             | male                 | NA                   | \n",
       "| xqd20160473          | COLLECTION_PAIDOFF   |  800                 | 15                   | 9/12/2016            | 9/26/2016            | 11/16/2016 12:12     | 51                   | 33                   | college              | male                 | NA                   | \n",
       "| xqd20160474          | COLLECTION_PAIDOFF   | 1000                 | 30                   | 9/12/2016            | 10/11/2016           | 10/14/2016 19:02     |  3                   | 30                   | High School or Below | male                 | NA                   | \n",
       "| xqd20160475          | COLLECTION_PAIDOFF   |  800                 | 15                   | 9/12/2016            | 9/26/2016            | 9/28/2016 11:34      |  2                   | 26                   | High School or Below | female               | NA                   | \n",
       "| xqd20160476          | COLLECTION_PAIDOFF   | 1000                 | 30                   | 9/12/2016            | 10/11/2016           | 11/9/2016 18:12      | 29                   | 35                   | college              | female               | NA                   | \n",
       "| xqd20160477          | COLLECTION_PAIDOFF   |  800                 | 15                   | 9/12/2016            | 10/26/2016           | 10/31/2016 13:07     |  5                   | 46                   | college              | female               | NA                   | \n",
       "| xqd20160478          | COLLECTION_PAIDOFF   | 1000                 | 30                   | 9/12/2016            | 10/11/2016           | 10/20/2016 17:38     |  9                   | 27                   | college              | male                 | NA                   | \n",
       "| xqd20160479          | COLLECTION_PAIDOFF   | 1000                 | 15                   | 9/12/2016            | 10/11/2016           | 11/7/2016 8:55       | 27                   | 22                   | High School or Below | male                 | NA                   | \n",
       "| xqd20160480          | COLLECTION_PAIDOFF   | 1000                 | 30                   | 9/12/2016            | 10/11/2016           | 10/12/2016 18:26     |  1                   | 27                   | Bechalor             | male                 | NA                   | \n",
       "| xqd20160481          | COLLECTION_PAIDOFF   | 1000                 | 15                   | 9/12/2016            | 9/26/2016            | 10/25/2016 13:44     | 29                   | 30                   | Bechalor             | male                 | NA                   | \n",
       "| xqd20160482          | COLLECTION_PAIDOFF   | 1000                 | 15                   | 9/12/2016            | 9/26/2016            | 9/29/2016 15:07      |  3                   | 27                   | High School or Below | male                 | NA                   | \n",
       "| xqd20160483          | COLLECTION_PAIDOFF   |  800                 | 15                   | 9/12/2016            | 9/26/2016            | 9/27/2016 11:40      |  1                   | 47                   | college              | male                 | NA                   | \n",
       "| xqd20160484          | COLLECTION_PAIDOFF   | 1000                 | 30                   | 9/12/2016            | 10/11/2016           | 10/18/2016 19:08     |  7                   | 30                   | college              | male                 | NA                   | \n",
       "| xqd20160485          | COLLECTION_PAIDOFF   | 1000                 | 30                   | 9/12/2016            | 10/11/2016           | 10/15/2016 9:23      |  4                   | 26                   | college              | male                 | NA                   | \n",
       "| xqd20160486          | COLLECTION_PAIDOFF   | 1000                 | 30                   | 9/12/2016            | 10/11/2016           | 10/14/2016 10:07     |  3                   | 38                   | High School or Below | male                 | NA                   | \n",
       "| xqd20160487          | COLLECTION_PAIDOFF   |  800                 | 15                   | 9/12/2016            | 9/26/2016            | 11/21/2016 11:36     | 56                   | 46                   | High School or Below | male                 | NA                   | \n",
       "| xqd20160488          | COLLECTION_PAIDOFF   | 1000                 | 30                   | 9/12/2016            | 10/11/2016           | 10/13/2016 12:02     |  2                   | 35                   | Bechalor             | male                 | NA                   | \n",
       "| xqd20160489          | COLLECTION_PAIDOFF   | 1000                 | 15                   | 9/12/2016            | 9/26/2016            | 10/9/2016 19:30      | 13                   | 45                   | college              | male                 | NA                   | \n",
       "| xqd20160490          | COLLECTION_PAIDOFF   | 1000                 | 30                   | 9/12/2016            | 10/11/2016           | 10/12/2016 18:04     |  1                   | 36                   | college              | male                 | NA                   | \n",
       "| xqd20160491          | COLLECTION_PAIDOFF   | 1000                 | 30                   | 9/12/2016            | 10/11/2016           | 10/17/2016 10:53     |  6                   | 38                   | High School or Below | male                 | NA                   | \n",
       "| xqd20160492          | COLLECTION_PAIDOFF   | 1000                 | 30                   | 9/12/2016            | 10/11/2016           | 11/9/2016 13:41      | 29                   | 27                   | college              | male                 | NA                   | \n",
       "| xqd20160493          | COLLECTION_PAIDOFF   | 1000                 | 30                   | 9/12/2016            | 10/11/2016           | 10/25/2016 17:44     | 14                   | 27                   | Bechalor             | male                 | NA                   | \n",
       "| xqd20160494          | COLLECTION_PAIDOFF   | 1000                 | 15                   | 9/12/2016            | 9/26/2016            | 9/29/2016 12:45      |  3                   | 29                   | college              | male                 | NA                   | \n",
       "| xqd20160495          | COLLECTION_PAIDOFF   | 1000                 | 30                   | 9/12/2016            | 10/11/2016           | 10/13/2016 14:45     |  2                   | 30                   | High School or Below | male                 | NA                   | \n",
       "| xqd20160496          | COLLECTION_PAIDOFF   | 1000                 | 30                   | 9/12/2016            | 10/11/2016           | 10/14/2016 19:08     |  3                   | 28                   | High School or Below | male                 | NA                   | \n",
       "| xqd20160497          | COLLECTION_PAIDOFF   | 1000                 | 15                   | 9/12/2016            | 9/26/2016            | 10/10/2016 20:02     | 14                   | 26                   | High School or Below | male                 | NA                   | \n",
       "| xqd20160498          | COLLECTION_PAIDOFF   |  800                 | 15                   | 9/12/2016            | 9/26/2016            | 9/29/2016 11:49      |  3                   | 30                   | college              | male                 | NA                   | \n",
       "| xqd20160499          | COLLECTION_PAIDOFF   | 1000                 | 30                   | 9/12/2016            | 11/10/2016           | 11/11/2016 22:40     |  1                   | 38                   | college              | female               | NA                   | \n",
       "| xqd20160500          | COLLECTION_PAIDOFF   | 1000                 | 30                   | 9/12/2016            | 10/11/2016           | 10/19/2016 11:58     |  8                   | 28                   | High School or Below | male                 | NA                   | \n",
       "\n",
       "\n"
      ],
      "text/plain": [
       "    Loan_ID     loan_status        Principal terms effective_date due_date  \n",
       "1   xqd20166231 PAIDOFF            1000      30    9/8/2016       10/7/2016 \n",
       "2   xqd20168902 PAIDOFF            1000      30    9/8/2016       10/7/2016 \n",
       "3   xqd20160003 PAIDOFF            1000      30    9/8/2016       10/7/2016 \n",
       "4   xqd20160004 PAIDOFF            1000      15    9/8/2016       9/22/2016 \n",
       "5   xqd20160005 PAIDOFF            1000      30    9/9/2016       10/8/2016 \n",
       "6   xqd20160706 PAIDOFF             300       7    9/9/2016       9/15/2016 \n",
       "7   xqd20160007 PAIDOFF            1000      30    9/9/2016       10/8/2016 \n",
       "8   xqd20160008 PAIDOFF            1000      30    9/9/2016       10/8/2016 \n",
       "9   xqd20160909 PAIDOFF            1000      30    9/9/2016       10/8/2016 \n",
       "10  xqd20160010 PAIDOFF             800      15    9/10/2016      9/24/2016 \n",
       "11  xqd20160011 PAIDOFF             300       7    9/10/2016      9/16/2016 \n",
       "12  xqd20160012 PAIDOFF            1000      15    9/10/2016      10/9/2016 \n",
       "13  xqd20160013 PAIDOFF            1000      30    9/10/2016      10/9/2016 \n",
       "14  xqd20160014 PAIDOFF             900       7    9/10/2016      9/16/2016 \n",
       "15  xqd20160015 PAIDOFF            1000       7    9/10/2016      9/16/2016 \n",
       "16  xqd20160016 PAIDOFF             800      15    9/10/2016      9/24/2016 \n",
       "17  xqd20160017 PAIDOFF            1000      30    9/10/2016      10/9/2016 \n",
       "18  xqd20160018 PAIDOFF            1000      15    9/10/2016      9/24/2016 \n",
       "19  xqd20160019 PAIDOFF            1000      30    9/10/2016      10/9/2016 \n",
       "20  xqd20160020 PAIDOFF             800      30    9/10/2016      10/9/2016 \n",
       "21  xqd20160021 PAIDOFF            1000      30    9/10/2016      10/9/2016 \n",
       "22  xqd20160022 PAIDOFF            1000      30    9/10/2016      10/9/2016 \n",
       "23  xqd20160023 PAIDOFF            1000      30    9/10/2016      10/9/2016 \n",
       "24  xqd20160024 PAIDOFF            1000      15    9/10/2016      9/24/2016 \n",
       "25  xqd20160025 PAIDOFF            1000      30    9/10/2016      10/9/2016 \n",
       "26  xqd20160026 PAIDOFF            1000      30    9/10/2016      10/9/2016 \n",
       "27  xqd20160027 PAIDOFF             800      15    9/10/2016      9/24/2016 \n",
       "28  xqd20170088 PAIDOFF            1000      15    9/10/2016      9/24/2016 \n",
       "29  xqd20160029 PAIDOFF            1000      30    9/11/2016      10/10/2016\n",
       "30  xqd20160030 PAIDOFF            1000      30    9/11/2016      10/10/2016\n",
       "... ...         ...                ...       ...   ...            ...       \n",
       "471 xqd20160471 COLLECTION_PAIDOFF 1000      15    9/12/2016      9/26/2016 \n",
       "472 xqd20160472 COLLECTION_PAIDOFF 1000      30    9/12/2016      10/11/2016\n",
       "473 xqd20160473 COLLECTION_PAIDOFF  800      15    9/12/2016      9/26/2016 \n",
       "474 xqd20160474 COLLECTION_PAIDOFF 1000      30    9/12/2016      10/11/2016\n",
       "475 xqd20160475 COLLECTION_PAIDOFF  800      15    9/12/2016      9/26/2016 \n",
       "476 xqd20160476 COLLECTION_PAIDOFF 1000      30    9/12/2016      10/11/2016\n",
       "477 xqd20160477 COLLECTION_PAIDOFF  800      15    9/12/2016      10/26/2016\n",
       "478 xqd20160478 COLLECTION_PAIDOFF 1000      30    9/12/2016      10/11/2016\n",
       "479 xqd20160479 COLLECTION_PAIDOFF 1000      15    9/12/2016      10/11/2016\n",
       "480 xqd20160480 COLLECTION_PAIDOFF 1000      30    9/12/2016      10/11/2016\n",
       "481 xqd20160481 COLLECTION_PAIDOFF 1000      15    9/12/2016      9/26/2016 \n",
       "482 xqd20160482 COLLECTION_PAIDOFF 1000      15    9/12/2016      9/26/2016 \n",
       "483 xqd20160483 COLLECTION_PAIDOFF  800      15    9/12/2016      9/26/2016 \n",
       "484 xqd20160484 COLLECTION_PAIDOFF 1000      30    9/12/2016      10/11/2016\n",
       "485 xqd20160485 COLLECTION_PAIDOFF 1000      30    9/12/2016      10/11/2016\n",
       "486 xqd20160486 COLLECTION_PAIDOFF 1000      30    9/12/2016      10/11/2016\n",
       "487 xqd20160487 COLLECTION_PAIDOFF  800      15    9/12/2016      9/26/2016 \n",
       "488 xqd20160488 COLLECTION_PAIDOFF 1000      30    9/12/2016      10/11/2016\n",
       "489 xqd20160489 COLLECTION_PAIDOFF 1000      15    9/12/2016      9/26/2016 \n",
       "490 xqd20160490 COLLECTION_PAIDOFF 1000      30    9/12/2016      10/11/2016\n",
       "491 xqd20160491 COLLECTION_PAIDOFF 1000      30    9/12/2016      10/11/2016\n",
       "492 xqd20160492 COLLECTION_PAIDOFF 1000      30    9/12/2016      10/11/2016\n",
       "493 xqd20160493 COLLECTION_PAIDOFF 1000      30    9/12/2016      10/11/2016\n",
       "494 xqd20160494 COLLECTION_PAIDOFF 1000      15    9/12/2016      9/26/2016 \n",
       "495 xqd20160495 COLLECTION_PAIDOFF 1000      30    9/12/2016      10/11/2016\n",
       "496 xqd20160496 COLLECTION_PAIDOFF 1000      30    9/12/2016      10/11/2016\n",
       "497 xqd20160497 COLLECTION_PAIDOFF 1000      15    9/12/2016      9/26/2016 \n",
       "498 xqd20160498 COLLECTION_PAIDOFF  800      15    9/12/2016      9/26/2016 \n",
       "499 xqd20160499 COLLECTION_PAIDOFF 1000      30    9/12/2016      11/10/2016\n",
       "500 xqd20160500 COLLECTION_PAIDOFF 1000      30    9/12/2016      10/11/2016\n",
       "    paid_off_time    past_due_days age education            Gender day_diff\n",
       "1   9/14/2016 19:31  NA            45  High School or Below male   NA      \n",
       "2   10/7/2016 9:00   NA            50  Bechalor             female NA      \n",
       "3   9/25/2016 16:58  NA            33  Bechalor             female NA      \n",
       "4   9/22/2016 20:00  NA            27  college              male   NA      \n",
       "5   9/23/2016 21:36  NA            28  college              female NA      \n",
       "6   9/9/2016 13:45   NA            35  Master or Above      male   NA      \n",
       "7   10/7/2016 23:07  NA            29  college              male   NA      \n",
       "8   10/5/2016 20:33  NA            36  college              male   NA      \n",
       "9   10/8/2016 16:00  NA            28  college              male   NA      \n",
       "10  9/24/2016 13:00  NA            26  college              male   NA      \n",
       "11  9/11/2016 19:11  NA            29  college              male   NA      \n",
       "12  10/9/2016 16:00  NA            39  High School or Below male   NA      \n",
       "13  10/7/2016 23:32  NA            26  college              male   NA      \n",
       "14  9/13/2016 21:57  NA            26  college              female NA      \n",
       "15  9/15/2016 14:27  NA            27  High School or Below male   NA      \n",
       "16  9/24/2016 16:00  NA            26  college              male   NA      \n",
       "17  9/27/2016 14:21  NA            40  High School or Below male   NA      \n",
       "18  9/23/2016 18:49  NA            32  High School or Below male   NA      \n",
       "19  10/5/2016 22:05  NA            32  High School or Below male   NA      \n",
       "20  9/23/2016 7:42   NA            26  college              male   NA      \n",
       "21  10/9/2016 9:00   NA            26  college              male   NA      \n",
       "22  10/8/2016 17:09  NA            43  High School or Below female NA      \n",
       "23  10/9/2016 23:00  NA            25  High School or Below male   NA      \n",
       "24  9/24/2016 13:00  NA            26  college              male   NA      \n",
       "25  10/3/2016 12:50  NA            26  college              male   NA      \n",
       "26  9/29/2016 12:18  NA            29  High School or Below male   NA      \n",
       "27  9/21/2016 20:16  NA            39  Bechalor             male   NA      \n",
       "28  9/23/2016 8:21   NA            34  Bechalor             male   NA      \n",
       "29  9/22/2016 19:17  NA            31  college              male   NA      \n",
       "30  10/9/2016 17:33  NA            33  college              male   NA      \n",
       "... ...              ...           ... ...                  ...    ...     \n",
       "471 9/28/2016 15:02   2            32  High School or Below male   NA      \n",
       "472 11/4/2016 14:46  24            27  Bechalor             male   NA      \n",
       "473 11/16/2016 12:12 51            33  college              male   NA      \n",
       "474 10/14/2016 19:02  3            30  High School or Below male   NA      \n",
       "475 9/28/2016 11:34   2            26  High School or Below female NA      \n",
       "476 11/9/2016 18:12  29            35  college              female NA      \n",
       "477 10/31/2016 13:07  5            46  college              female NA      \n",
       "478 10/20/2016 17:38  9            27  college              male   NA      \n",
       "479 11/7/2016 8:55   27            22  High School or Below male   NA      \n",
       "480 10/12/2016 18:26  1            27  Bechalor             male   NA      \n",
       "481 10/25/2016 13:44 29            30  Bechalor             male   NA      \n",
       "482 9/29/2016 15:07   3            27  High School or Below male   NA      \n",
       "483 9/27/2016 11:40   1            47  college              male   NA      \n",
       "484 10/18/2016 19:08  7            30  college              male   NA      \n",
       "485 10/15/2016 9:23   4            26  college              male   NA      \n",
       "486 10/14/2016 10:07  3            38  High School or Below male   NA      \n",
       "487 11/21/2016 11:36 56            46  High School or Below male   NA      \n",
       "488 10/13/2016 12:02  2            35  Bechalor             male   NA      \n",
       "489 10/9/2016 19:30  13            45  college              male   NA      \n",
       "490 10/12/2016 18:04  1            36  college              male   NA      \n",
       "491 10/17/2016 10:53  6            38  High School or Below male   NA      \n",
       "492 11/9/2016 13:41  29            27  college              male   NA      \n",
       "493 10/25/2016 17:44 14            27  Bechalor             male   NA      \n",
       "494 9/29/2016 12:45   3            29  college              male   NA      \n",
       "495 10/13/2016 14:45  2            30  High School or Below male   NA      \n",
       "496 10/14/2016 19:08  3            28  High School or Below male   NA      \n",
       "497 10/10/2016 20:02 14            26  High School or Below male   NA      \n",
       "498 9/29/2016 11:49   3            30  college              male   NA      \n",
       "499 11/11/2016 22:40  1            38  college              female NA      \n",
       "500 10/19/2016 11:58  8            28  High School or Below male   NA      "
      ]
     },
     "metadata": {},
     "output_type": "display_data"
    }
   ],
   "source": [
    "data %>% mutate(day_diff = difftime(lubridate::mdy(as.character(effective_date)), lubridate::mdy(as.character(paid_off_time)),  units = \"days\") %>% as.numeric)"
   ]
  },
  {
   "cell_type": "code",
   "execution_count": null,
   "metadata": {
    "collapsed": true
   },
   "outputs": [],
   "source": [
    "data %>% mutate(date_diff)"
   ]
  }
 ],
 "metadata": {
  "kernelspec": {
   "display_name": "R",
   "language": "R",
   "name": "ir"
  },
  "language_info": {
   "codemirror_mode": "r",
   "file_extension": ".r",
   "mimetype": "text/x-r-source",
   "name": "R",
   "pygments_lexer": "r",
   "version": "3.3.2"
  }
 },
 "nbformat": 4,
 "nbformat_minor": 2
}
