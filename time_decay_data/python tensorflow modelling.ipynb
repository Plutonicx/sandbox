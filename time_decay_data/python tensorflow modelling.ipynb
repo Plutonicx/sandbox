{
 "cells": [
  {
   "cell_type": "code",
   "execution_count": 1,
   "metadata": {
    "collapsed": false
   },
   "outputs": [],
   "source": [
    "import numpy as np\n",
    "import pandas as pd\n",
    "import feather\n",
    "from tqdm import tqdm\n",
    "import pickle\n",
    "import tensorflow as tf"
   ]
  },
  {
   "cell_type": "code",
   "execution_count": 2,
   "metadata": {
    "collapsed": true
   },
   "outputs": [],
   "source": [
    "fitted_factors = np.load('fitted_factors.npy')"
   ]
  },
  {
   "cell_type": "code",
   "execution_count": 3,
   "metadata": {
    "collapsed": true
   },
   "outputs": [],
   "source": [
    "predictor = np.load('predictor.npy')\n",
    "time = np.load('time.npy')"
   ]
  },
  {
   "cell_type": "markdown",
   "metadata": {},
   "source": [
    "# Model as:\n",
    "# $P = \\sigma \\left( W_{1} \\vec{x} + b_{1} \\right) \\left( 1 - \\sigma \\left( W_{2} \\vec{x} + b_{2} \\right) \\text{exp} \\left( - \\beta t \\right) \\right) $"
   ]
  },
  {
   "cell_type": "code",
   "execution_count": 6,
   "metadata": {
    "collapsed": false
   },
   "outputs": [],
   "source": [
    "n = np.shape(fitted_factors)[1]"
   ]
  },
  {
   "cell_type": "code",
   "execution_count": 22,
   "metadata": {
    "collapsed": false
   },
   "outputs": [],
   "source": [
    "X = tf.placeholder(shape=[n,1], dtype = tf.float32, name = 'Features')\n",
    "T = tf.placeholder(shape=[1,1], dtype = tf.float32, name = 'Time')"
   ]
  },
  {
   "cell_type": "code",
   "execution_count": 39,
   "metadata": {
    "collapsed": true
   },
   "outputs": [],
   "source": [
    "P = tf.placeholder(shape=[1,1], dtype = tf.float32, name = 'Probability')"
   ]
  },
  {
   "cell_type": "code",
   "execution_count": 40,
   "metadata": {
    "collapsed": true
   },
   "outputs": [],
   "source": [
    "W_1 = tf.Variable(tf.random_normal(shape=[1,n], mean=0, stddev=0.5))\n",
    "W_2 = tf.Variable(tf.random_normal(shape=[1,n], mean=0, stddev=0.5))\n",
    "\n",
    "b_1 = tf.Variable(np.random.normal(loc=0, scale=0.2))\n",
    "b_2 = tf.Variable(np.random.normal(loc=0, scale=0.2))\n",
    "\n",
    "beta = tf.Variable(np.random.normal(loc=1, scale=0.2))"
   ]
  },
  {
   "cell_type": "code",
   "execution_count": 41,
   "metadata": {
    "collapsed": false
   },
   "outputs": [],
   "source": [
    "model = tf.sigmoid(tf.matmul(W_1,X) + b_1) * (1 - tf.sigmoid(tf.matmul(W_2,X) + b_1) * tf.exp(-1*beta*T) )"
   ]
  },
  {
   "cell_type": "code",
   "execution_count": 42,
   "metadata": {
    "collapsed": true
   },
   "outputs": [],
   "source": [
    "logits = tf.log(model) - tf.log(1 - model)"
   ]
  },
  {
   "cell_type": "markdown",
   "metadata": {},
   "source": [
    "# Use cross entropy loss:"
   ]
  },
  {
   "cell_type": "code",
   "execution_count": 43,
   "metadata": {
    "collapsed": false
   },
   "outputs": [],
   "source": [
    "#loss = tf.reduce_mean(P * tf.log(model) + (1-P)*tf.log(1 - model) )\n",
    "loss = tf.nn.sigmoid_cross_entropy_with_logits(logits = logits, labels = P)\n",
    "# tf.nn.sigmoid_cross_entropy_with_logits(logits=logits,labels=Y)"
   ]
  },
  {
   "cell_type": "code",
   "execution_count": 44,
   "metadata": {
    "collapsed": true
   },
   "outputs": [],
   "source": [
    "optimizer = tf.train.GradientDescentOptimizer(learning_rate=0.00001).minimize(loss)"
   ]
  },
  {
   "cell_type": "code",
   "execution_count": 45,
   "metadata": {
    "collapsed": true
   },
   "outputs": [],
   "source": [
    "init = tf.global_variables_initializer()"
   ]
  },
  {
   "cell_type": "markdown",
   "metadata": {},
   "source": [
    "# Set up data for modelling"
   ]
  },
  {
   "cell_type": "code",
   "execution_count": 46,
   "metadata": {
    "collapsed": false
   },
   "outputs": [],
   "source": [
    "data_set = []\n",
    "for i in range(np.shape(fitted_factors)[0]):\n",
    "    data_set.append([fitted_factors[i,:],time[i],predictor[i]])"
   ]
  },
  {
   "cell_type": "code",
   "execution_count": 30,
   "metadata": {
    "collapsed": false
   },
   "outputs": [
    {
     "data": {
      "text/plain": [
       "[array([  2.90794959e+02,  -6.00083706e-02,  -6.65008546e-01,\n",
       "          2.72659285e+00,   1.94243791e+00,   2.47403117e+00,\n",
       "         -6.58250491e-01,   5.13055410e-01,  -4.99930680e-01,\n",
       "          1.26257218e-01,   2.97754009e-01,   4.59184294e-03,\n",
       "          5.88909748e-01,  -3.85458004e-01,   1.66606321e-01,\n",
       "         -7.26819547e-02,   1.25196749e-01,  -3.67919295e-01,\n",
       "          1.21020852e-01,   3.61222890e-01,   2.78953557e-02,\n",
       "         -1.78322659e-01,   8.54531530e-02,   2.24615834e-01,\n",
       "         -1.68555618e-01,  -1.92673712e-02,   2.15344204e-01,\n",
       "         -5.06857881e-02,  -8.56165415e-02,  -6.07426639e-03,\n",
       "          1.53998349e-02,   4.66719207e-02,  -1.46414359e-02,\n",
       "         -4.79104863e-02,   6.06109260e-03,  -9.26074043e-03,\n",
       "         -1.86041516e-02,   8.91403592e-03,  -4.93397846e-02,\n",
       "         -6.87029486e-02,  -8.82174785e-02,  -1.45667383e-01,\n",
       "         -3.25816279e-02,  -4.27590733e-02,  -1.26938761e-01,\n",
       "          7.74161627e-03,   6.71489835e-02,  -5.99248092e-02,\n",
       "          2.30697883e-02,   4.56316354e-03,   5.04306285e-02,\n",
       "          9.33749030e-02,   5.64521534e-02,  -2.38303331e-02,\n",
       "         -9.68744826e-02,  -5.09016531e-02,  -4.31505618e-02,\n",
       "          5.33486422e-02,  -2.43657702e-02,   1.20599598e-01,\n",
       "         -8.60536124e-02,  -7.06614158e-02,   7.89098564e-02,\n",
       "          1.29691046e-01,  -1.65970624e-02,   4.59690883e-02,\n",
       "         -1.27417413e-03,  -2.62674930e-02,  -1.50615489e-02,\n",
       "          5.31499061e-02,  -4.76278363e-02,   5.48376833e-02,\n",
       "         -3.02926296e-03,  -2.19875324e-02,   3.33873574e-02,\n",
       "         -3.88191166e-02,  -4.83338710e-02,  -7.56308671e-02,\n",
       "          1.84561008e-02,   4.10568643e-04,  -4.39292828e-02,\n",
       "          3.87495808e-02,   6.23126516e-02,  -1.24971567e-02,\n",
       "          3.85841747e-02,  -3.83342674e-02,  -4.54861746e-02,\n",
       "         -1.29484239e-02,  -5.27482911e-03,   1.44256506e-03,\n",
       "          2.25780571e-02,  -3.93598269e-02,   2.33054576e-04,\n",
       "          1.26668468e-02,  -1.40513656e-02,  -2.95505001e-02,\n",
       "         -2.82999525e-02,   6.21758702e-03,  -1.40282391e-02,\n",
       "          1.21777291e-02]), 1293.8499999999999, 0]"
      ]
     },
     "execution_count": 30,
     "metadata": {},
     "output_type": "execute_result"
    }
   ],
   "source": [
    "data_set[0]"
   ]
  },
  {
   "cell_type": "code",
   "execution_count": 54,
   "metadata": {
    "collapsed": false
   },
   "outputs": [
    {
     "name": "stdout",
     "output_type": "stream",
     "text": [
      "[[ 0.]]\n"
     ]
    }
   ],
   "source": [
    "with tf.Session() as sess:\n",
    "    sess.run(init)\n",
    "    \n",
    "    for x,t,p in data_set:\n",
    "        model_val = model.eval(feed_dict={X:np.transpose(np.matrix(x)),T:np.matrix(t),P:np.matrix(p)})\n",
    "    \n",
    "    print(model_val)\n",
    "#     for i in tqdm(range(5)):\n",
    "#         for x,t,p in data_set:\n",
    "#             sess.run(optimizer,feed_dict={X:np.transpose(np.matrix(x)),T:np.matrix(t),P:np.matrix(p)})\n",
    "    \n",
    "#     # score against data as a starting point.\n",
    "#     preds = []\n",
    "#     for x,t,p in data_set:\n",
    "#         preds.append(model.eval(feed_dict={X:np.transpose(np.matrix(x)),T:np.matrix(t),P:np.matrix(p)}))"
   ]
  },
  {
   "cell_type": "markdown",
   "metadata": {},
   "source": [
    "# Use batch processing"
   ]
  },
  {
   "cell_type": "code",
   "execution_count": null,
   "metadata": {
    "collapsed": true
   },
   "outputs": [],
   "source": []
  }
 ],
 "metadata": {
  "kernelspec": {
   "display_name": "Python 3",
   "language": "python",
   "name": "python3"
  },
  "language_info": {
   "codemirror_mode": {
    "name": "ipython",
    "version": 3
   },
   "file_extension": ".py",
   "mimetype": "text/x-python",
   "name": "python",
   "nbconvert_exporter": "python",
   "pygments_lexer": "ipython3",
   "version": "3.5.2"
  }
 },
 "nbformat": 4,
 "nbformat_minor": 2
}
